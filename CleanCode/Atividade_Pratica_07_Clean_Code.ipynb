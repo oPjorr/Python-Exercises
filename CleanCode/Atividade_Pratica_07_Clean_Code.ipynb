{
  "cells": [
    {
      "cell_type": "markdown",
      "metadata": {
        "id": "TkEQV5UlqQqn"
      },
      "source": [
        "`Clean Code` é um conceito que se refere a escrever código que é fácil de ler, entender e manter. Existem vários princípios e práticas para melhorar a qualidade deste código, como usar nomes significativos, evitar comentários desnecessários, seguir convenções de estilo, refatorar código duplicado, aplicar testes automatizados, e assim por diante.\n",
        "\n",
        "Aqui estão sete exercícios que você pode fazer para praticar o `Clean Code`. Cada exercício tem uma descrição do problema e um exemplo de código ruim. Você deve resolver os exercícios sugerindo uma solução melhorada para ele.\n"
      ]
    },
    {
      "cell_type": "markdown",
      "metadata": {
        "id": "2vPDixoFBLXL"
      },
      "source": [
        "### **Exercício 1: Nomes Significativos**\n",
        "\n",
        "> Nomes devem ser claros, precisos e consistentes. Evite usar nomes genéricos, abreviações, números mágicos ou comentários para explicar o que o código faz.\n",
        "\n",
        "#### **Problema**\n",
        "\n",
        "Escreva uma função que calcule o salário líquido de um funcionário a partir do seu salário bruto e dos impostos aplicados. Use nomes significativos para as variáveis e a função.\n",
        "\n",
        "##### **Código Ruim**"
      ]
    },
    {
      "cell_type": "code",
      "execution_count": null,
      "metadata": {
        "id": "5282o7_bAkSV"
      },
      "outputs": [],
      "source": [
        "def f(x):\n",
        "  y = 0.15 * x  # INSS\n",
        "  z = 0.275 * x  # IRPF\n",
        "  return x - y - z\n",
        "\n",
        "# Example usage:\n",
        "sb = 10000\n",
        "sl = f(sb)\n",
        "print(sl)\n"
      ]
    },
    {
      "cell_type": "markdown",
      "metadata": {
        "id": "-T-wSdthC0xs"
      },
      "source": [
        "##### **Código Melhorado**"
      ]
    },
    {
      "cell_type": "code",
      "execution_count": null,
      "metadata": {
        "id": "woOsFn0-C6SV"
      },
      "outputs": [],
      "source": [
        "def calcular_salario_liquido(salario_bruto):\n",
        "    inss = 0.15 * salario_bruto\n",
        "    irpf = 0.275 * salario_bruto\n",
        "    salario_liquido = salario_bruto - inss - irpf\n",
        "    return salario_liquido\n",
        "\n",
        "# Testes\n",
        "salario_bruto = 10000\n",
        "salario_liquido = calcular_salario_liquido(salario_bruto)\n",
        "print(salario_liquido)"
      ]
    },
    {
      "cell_type": "markdown",
      "metadata": {
        "id": "0BNKR5N2Y21p"
      },
      "source": [
        "### **Exercício 2: Comentários Desnecessários**\n",
        "\n",
        "> Comentários devem ser usados com moderação e apenas quando o código não é suficiente para expressar a intenção. Comentários devem explicar o porquê do código, não o que ele faz. Evite usar comentários para justificar decisões ruins, documentar código óbvio ou repetir o que o código já diz.\n",
        "\n",
        "#### **Problema**\n",
        "\n",
        "Escreva uma função que verifique se um número é par ou ímpar. Remova os comentários desnecessários do código.\n",
        "\n",
        "\n",
        "##### **Código Ruim**"
      ]
    },
    {
      "cell_type": "code",
      "execution_count": null,
      "metadata": {
        "id": "L5zLPY0oZk5i"
      },
      "outputs": [],
      "source": [
        "def isPar(numero):\n",
        "  # Verifica se o número é par\n",
        "  if numero % 2 == 0: # Usa o operador módulo para obter o resto da divisão por 2\n",
        "    return True # Retorna verdadeiro se o resto for zero\n",
        "  else:\n",
        "    return False # Retorna falso se o resto for diferente de zero\n",
        "\n"
      ]
    },
    {
      "cell_type": "markdown",
      "metadata": {
        "id": "QeydVN13arzl"
      },
      "source": [
        "##### **Código Melhorado**"
      ]
    },
    {
      "cell_type": "code",
      "execution_count": null,
      "metadata": {
        "id": "V68C05DsaydG"
      },
      "outputs": [],
      "source": [
        "def verifica_par(numero):\n",
        "    return numero % 2 == 0\n",
        "\n",
        "# Testes\n",
        "print(verifica_par(4))\n",
        "print(verifica_par(5))"
      ]
    },
    {
      "cell_type": "markdown",
      "metadata": {
        "id": "K3Ewj3U6bI5w"
      },
      "source": [
        "### **Exercício 3: Funções (Métodos)**\n",
        "\n",
        "> Escreva funções que sejam pequenas, simples e façam apenas uma coisa. Use nomes descritivos para as funções e os parâmetros. Opcionalmente, use `docstrings` para documentar o propósito, os parâmetros e o retorno das funções.\n",
        "\n",
        "#### **Problema**\n",
        "\n",
        "Escreva uma função que efetue as quatro operações aritméticas (i.e. soma, subtração, divisão e multiplição), recebendo como parâmetro os dois números e a operação desejada (`+`, `-`, `*` e `/`) em forma de símbolos.\n",
        "\n",
        "##### **Código Ruim**"
      ]
    },
    {
      "cell_type": "code",
      "execution_count": null,
      "metadata": {
        "id": "jJhNjsUkcdmQ"
      },
      "outputs": [],
      "source": [
        "def calc(x, y, op):\n",
        "  # faz uma operação entre dois números\n",
        "  if op == \"+\":\n",
        "    return x + y\n",
        "  elif op == \"-\":\n",
        "    return x - y\n",
        "  elif op == \"*\":\n",
        "    return x * y\n",
        "  elif op == \"/\":\n",
        "    return x / y\n",
        "  else:\n",
        "    return \"Operação inválida\"\n"
      ]
    },
    {
      "cell_type": "markdown",
      "metadata": {
        "id": "Zox8RYXDc62s"
      },
      "source": [
        "##### **Código Melhorado**"
      ]
    },
    {
      "cell_type": "code",
      "execution_count": null,
      "metadata": {
        "id": "wgbdh9dDdBvS"
      },
      "outputs": [],
      "source": [
        "def calcular(numero1, numero2, operacao):\n",
        "    if operacao == \"+\":\n",
        "        return numero1 + numero2\n",
        "    elif operacao == \"-\":\n",
        "        return numero1 - numero2\n",
        "    elif operacao == \"*\":\n",
        "        return numero1 * numero2\n",
        "    elif operacao == \"/\":\n",
        "        if numero2 == 0:\n",
        "            return \"Erro: divisão por zero.\"\n",
        "        return numero1 / numero2\n",
        "    else:\n",
        "        return \"Erro: operação inválida.\"\n",
        "\n",
        "# Testes\n",
        "resultado = calcular(10, 5, \"+\")\n",
        "print(resultado)"
      ]
    },
    {
      "cell_type": "markdown",
      "metadata": {
        "id": "aisvtxGtdmiC"
      },
      "source": [
        "### **Exercício 4: Estruturas de dados**\n",
        "\n",
        "> Use as estruturas de dados adequadas para armazenar e manipular os seus dados. Prefira listas, tuplas, dicionários e conjuntos em vez de sequências ou coleções genéricas. Aproveite as características e métodos dessas estruturas para simplificar o seu código.\n",
        "\n",
        "#### **Problema**\n",
        "\n",
        "Escreva um programa que armazene as oito notas e os nomes dos estudantes da disciplina de POO II. Calcule a média da turma e imprima os nomes e as notas daqueles ficaram acima da média.\n",
        "\n",
        "##### **Código Ruim**"
      ]
    },
    {
      "cell_type": "code",
      "execution_count": null,
      "metadata": {
        "id": "a2OE0QeJesJl"
      },
      "outputs": [],
      "source": [
        "# armazena os nomes e as notas dos alunos em uma sequência\n",
        "alunos = \"Ana\", \"Bruno\", \"Carla\", \"Daniel\", \"Eduardo\", \"Fernanda\", \"Gabriel\", \"Helena\"\n",
        "notas = 8.5, 7.0, 9.0, 6.5, 10.0, 8.0, 7.5, 9.5\n",
        "\n",
        "# calcula a média das notas dos alunos\n",
        "soma = 0\n",
        "for i in range(len(notas)):\n",
        "  soma += notas[i]\n",
        "media = soma / len(notas)\n",
        "\n",
        "# imprime os nomes e as notas dos alunos que ficaram acima da média\n",
        "for i in range(len(alunos)):\n",
        "  if notas[i] > media:\n",
        "      print(alunos[i], notas[i])\n"
      ]
    },
    {
      "cell_type": "markdown",
      "metadata": {
        "id": "C9oGH7JMe0jj"
      },
      "source": [
        "##### **Código Melhorado**"
      ]
    },
    {
      "cell_type": "code",
      "execution_count": null,
      "metadata": {
        "id": "HDdHI0Vhe4gt"
      },
      "outputs": [],
      "source": [
        "def calcular_media(notas):\n",
        "    return sum(notas) / len(notas)\n",
        "\n",
        "def alunos_acima_da_media(alunos_e_notas, media):\n",
        "    return [(nome, nota) for nome, nota in alunos_e_notas.items() if nota > media]\n",
        "\n",
        "alunos_e_notas = {\n",
        "    \"Ana\": 8.5,\n",
        "    \"Bruno\": 7.0,\n",
        "    \"Carla\": 9.0,\n",
        "    \"Daniel\": 6.5,\n",
        "    \"Eduardo\": 10.0,\n",
        "    \"Fernanda\": 8.0,\n",
        "    \"Gabriel\": 7.5,\n",
        "    \"Helena\": 9.5\n",
        "}\n",
        "\n",
        "media = calcular_media(alunos_e_notas.values())\n",
        "\n",
        "alunos_acima = alunos_acima_da_media(alunos_e_notas, media)\n",
        "\n",
        "print(f\"Média da turma: {media:.2f}\")\n",
        "print(\"Alunos acima da média:\")\n",
        "for nome, nota in alunos_acima:\n",
        "    print(f\"{nome}: {nota}\")"
      ]
    },
    {
      "cell_type": "markdown",
      "metadata": {
        "id": "k0AsZojighO9"
      },
      "source": [
        "### **Exercício 5: Espaçamento em branco**\n",
        "\n",
        "> Use espaços em branco para melhorar a legibilidade do seu código. Evite espaços extras dentro dos parênteses ou colchetes, evite espaços em branco no final das linhas, circunde os operadores binários com um espaço em cada lado e não use espaços ao redor do sinal de igual quando usado para indicar um argumento com palavra-chave.\n",
        "\n",
        "#### **Problema**\n",
        "\n",
        "Escreva duas funções que calculem a área de um círculo e o volume da esfera. Passe como parâmetro o raio.\n",
        "\n",
        "##### **Código Ruim**"
      ]
    },
    {
      "cell_type": "code",
      "execution_count": null,
      "metadata": {
        "id": "4BOsUt9AgyHA"
      },
      "outputs": [],
      "source": [
        "def area_circulo ( raio ) :\n",
        "    return 3.14159 * ( raio ** 2 ) # calcula a área de um círculo dado o raio\n",
        "\n",
        "def volume_esfera( raio ):\n",
        "    return (4 / 3) * 3.14159 * (raio ** 3) # calcula o volume de uma esfera dado o raio\n",
        "\n",
        "print(area_circulo( 5 )) # imprime a área de um círculo de raio 5\n",
        "print(volume_esfera(raio = 5)) # imprime o volume de uma esfera de raio 5\n"
      ]
    },
    {
      "cell_type": "markdown",
      "metadata": {
        "id": "8ZdUPBfIhA0W"
      },
      "source": [
        "##### **Código Melhorado**"
      ]
    },
    {
      "cell_type": "code",
      "execution_count": null,
      "metadata": {
        "id": "11DP7e0DhD2d"
      },
      "outputs": [],
      "source": [
        "def area_circulo(raio):\n",
        "    return 3.14159 * (raio ** 2)\n",
        "\n",
        "def volume_esfera(raio):\n",
        "    return (4 / 3) * 3.14159 * (raio ** 3)\n",
        "\n",
        "# Testes\n",
        "print(area_circulo(5))\n",
        "print(volume_esfera(5))"
      ]
    },
    {
      "cell_type": "markdown",
      "metadata": {
        "id": "UR1OoJ03hMh1"
      },
      "source": [
        "### **Exercício 6: Formatação de linhas**\n",
        "\n",
        "> Siga as regras do [PEP 8](https://peps.python.org/pep-0008/) para formatar as linhas do seu código. Use espaços para indentar, limite a largura das linhas a 79 caracteres, evite múltiplas instruções na mesma linha e separe as definições de funções e classes com duas linhas em branco.\n",
        "\n",
        "#### **Problema**\n",
        "\n",
        "Escreva quatro funções que calculem, respectivamente, a soma dos quadrados, a média, a variância e o desvio padrão de uma lista de dados.\n",
        "\n",
        "##### **Código Ruim**"
      ]
    },
    {
      "cell_type": "code",
      "execution_count": null,
      "metadata": {
        "id": "FJWReWs1jU-c"
      },
      "outputs": [],
      "source": [
        "def soma_quadrados(lista): return sum(x**2 for x in lista) # retorna a soma dos quadrados dos elementos da lista\n",
        "\n",
        "def media(lista): return sum(lista)/len(lista) # retorna a média dos elementos da lista\n",
        "\n",
        "def variancia(lista): m = media(lista); return soma_quadrados([x-m for x in lista])/len(lista) # retorna a variância dos elementos da lista\n",
        "\n",
        "def desvio_padrao(lista): return variancia(lista)**0.5 # retorna o desvio padrão dos elementos da lista\n"
      ]
    },
    {
      "cell_type": "markdown",
      "metadata": {
        "id": "HtMK93R4jZC-"
      },
      "source": [
        "##### **Código Melhorado**"
      ]
    },
    {
      "cell_type": "code",
      "execution_count": null,
      "metadata": {
        "id": "YvIZa8X3jcIY"
      },
      "outputs": [],
      "source": [
        "def soma_quadrados(lista):\n",
        "    return sum(x**2 for x in lista)\n",
        "\n",
        "\n",
        "def media(lista):\n",
        "    return sum(lista) / len(lista)\n",
        "\n",
        "\n",
        "def variancia(lista):\n",
        "    m = media(lista)\n",
        "    return soma_quadrados([x - m for x in lista]) / len(lista)\n",
        "\n",
        "\n",
        "def desvio_padrao(lista):\n",
        "    return variancia(lista) ** 0.5\n",
        "\n",
        "\n",
        "# Testes\n",
        "dados = [10, 20, 30, 40, 50]\n",
        "print(\"Soma dos quadrados:\", soma_quadrados(dados))\n",
        "print(\"Média:\", media(dados))\n",
        "print(\"Variância:\", variancia(dados))\n",
        "print(\"Desvio padrão:\", desvio_padrao(dados))\n"
      ]
    },
    {
      "cell_type": "markdown",
      "metadata": {
        "id": "eUof8eCTm4oK"
      },
      "source": [
        "### **Exercício 7: Funções com muitos parâmetros**\n",
        "\n",
        "> Evite funções com um grande número de parâmetros. Refatore para usar classes ou dicionários.\n",
        "\n",
        "##### **Código Ruim**"
      ]
    },
    {
      "cell_type": "code",
      "execution_count": null,
      "metadata": {
        "id": "QlZ9HiuKn-rX"
      },
      "outputs": [],
      "source": [
        "# Ruim\n",
        "def criar_pessoa(nome, idade, cidade, pais, profissao, email):\n",
        "    # Código para criar uma pessoa\n",
        "    pass"
      ]
    },
    {
      "cell_type": "markdown",
      "metadata": {
        "id": "UtTEbUHBoG1R"
      },
      "source": [
        "##### **Código Melhorado**"
      ]
    },
    {
      "cell_type": "code",
      "execution_count": null,
      "metadata": {
        "id": "sIjdAK6noB8v"
      },
      "outputs": [],
      "source": [
        "class Pessoa:\n",
        "    def __init__(self, nome, idade, cidade, pais, profissao, email):\n",
        "        self.nome = nome\n",
        "        self.idade = idade\n",
        "        self.cidade = cidade\n",
        "        self.pais = pais\n",
        "        self.profissao = profissao\n",
        "        self.email = email\n",
        "\n",
        "    def __repr__(self):\n",
        "        return (f\"Pessoa(nome={self.nome}, idade={self.idade}, cidade={self.cidade}, \"\n",
        "                f\"pais={self.pais}, profissao={self.profissao}, email={self.email})\")\n",
        "\n",
        "# Testes\n",
        "pessoa = Pessoa(\"João Silva\", 30, \"São Paulo\", \"Brasil\", \"Engenheiro\", \"joao.silva@gmail.com\")\n",
        "print(pessoa)"
      ]
    }
  ],
  "metadata": {
    "colab": {
      "provenance": []
    },
    "kernelspec": {
      "display_name": "Python 3",
      "name": "python3"
    },
    "language_info": {
      "codemirror_mode": {
        "name": "ipython",
        "version": 3
      },
      "file_extension": ".py",
      "mimetype": "text/x-python",
      "name": "python",
      "nbconvert_exporter": "python",
      "pygments_lexer": "ipython3",
      "version": "3.10.12"
    }
  },
  "nbformat": 4,
  "nbformat_minor": 0
}
