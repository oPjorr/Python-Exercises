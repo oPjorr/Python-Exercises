{
 "cells": [
  {
   "cell_type": "markdown",
   "metadata": {},
   "source": [
    "1. Observe o diagrama de classes abaixo, e implemente o que se pede.\n",
    "\n",
    "    • O padrão Observer é utilizado para realizar as operações de divisões inteiras e resto de divisão\n",
    "\n",
    "    • Cada vez que os valores no sujeito são atualizados, as operações devem ser realizadas e seus\n",
    "resultados atualizados apresentados\n",
    "\n",
    "    • É necessário colocar mais uma variável para receber valores no Sujeito Concreto (valor1, valor2)\n",
    "\n",
    "    • A assinatura do método update() deve ser desenvolvida de acordo com a necessidade da aplicação\n",
    "\n",
    "    • Acrescente mais um observador que efetue a multiplicação dos valores\n",
    "\n",
    "![Imagem Diagrama](image.png)"
   ]
  },
  {
   "cell_type": "code",
   "execution_count": null,
   "metadata": {
    "vscode": {
     "languageId": "plaintext"
    }
   },
   "outputs": [],
   "source": []
  },
  {
   "cell_type": "markdown",
   "metadata": {},
   "source": [
    "2. Suponha que temos um objeto de fonte de notícias, vamos chamá-lo de Reuters. Além disso, temos\n",
    "diferentes objetos de canal de notícias de TV que recebem notícias da Reuters e as retransmitem para\n",
    "sua audiência. Esses canais de notícias precisam saber se a Reuters tem notícias de última hora ou não.\n",
    "Se houver, eles devem obter essas notícias da Reuters e apresentá-las ao público. Uma maneira de\n",
    "fazer isso é consultar periodicamente o estado do objeto. Por exemplo, um diretor de nosso canal de\n",
    "notícias de TV pode ligar para a Reuters em um determinado período (por exemplo, a cada 10 minutos)\n",
    "e perguntar se há alguma notícia. No entanto, obviamente, esse método não pode ser um método bom\n",
    "e eficaz. Desta forma, perturbaremos constantemente a fonte, seremos informados de qualquer\n",
    "novidade (mudança de estado) não imediatamente, mas posteriormente. O Padrão de Projeto Observer\n",
    "nos fornece uma solução eficaz. Nele, objetos observadores (assinantes) (pode ser mais de um) se\n",
    "inscrevem no objeto sujeito (observável) que desejam estar cientes das atualizações em seu estado.\n",
    "Quando o objeto sujeito sofre uma atualização, ele notifica os objetos que o subscreveram. Em outras\n",
    "palavras, canais de TV (observadores) como Fox News ou CNN tornam-se assinantes da agência de\n",
    "notícias Reuters (observáveis). A Reuters informa automaticamente seus assinantes sobre todas as notícias de última hora. Desenvolva o código deste cenário baseado no diagrama de classes UML genérico da figura abaixo\n",
    "\n",
    "![Imagem Diagrama](image2.png)"
   ]
  },
  {
   "cell_type": "code",
   "execution_count": null,
   "metadata": {
    "vscode": {
     "languageId": "plaintext"
    }
   },
   "outputs": [],
   "source": []
  }
 ],
 "metadata": {
  "language_info": {
   "name": "python"
  }
 },
 "nbformat": 4,
 "nbformat_minor": 2
}
