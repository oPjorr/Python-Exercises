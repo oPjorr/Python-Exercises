{
 "cells": [
  {
   "cell_type": "markdown",
   "metadata": {},
   "source": [
    "1. Observe o diagrama de classes abaixo, e implemente o que se pede.\n",
    "\n",
    "    • O padrão Observer é utilizado para realizar as operações de divisões inteiras e resto de divisão\n",
    "\n",
    "    • Cada vez que os valores no sujeito são atualizados, as operações devem ser realizadas e seus\n",
    "resultados atualizados apresentados\n",
    "\n",
    "    • É necessário colocar mais uma variável para receber valores no Sujeito Concreto (valor1, valor2)\n",
    "\n",
    "    • A assinatura do método update() deve ser desenvolvida de acordo com a necessidade da aplicação\n",
    "\n",
    "    • Acrescente mais um observador que efetue a multiplicação dos valores\n",
    "\n",
    "![Imagem Diagrama](image.png)"
   ]
  },
  {
   "cell_type": "code",
   "execution_count": 116,
   "metadata": {},
   "outputs": [],
   "source": [
    "from abc import ABC, abstractmethod\n",
    "\n",
    "class Observer(ABC):\n",
    "    @abstractmethod\n",
    "    def update():\n",
    "        pass\n",
    "\n",
    "class Subject:\n",
    "    def __init__(self) -> None:\n",
    "        self.observers = []\n",
    "\n",
    "    def registerObserver(self, observer):\n",
    "        self.observers.append(observer)\n",
    "\n",
    "    def removeObserver(self, observer):\n",
    "        self.observers.remove(observer)\n",
    "\n",
    "    def notifyObserver(self, valor1, valor2):\n",
    "        for observer in self.observers:\n",
    "            observer.update(valor1, valor2)\n",
    "        \n",
    "class DivObserver(Observer):\n",
    "    def update(self, valor1, valor2):\n",
    "        print(valor1/valor2 if valor2 != 0 else \"Não há como dividir por zero!\")\n",
    "\n",
    "class ModObserver(Observer):\n",
    "    def update(self, valor1, valor2):\n",
    "        print(valor1%valor2 if valor2 != 0 else \"não há resto de divisão!\")\n",
    "\n",
    "class ConcreteSubject(Subject):\n",
    "    def __init__(self) -> None:\n",
    "        super().__init__()\n",
    "        valor1 = 0\n",
    "        valor2 = 0\n",
    "\n",
    "    def setValor(self, valor1, valor2):\n",
    "        self.valor1 = valor1\n",
    "        self.valor2 = valor2\n",
    "        self.notifyObserver(valor1, valor2)\n",
    "\n",
    "    def getValor(self):\n",
    "        return self.valor1, self.valor2\n",
    "    \n",
    "    def ValorChanged():\n",
    "        pass"
   ]
  },
  {
   "cell_type": "code",
   "execution_count": 120,
   "metadata": {},
   "outputs": [
    {
     "name": "stdout",
     "output_type": "stream",
     "text": [
      "1\n",
      "0.5\n",
      "(1, 2)\n",
      "---------\n",
      "não há resto de divisão!\n",
      "Não há como dividir por zero!\n",
      "(1, 0)\n"
     ]
    }
   ],
   "source": [
    "subject = ConcreteSubject()\n",
    "modObserverObject = ModObserver()\n",
    "divObserverObject = DivObserver()\n",
    "        \n",
    "subject.registerObserver(modObserverObject)\n",
    "subject.registerObserver(divObserverObject)\n",
    "\n",
    "subject.setValor(1, 2)\n",
    "print(subject.getValor())\n",
    "print(\"---------\")\n",
    "subject.setValor(1, 0)\n",
    "print(subject.getValor())"
   ]
  },
  {
   "cell_type": "markdown",
   "metadata": {},
   "source": [
    "2. Suponha que temos um objeto de fonte de notícias, vamos chamá-lo de Reuters. Além disso, temos\n",
    "diferentes objetos de canal de notícias de TV que recebem notícias da Reuters e as retransmitem para\n",
    "sua audiência. Esses canais de notícias precisam saber se a Reuters tem notícias de última hora ou não.\n",
    "Se houver, eles devem obter essas notícias da Reuters e apresentá-las ao público. Uma maneira de\n",
    "fazer isso é consultar periodicamente o estado do objeto. Por exemplo, um diretor de nosso canal de\n",
    "notícias de TV pode ligar para a Reuters em um determinado período (por exemplo, a cada 10 minutos)\n",
    "e perguntar se há alguma notícia. No entanto, obviamente, esse método não pode ser um método bom\n",
    "e eficaz. Desta forma, perturbaremos constantemente a fonte, seremos informados de qualquer\n",
    "novidade (mudança de estado) não imediatamente, mas posteriormente. O Padrão de Projeto Observer\n",
    "nos fornece uma solução eficaz. Nele, objetos observadores (assinantes) (pode ser mais de um) se\n",
    "inscrevem no objeto sujeito (observável) que desejam estar cientes das atualizações em seu estado.\n",
    "Quando o objeto sujeito sofre uma atualização, ele notifica os objetos que o subscreveram. Em outras\n",
    "palavras, canais de TV (observadores) como Fox News ou CNN tornam-se assinantes da agência de\n",
    "notícias Reuters (observáveis). A Reuters informa automaticamente seus assinantes sobre todas as notícias de última hora. Desenvolva o código deste cenário baseado no diagrama de classes UML genérico da figura abaixo\n",
    "\n",
    "![Imagem Diagrama](image2.png)"
   ]
  },
  {
   "cell_type": "code",
   "execution_count": 122,
   "metadata": {},
   "outputs": [],
   "source": [
    "from abc import ABC, abstractmethod\n",
    "\n",
    "class IObserver(ABC):\n",
    "    @abstractmethod\n",
    "    def update():\n",
    "        pass\n",
    "\n",
    "class IObservable(ABC):\n",
    "    @abstractmethod\n",
    "    def subscribe(self, observer):\n",
    "        pass\n",
    "\n",
    "    @abstractmethod\n",
    "    def unsubscribe(self, observer):\n",
    "        pass\n",
    "\n",
    "    @abstractmethod\n",
    "    def notifyObserver(self):\n",
    "        pass\n",
    "    \n",
    "\n",
    "class Observer(IObserver):\n",
    "    def __init__(self, channel: str):\n",
    "        self.channel = channel\n",
    "\n",
    "    def update(self, news: str):\n",
    "        print(f\"O canal {self.channel} está noticiando: {news}\")\n",
    "\n",
    "class Subject(IObservable):\n",
    "    def __init__(self) -> None:\n",
    "        self.observers = []\n",
    "        self.news = None\n",
    "\n",
    "    def subscribe(self, observer):\n",
    "        self.observers.append(observer)\n",
    "\n",
    "    def unsubscribe(self, observer):\n",
    "        self.observers.remove(observer)\n",
    "\n",
    "    def notifyObserver(self):\n",
    "        for observer in self.observers:\n",
    "            observer.update(self.news)\n",
    "\n",
    "    def addNews(self, news):\n",
    "        self.news = news\n",
    "        self.notifyObserver()"
   ]
  },
  {
   "cell_type": "code",
   "execution_count": 124,
   "metadata": {},
   "outputs": [
    {
     "name": "stdout",
     "output_type": "stream",
     "text": [
      "O canal CNN está noticiando: Última hora: Novo avanço tecnológico revolucionário!\n",
      "O canal Fox News está noticiando: Última hora: Novo avanço tecnológico revolucionário!\n",
      "O canal CNN está noticiando: Última hora: Acordo histórico entre países!\n"
     ]
    }
   ],
   "source": [
    "reuters = Subject()\n",
    "\n",
    "# Criação dos canais de TV\n",
    "cnn = Observer(\"CNN\")\n",
    "fox_news = Observer(\"Fox News\")\n",
    "# Inscrevendo os canais na Reuters\n",
    "reuters.subscribe(cnn)\n",
    "reuters.subscribe(fox_news)\n",
    "# Reuters publica uma notícia\n",
    "reuters.addNews(\"Última hora: Novo avanço tecnológico revolucionário!\")\n",
    "# Fox News decide cancelar a inscrição\n",
    "reuters.unsubscribe(fox_news)\n",
    "# Reuters publica outra notícia\n",
    "reuters.addNews(\"Última hora: Acordo histórico entre países!\")"
   ]
  }
 ],
 "metadata": {
  "kernelspec": {
   "display_name": "Python 3",
   "language": "python",
   "name": "python3"
  },
  "language_info": {
   "codemirror_mode": {
    "name": "ipython",
    "version": 3
   },
   "file_extension": ".py",
   "mimetype": "text/x-python",
   "name": "python",
   "nbconvert_exporter": "python",
   "pygments_lexer": "ipython3",
   "version": "3.12.6"
  }
 },
 "nbformat": 4,
 "nbformat_minor": 2
}
