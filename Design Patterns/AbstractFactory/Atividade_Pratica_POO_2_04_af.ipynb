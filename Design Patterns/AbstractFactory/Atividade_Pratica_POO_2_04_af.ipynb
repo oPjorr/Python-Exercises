{
 "cells": [
  {
   "cell_type": "markdown",
   "metadata": {},
   "source": [
    "<div style=\"text-align: center\"> \n",
    "\n",
    "## Atividade Prática 04\n",
    "\n",
    "### Design Patterns (Padrões de Projeto) – Abstract Factory\n",
    "</div>"
   ]
  },
  {
   "cell_type": "markdown",
   "metadata": {},
   "source": [
    "1. Desenvolva o código para os diagramas de classes das figuras abaixo, usando o padrão de design\n",
    "“Abstract Factory”.\n",
    "\n",
    "![Furniture_Abstract_Factory](Furniture_Abstract_Factory.png)\n",
    "![Furniture_Abstract_Factory2](Furniture_Abstract_Factory2.png)\n"
   ]
  },
  {
   "cell_type": "code",
   "execution_count": null,
   "metadata": {},
   "outputs": [
    {
     "name": "stdout",
     "output_type": "stream",
     "text": [
      "8888888\n"
     ]
    }
   ],
   "source": []
  },
  {
   "cell_type": "markdown",
   "metadata": {},
   "source": [
    "2. Desenvolva o código para o diagrama de classes na figura abaixo, usando o padrão de design “Abstract\n",
    "Factory”.\n",
    "\n",
    "![VehicleAbstracFactory](VehicleAbstracFactory.png)"
   ]
  },
  {
   "cell_type": "code",
   "execution_count": null,
   "metadata": {},
   "outputs": [],
   "source": []
  },
  {
   "cell_type": "markdown",
   "metadata": {},
   "source": [
    "3. Desenvolva o código para o diagrama de classes na figura abaixo, usando o padrão de design “Abstract\n",
    "Factory”.\n",
    "\n",
    "![Game_Abstract_Factory](Game_Abstract_Factory.png)"
   ]
  },
  {
   "cell_type": "code",
   "execution_count": null,
   "metadata": {},
   "outputs": [],
   "source": []
  }
 ],
 "metadata": {
  "kernelspec": {
   "display_name": "Python 3",
   "language": "python",
   "name": "python3"
  },
  "language_info": {
   "codemirror_mode": {
    "name": "ipython",
    "version": 3
   },
   "file_extension": ".py",
   "mimetype": "text/x-python",
   "name": "python",
   "nbconvert_exporter": "python",
   "pygments_lexer": "ipython3",
   "version": "3.10.12"
  }
 },
 "nbformat": 4,
 "nbformat_minor": 2
}
