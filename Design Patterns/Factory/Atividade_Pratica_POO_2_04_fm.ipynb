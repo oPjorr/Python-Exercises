{
 "cells": [
  {
   "cell_type": "markdown",
   "metadata": {},
   "source": [
    "1. Desenvolva o código para o diagrama de classes na figura abaixo, usando o padrão de design “Factory\n",
    "Method”.\n",
    "\n",
    "![Diagrama de classe](CarFactory.png)"
   ]
  },
  {
   "cell_type": "code",
   "execution_count": null,
   "metadata": {},
   "outputs": [],
   "source": [
    "from abc import ABC, abstractmethod\n",
    "class MotorVehicle(ABC):\n",
    "    @abstractmethod\n",
    "    def build(self):\n",
    "        pass\n",
    "\n",
    "class Motorcycle(MotorVehicle):\n",
    "    def build(self):\n",
    "        print('Moto')\n",
    "\n",
    "class Car(MotorVehicle):\n",
    "    def build(self):\n",
    "        print('carro')\n",
    "\n",
    "class MotorVehicleFactory:\n",
    "    def create(self, motorVehicle):\n",
    "        return motorVehicle\n",
    "    \n",
    "    def createMotorVehicle(self, motorVehicle):\n",
    "        return motorVehicle\n",
    "    \n",
    "class MotorcycleFactory(MotorVehicleFactory):\n",
    "    def createMotorVehicle(self):\n",
    "        return Motorcycle()\n",
    "        \n",
    "class CarFactory(MotorVehicleFactory):\n",
    "    def createMotorVehicle(self):\n",
    "        return Car"
   ]
  },
  {
   "cell_type": "code",
   "execution_count": 35,
   "metadata": {},
   "outputs": [
    {
     "ename": "TypeError",
     "evalue": "MotorcycleFactory.createMotorVehicle() missing 1 required positional argument: 'motorVehicle'",
     "output_type": "error",
     "traceback": [
      "\u001b[0;31m---------------------------------------------------------------------------\u001b[0m",
      "\u001b[0;31mTypeError\u001b[0m                                 Traceback (most recent call last)",
      "Cell \u001b[0;32mIn[35], line 8\u001b[0m\n\u001b[1;32m      5\u001b[0m fabrica1 \u001b[38;5;241m=\u001b[39m MotorcycleFactory()\n\u001b[1;32m      6\u001b[0m fabrica2 \u001b[38;5;241m=\u001b[39m CarFactory()\n\u001b[0;32m----> 8\u001b[0m carro1 \u001b[38;5;241m=\u001b[39m \u001b[43mfabrica1\u001b[49m\u001b[38;5;241;43m.\u001b[39;49m\u001b[43mcreateMotorVehicle\u001b[49m\u001b[43m(\u001b[49m\u001b[43m)\u001b[49m\n\u001b[1;32m      9\u001b[0m moto1 \u001b[38;5;241m=\u001b[39m fabrica2\u001b[38;5;241m.\u001b[39mcreateMotorVehicle()\n\u001b[1;32m     11\u001b[0m carro1\u001b[38;5;241m.\u001b[39mbuild()\n",
      "\u001b[0;31mTypeError\u001b[0m: MotorcycleFactory.createMotorVehicle() missing 1 required positional argument: 'motorVehicle'"
     ]
    }
   ],
   "source": [
    "#testes\n",
    "if __name__ == \"__main__\":\n",
    "    fabrica = MotorVehicleFactory\n",
    "\n",
    "    fabrica1 = MotorcycleFactory()\n",
    "    fabrica2 = CarFactory()\n",
    "\n",
    "    carro1 = fabrica1.createMotorVehicle()\n",
    "    moto1 = fabrica2.createMotorVehicle()\n",
    "\n",
    "    carro1.build()\n",
    "    moto1.build()"
   ]
  },
  {
   "cell_type": "markdown",
   "metadata": {},
   "source": [
    "2. Desenvolva o código para o diagrama de classes na figura abaixo, usando o padrão de design “Factory\n",
    "Method”.\n",
    "\n",
    "![Diagrama de classe](MovelFactory.png)"
   ]
  },
  {
   "cell_type": "code",
   "execution_count": null,
   "metadata": {},
   "outputs": [],
   "source": []
  }
 ],
 "metadata": {
  "kernelspec": {
   "display_name": "Python 3",
   "language": "python",
   "name": "python3"
  },
  "language_info": {
   "codemirror_mode": {
    "name": "ipython",
    "version": 3
   },
   "file_extension": ".py",
   "mimetype": "text/x-python",
   "name": "python",
   "nbconvert_exporter": "python",
   "pygments_lexer": "ipython3",
   "version": "3.10.12"
  }
 },
 "nbformat": 4,
 "nbformat_minor": 2
}
