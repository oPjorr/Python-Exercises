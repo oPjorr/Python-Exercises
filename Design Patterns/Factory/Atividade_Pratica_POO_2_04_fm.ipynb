{
 "cells": [
  {
   "cell_type": "markdown",
   "metadata": {},
   "source": [
    "1. Desenvolva o código para o diagrama de classes na figura abaixo, usando o padrão de design “Factory\n",
    "Method”.\n",
    "\n",
    "![Diagrama de classe](CarFactory.png)"
   ]
  },
  {
   "cell_type": "code",
   "execution_count": null,
   "metadata": {},
   "outputs": [],
   "source": []
  },
  {
   "cell_type": "markdown",
   "metadata": {},
   "source": [
    "2. Desenvolva o código para o diagrama de classes na figura abaixo, usando o padrão de design “Factory\n",
    "Method”.\n",
    "\n",
    "![Diagrama de classe](MovelFactory.png)"
   ]
  },
  {
   "cell_type": "code",
   "execution_count": null,
   "metadata": {},
   "outputs": [],
   "source": []
  }
 ],
 "metadata": {
  "kernelspec": {
   "display_name": "Python 3",
   "language": "python",
   "name": "python3"
  },
  "language_info": {
   "name": "python",
   "version": "3.10.12"
  }
 },
 "nbformat": 4,
 "nbformat_minor": 2
}
