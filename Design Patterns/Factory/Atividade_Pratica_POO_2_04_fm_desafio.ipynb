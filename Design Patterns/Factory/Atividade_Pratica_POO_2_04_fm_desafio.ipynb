{
 "cells": [
  {
   "cell_type": "markdown",
   "metadata": {},
   "source": [
    "### Atividade Prática 04\n",
    "\n",
    "### Design Patterns (Padrões de Projeto) – Factory Method\n",
    "\n",
    "### Desafios\n",
    "\n",
    "**Atividade 1: Sistema de Notificações**\n",
    "\n",
    "Crie um sistema de notificações que pode enviar mensagens por diferentes canais (Email, SMS,\n",
    "Push).\n",
    "\n",
    "Use o Factory Method para criar os diferentes tipos de notificadores."
   ]
  },
  {
   "cell_type": "code",
   "execution_count": 19,
   "metadata": {},
   "outputs": [],
   "source": [
    "from abc import ABC, abstractmethod\n",
    "\n",
    "class Notifier(ABC):\n",
    "    @abstractmethod\n",
    "    def notify(self, message: str):\n",
    "        pass\n",
    "\n",
    "class EmailNotifier(Notifier):\n",
    "    def notify(self, message: str):\n",
    "        print(f\"Enviando Email: {message}\")\n",
    "\n",
    "class SMSNotifier(Notifier):\n",
    "    def notify(self, message: str):\n",
    "        print(f\"Enviando SMS: {message}\")\n",
    "\n",
    "class PushNotifier(Notifier):\n",
    "    def notify(self, message: str):\n",
    "        print(f\"Enviando Notificação por Push: {message}\")\n",
    "\n",
    "class NotifierFactory(ABC):\n",
    "    @abstractmethod\n",
    "    def create_notifier(self) -> Notifier:\n",
    "        pass\n",
    "\n",
    "class EmailNotifierFactory(NotifierFactory):\n",
    "    def create_notifier(self) -> Notifier:\n",
    "        return EmailNotifier()\n",
    "\n",
    "class SMSNotifierFactory(NotifierFactory):\n",
    "    def create_notifier(self) -> Notifier:\n",
    "        return SMSNotifier()\n",
    "\n",
    "class PushNotifierFactory(NotifierFactory):\n",
    "    def create_notifier(self) -> Notifier:\n",
    "        return PushNotifier()\n"
   ]
  },
  {
   "cell_type": "code",
   "execution_count": 18,
   "metadata": {},
   "outputs": [
    {
     "name": "stdout",
     "output_type": "stream",
     "text": [
      "Sending Email: Olá\n"
     ]
    }
   ],
   "source": [
    "# Testes\n",
    "factory = EmailNotifierFactory()\n",
    "notifier = factory.create_notifier()\n",
    "notifier.notify(\"Olá\")"
   ]
  },
  {
   "cell_type": "markdown",
   "metadata": {},
   "source": [
    "**Atividade 2: Gerenciador de Documentos**\n",
    "\n",
    "Implemente um sistema de gerenciamento de documentos que pode criar diferentes tipos de\n",
    "documentos (PDF, Word, TXT) usando o Factory Method."
   ]
  },
  {
   "cell_type": "code",
   "execution_count": 20,
   "metadata": {},
   "outputs": [],
   "source": [
    "from abc import ABC, abstractmethod\n",
    "\n",
    "class Document(ABC):\n",
    "    @abstractmethod\n",
    "    def create(self):\n",
    "        pass\n",
    "\n",
    "class PDFDocument(Document):\n",
    "    def create(self):\n",
    "        print(\"Criando documento em PDF\")\n",
    "\n",
    "class WordDocument(Document):\n",
    "    def create(self):\n",
    "        print(\"Criando documento em Word\")\n",
    "\n",
    "class TXTDocument(Document):\n",
    "    def create(self):\n",
    "        print(\"Criando documento em TXT\")\n",
    "\n",
    "class DocumentFactory(ABC):\n",
    "    @abstractmethod\n",
    "    def create_document(self) -> Document:\n",
    "        pass\n",
    "\n",
    "class PDFDocumentFactory(DocumentFactory):\n",
    "    def create_document(self) -> Document:\n",
    "        return PDFDocument()\n",
    "\n",
    "class WordDocumentFactory(DocumentFactory):\n",
    "    def create_document(self) -> Document:\n",
    "        return WordDocument()\n",
    "\n",
    "class TXTDocumentFactory(DocumentFactory):\n",
    "    def create_document(self) -> Document:\n",
    "        return TXTDocument()"
   ]
  },
  {
   "cell_type": "code",
   "execution_count": null,
   "metadata": {},
   "outputs": [
    {
     "name": "stdout",
     "output_type": "stream",
     "text": [
      "Creating PDF Document\n"
     ]
    }
   ],
   "source": [
    "#testes\n",
    "factory = PDFDocumentFactory()\n",
    "document = factory.create_document()\n",
    "document.create()"
   ]
  },
  {
   "cell_type": "markdown",
   "metadata": {},
   "source": [
    "**Atividade 3: Sistema de Pagamentos**\n",
    "\n",
    "Desenvolva um sistema de pagamentos que suporte diferentes métodos (Cartão de Crédito, PayPal,\n",
    "Boleto) usando Factory Method."
   ]
  },
  {
   "cell_type": "code",
   "execution_count": null,
   "metadata": {},
   "outputs": [],
   "source": [
    "from abc import ABC, abstractmethod\n",
    "\n",
    "class PaymentMethod(ABC):\n",
    "    @abstractmethod\n",
    "    def pay(self, amount: float):\n",
    "        pass\n",
    "\n",
    "class CreditCardPayment(PaymentMethod):\n",
    "    def pay(self, amount: float):\n",
    "        print(f\"Pagando {amount} com Credit Card\")\n",
    "\n",
    "class PayPalPayment(PaymentMethod):\n",
    "    def pay(self, amount: float):\n",
    "        print(f\"Pagando {amount} com PayPal\")\n",
    "\n",
    "class BoletoPayment(PaymentMethod):\n",
    "    def pay(self, amount: float):\n",
    "        print(f\"Pagando {amount} com Boleto\")\n",
    "\n",
    "class PaymentFactory(ABC):\n",
    "    @abstractmethod\n",
    "    def create_payment(self) -> PaymentMethod:\n",
    "        pass\n",
    "\n",
    "class CreditCardPaymentFactory(PaymentFactory):\n",
    "    def create_payment(self) -> PaymentMethod:\n",
    "        return CreditCardPayment()\n",
    "\n",
    "class PayPalPaymentFactory(PaymentFactory):\n",
    "    def create_payment(self) -> PaymentMethod:\n",
    "        return PayPalPayment()\n",
    "\n",
    "class BoletoPaymentFactory(PaymentFactory):\n",
    "    def create_payment(self) -> PaymentMethod:\n",
    "        return BoletoPayment()"
   ]
  },
  {
   "cell_type": "code",
   "execution_count": 15,
   "metadata": {},
   "outputs": [
    {
     "name": "stdout",
     "output_type": "stream",
     "text": [
      "Paying 100.0 using PayPal\n"
     ]
    }
   ],
   "source": [
    "# testes\n",
    "factory = PayPalPaymentFactory()\n",
    "payment = factory.create_payment()\n",
    "payment.pay(100.0)"
   ]
  },
  {
   "cell_type": "markdown",
   "metadata": {},
   "source": [
    "\n",
    "**Atividade 4: Gerador de Relatórios**\n",
    "\n",
    "Crie um gerador de relatórios que pode produzir relatórios em diferentes formatos (HTML, CSV, JSON)\n",
    "usando Factory Method."
   ]
  },
  {
   "cell_type": "code",
   "execution_count": 21,
   "metadata": {},
   "outputs": [],
   "source": [
    "from abc import ABC, abstractmethod\n",
    "\n",
    "class Report(ABC):\n",
    "    @abstractmethod\n",
    "    def generate(self):\n",
    "        pass\n",
    "\n",
    "class HTMLReport(Report):\n",
    "    def generate(self):\n",
    "        print(\"Gerando relatório em HTML\")\n",
    "\n",
    "class CSVReport(Report):\n",
    "    def generate(self):\n",
    "        print(\"Gerando relatório em CSV\")\n",
    "\n",
    "class JSONReport(Report):\n",
    "    def generate(self):\n",
    "        print(\"Gerando relatório em JSON\")\n",
    "\n",
    "class ReportFactory(ABC):\n",
    "    @abstractmethod\n",
    "    def create_report(self) -> Report:\n",
    "        pass\n",
    "\n",
    "class HTMLReportFactory(ReportFactory):\n",
    "    def create_report(self) -> Report:\n",
    "        return HTMLReport()\n",
    "\n",
    "class CSVReportFactory(ReportFactory):\n",
    "    def create_report(self) -> Report:\n",
    "        return CSVReport()\n",
    "\n",
    "class JSONReportFactory(ReportFactory):\n",
    "    def create_report(self) -> Report:\n",
    "        return JSONReport()"
   ]
  },
  {
   "cell_type": "code",
   "execution_count": 10,
   "metadata": {},
   "outputs": [
    {
     "name": "stdout",
     "output_type": "stream",
     "text": [
      "Generating JSON Report\n"
     ]
    }
   ],
   "source": [
    "# testes\n",
    "factory = JSONReportFactory()\n",
    "report = factory.create_report()\n",
    "report.generate()"
   ]
  },
  {
   "cell_type": "markdown",
   "metadata": {},
   "source": [
    "**Atividade 5: Sistema de Logística**\n",
    "\n",
    "Implemente um sistema de logística que pode criar diferentes tipos de transporte (Caminhão, Navio,\n",
    "Avião) usando Factory Method."
   ]
  },
  {
   "cell_type": "code",
   "execution_count": 23,
   "metadata": {},
   "outputs": [],
   "source": [
    "from abc import ABC, abstractmethod\n",
    "\n",
    "class Transport(ABC):\n",
    "    @abstractmethod\n",
    "    def deliver(self):\n",
    "        pass\n",
    "\n",
    "class CaminhaoTransport(Transport):\n",
    "    def deliver(self):\n",
    "        print(\"Entrega feita por Caminhao\")\n",
    "\n",
    "class NavioTransport(Transport):\n",
    "    def deliver(self):\n",
    "        print(\"Entrega feita por Navio\")\n",
    "\n",
    "class AviaoTransport(Transport):\n",
    "    def deliver(self):\n",
    "        print(\"Entrega feita por Aviao\")\n",
    "\n",
    "class TransportFactory(ABC):\n",
    "    @abstractmethod\n",
    "    def create_transport(self) -> Transport:\n",
    "        pass\n",
    "\n",
    "class CaminhaoTransportFactory(TransportFactory):\n",
    "    def create_transport(self) -> Transport:\n",
    "        return CaminhaoTransport()\n",
    "\n",
    "class NavioTransportFactory(TransportFactory):\n",
    "    def create_transport(self) -> Transport:\n",
    "        return NavioTransport()\n",
    "\n",
    "class AviaoTransportFactory(TransportFactory):\n",
    "    def create_transport(self) -> Transport:\n",
    "        return AviaoTransport()"
   ]
  },
  {
   "cell_type": "code",
   "execution_count": 24,
   "metadata": {},
   "outputs": [
    {
     "name": "stdout",
     "output_type": "stream",
     "text": [
      "Entrega feita por Aviao\n"
     ]
    }
   ],
   "source": [
    "# testes\n",
    "factory = AviaoTransportFactory()\n",
    "transport = factory.create_transport()\n",
    "transport.deliver()\n"
   ]
  }
 ],
 "metadata": {
  "kernelspec": {
   "display_name": "Python 3",
   "language": "python",
   "name": "python3"
  },
  "language_info": {
   "codemirror_mode": {
    "name": "ipython",
    "version": 3
   },
   "file_extension": ".py",
   "mimetype": "text/x-python",
   "name": "python",
   "nbconvert_exporter": "python",
   "pygments_lexer": "ipython3",
   "version": "3.10.12"
  }
 },
 "nbformat": 4,
 "nbformat_minor": 2
}
