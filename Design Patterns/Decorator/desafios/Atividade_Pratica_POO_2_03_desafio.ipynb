{
 "cells": [
  {
   "cell_type": "markdown",
   "metadata": {},
   "source": [
    "### Atividade Prática 03\n",
    "\n",
    "#### Design Patterns (Padrões de Projeto) – Decorator\n",
    "\n",
    "#### Desafios"
   ]
  },
  {
   "cell_type": "markdown",
   "metadata": {},
   "source": [
    "Atividade 1: Sistema de Notificações\n",
    "\n",
    "Desenvolva um sistema de notificação que permita enviar mensagens através de diferentes canais\n",
    "(email, SMS, Slack). Use o padrão Decorator para adicionar funcionalidades de envio por diferentes\n",
    "canais sem modificar o código existente."
   ]
  },
  {
   "cell_type": "code",
   "execution_count": 1,
   "metadata": {},
   "outputs": [],
   "source": [
    "from abc import ABC, abstractmethod\n",
    "\n",
    "class Notification(ABC):\n",
    "    @abstractmethod\n",
    "    def send(self, message):\n",
    "        pass\n",
    "\n",
    "class BasicNotification(Notification):\n",
    "    def send(self, message):\n",
    "        print(f\"Notificação básica: {message}\")\n",
    "\n",
    "class NotificationDecorator(Notification):\n",
    "    def __init__(self, wrapped_notification):\n",
    "        self._wrapped_notification = wrapped_notification\n",
    "\n",
    "    def send(self, message):\n",
    "        self._wrapped_notification.send(message)\n",
    "\n",
    "class EmailNotification(NotificationDecorator):\n",
    "    def send(self, message):\n",
    "        super().send(message)\n",
    "        print(f\"Enviando Email: {message}\")\n",
    "\n",
    "class SMSNotification(NotificationDecorator):\n",
    "    def send(self, message):\n",
    "        super().send(message)\n",
    "        print(f\"Enviando SMS: {message}\")\n",
    "\n",
    "class SlackNotification(NotificationDecorator):\n",
    "    def send(self, message):\n",
    "        super().send(message)\n",
    "        print(f\"Enviando Slack: {message}\")"
   ]
  },
  {
   "cell_type": "code",
   "execution_count": 2,
   "metadata": {},
   "outputs": [
    {
     "name": "stdout",
     "output_type": "stream",
     "text": [
      "Notificação básica: ALERTA! ALERTA!\n",
      "Enviando Email: ALERTA! ALERTA!\n",
      "Enviando SMS: ALERTA! ALERTA!\n",
      "Enviando Slack: ALERTA! ALERTA!\n"
     ]
    }
   ],
   "source": [
    "def main():\n",
    "    notification = BasicNotification()\n",
    "    notification = EmailNotification(notification)\n",
    "    notification = SMSNotification(notification)\n",
    "    notification = SlackNotification(notification)\n",
    "\n",
    "    notification.send(\"ALERTA! ALERTA!\")\n",
    "\n",
    "if __name__ == \"__main__\":\n",
    "    main()"
   ]
  },
  {
   "cell_type": "markdown",
   "metadata": {},
   "source": [
    "Atividade 2: Processador de Texto\n",
    "\n",
    "Crie um processador de texto que permita adicionar diferentes formatações (negrito, itálico,\n",
    "sublinhado) a um texto base. Utilize decoradores para aplicar as formatações de forma flexível e\n",
    "combinável."
   ]
  },
  {
   "cell_type": "code",
   "execution_count": 10,
   "metadata": {},
   "outputs": [],
   "source": [
    "from abc import ABC, abstractmethod\n",
    "\n",
    "class Text(ABC):\n",
    "    @abstractmethod\n",
    "    def render(self):\n",
    "        pass\n",
    "\n",
    "class SimpleText(Text):\n",
    "    def __init__(self, content):\n",
    "        self.content = content\n",
    "\n",
    "    def render(self):\n",
    "        return self.content\n",
    "\n",
    "class TextDecorator(Text):\n",
    "    def __init__(self, wrapped_text):\n",
    "        self._wrapped_text = wrapped_text\n",
    "\n",
    "    def render(self):\n",
    "        return self._wrapped_text.render()\n",
    "\n",
    "class BoldText(TextDecorator):\n",
    "    def render(self):\n",
    "        return f\"**{super().render()}**\" \n",
    "\n",
    "class ItalicText(TextDecorator):\n",
    "    def render(self):\n",
    "        return f\"*{super().render()}*\"\n",
    "\n",
    "class UnderlineText(TextDecorator):\n",
    "    def render(self):\n",
    "        return f\"__{super().render()}__\""
   ]
  },
  {
   "cell_type": "code",
   "execution_count": 11,
   "metadata": {},
   "outputs": [
    {
     "name": "stdout",
     "output_type": "stream",
     "text": [
      "Texto original: Este é um exemplo de texto\n",
      "Negrito: **Este é um exemplo de texto**\n",
      "Negrito e Itálico: ***Este é um exemplo de texto***\n",
      "Negrito, Itálico e Sublinhado: __***Este é um exemplo de texto***__\n"
     ]
    }
   ],
   "source": [
    "def main():\n",
    "    text = SimpleText(\"Este é um exemplo de texto\")\n",
    "\n",
    "    bold_text = BoldText(text)\n",
    "    italic_bold_text = ItalicText(bold_text)\n",
    "    underline_italic_bold_text = UnderlineText(italic_bold_text)\n",
    "\n",
    "    print(\"Texto original:\", text.render())\n",
    "    print(\"Negrito:\", bold_text.render())\n",
    "    print(\"Negrito e Itálico:\", italic_bold_text.render())\n",
    "    print(\"Negrito, Itálico e Sublinhado:\", underline_italic_bold_text.render())\n",
    "\n",
    "if __name__ == \"__main__\":\n",
    "    main()"
   ]
  },
  {
   "cell_type": "markdown",
   "metadata": {},
   "source": [
    "Atividade 3: Sistema de Café\n",
    "\n",
    "Implemente um sistema para uma cafeteria que calcula o preço de bebidas personalizadas. Use\n",
    "decoradores para adicionar ingredientes extras (leite vaporizado, chocolate, canela) ao café base e\n",
    "calcular o preço final."
   ]
  },
  {
   "cell_type": "code",
   "execution_count": null,
   "metadata": {},
   "outputs": [],
   "source": []
  },
  {
   "cell_type": "markdown",
   "metadata": {},
   "source": [
    "Atividade 4: Validador de Dados\n",
    "\n",
    "Desenvolva um sistema de validação de dados que permita combinar diferentes regras de validação\n",
    "(email, idade, nome) usando decoradores. O sistema deve retornar uma lista de erros encontrados."
   ]
  },
  {
   "cell_type": "code",
   "execution_count": null,
   "metadata": {},
   "outputs": [],
   "source": []
  },
  {
   "cell_type": "markdown",
   "metadata": {},
   "source": [
    "Atividade 5: Logger com Níveis\n",
    "\n",
    "Crie um sistema de logging que permita adicionar diferentes níveis de informação (data, nível de log,\n",
    "salvamento em arquivo) usando decoradores. O sistema deve permitir combinar diferentes formatos\n",
    "de log."
   ]
  }
 ],
 "metadata": {
  "kernelspec": {
   "display_name": "Python 3",
   "language": "python",
   "name": "python3"
  },
  "language_info": {
   "codemirror_mode": {
    "name": "ipython",
    "version": 3
   },
   "file_extension": ".py",
   "mimetype": "text/x-python",
   "name": "python",
   "nbconvert_exporter": "python",
   "pygments_lexer": "ipython3",
   "version": "3.10.12"
  }
 },
 "nbformat": 4,
 "nbformat_minor": 2
}
