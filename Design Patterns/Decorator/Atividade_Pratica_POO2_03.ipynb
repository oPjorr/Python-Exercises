{
 "cells": [
  {
   "cell_type": "markdown",
   "metadata": {},
   "source": [
    "### Atividade Prática 03\n",
    "\n",
    "#### Design Patterns (Padrões de Projeto) - Decorator"
   ]
  },
  {
   "cell_type": "markdown",
   "metadata": {},
   "source": [
    "1. Leia atentamente o que está descrito abaixo.\n",
    "\n",
    "    • O Ressaca’s é o bar de maior sucesso da região. A razão é a variada oferta de drinks a disposição dos\n",
    "clientes.\n",
    "\n",
    "    • Por outro lado, o sistema de pedidos do bar se tornou mais complexo e está difícil mantê-lo por conta\n",
    "da grande variedade de drinks.\n",
    "\n",
    "    • O problema é que a pedido dos clientes, novos drinks foram criados pela adição de diferentes aditivos\n",
    "aos drinks existentes\n",
    "\n",
    "    • Os projetistas criaram classes para representar os novos drinks e calcular os preços de cada um deles\n",
    "levando em conta os diferentes ingredientes\n",
    "\n",
    "    • Em decorrência houve uma verdadeira explosão de classes para representar os diferentes tipos de\n",
    "drinks"
   ]
  },
  {
   "cell_type": "markdown",
   "metadata": {},
   "source": [
    "Baseado na descrição acima, faça o que se pede:\n",
    "\n",
    "• Apresentar o seu projeto (Diagrama de Classes) e implementar o sistema Drinks do Ressaca's Bar, usando o padrão Decorator\n",
    "\n",
    "• Imagine que você tem um drink chamado caipira, que custa 20,0 reais, porém quando o cliente vai montando a sua caipira ele vai aumentando o preço\n",
    "\n",
    "• Quero uma caipira de saquê, abacaxi, kiwi e açúcar\n",
    "\n",
    "• Quero uma caipira de vodka, morango e adoçante\n",
    "\n",
    "• Quero uma caipirinha (que é um drink pronto patenteado que não pode ser alterado – cachaça, limão, gelo e açúcar)"
   ]
  },
  {
   "cell_type": "markdown",
   "metadata": {},
   "source": [
    "Diagrama de classe: \n",
    "![Imagem Diagrama](Diagrama_Drink.png)"
   ]
  },
  {
   "cell_type": "code",
   "execution_count": 1,
   "metadata": {},
   "outputs": [],
   "source": [
    "from abc import ABC, abstractmethod\n",
    "\n",
    "class Drink(ABC):\n",
    "    @abstractmethod\n",
    "    def get_description(self):\n",
    "        pass\n",
    "    \n",
    "    @abstractmethod\n",
    "    def get_price(self):\n",
    "        pass\n",
    "\n",
    "class CaipiraBase(Drink):\n",
    "    def get_description(self):\n",
    "        return \"Caipira base\"\n",
    "    \n",
    "    def get_price(self):\n",
    "        return 20.0\n",
    "\n",
    "class CaipirinhaPronta(Drink):\n",
    "    def get_description(self):\n",
    "        return \"Caipirinha (Cachaça, Limão, Gelo e Açúcar)\"\n",
    "    \n",
    "    def get_price(self):\n",
    "        return 20.0\n",
    "\n",
    "class IngredientDecorator(Drink):\n",
    "    def __init__(self, drink):\n",
    "        self.drink = drink\n",
    "\n",
    "class Saque(IngredientDecorator):\n",
    "    def get_description(self):\n",
    "        return f\"{self.drink.get_description()}, Saquê\"\n",
    "    \n",
    "    def get_price(self):\n",
    "        return self.drink.get_price() + 5.0\n",
    "\n",
    "class Abacaxi(IngredientDecorator):\n",
    "    def get_description(self):\n",
    "        return f\"{self.drink.get_description()}, Abacaxi\"\n",
    "    \n",
    "    def get_price(self):\n",
    "        return self.drink.get_price() + 3.0\n",
    "\n",
    "class Kiwi(IngredientDecorator):\n",
    "    def get_description(self):\n",
    "        return f\"{self.drink.get_description()}, Kiwi\"\n",
    "    \n",
    "    def get_price(self):\n",
    "        return self.drink.get_price() + 4.0\n",
    "\n",
    "class Adocante(IngredientDecorator):\n",
    "    def get_description(self):\n",
    "        return f\"{self.drink.get_description()}, Adoçante\"\n",
    "    \n",
    "    def get_price(self):\n",
    "        return self.drink.get_price() + 1.0\n",
    "\n",
    "class Acucar(IngredientDecorator):\n",
    "    def get_description(self):\n",
    "        return f\"{self.drink.get_description()}, Açúcar\"\n",
    "    \n",
    "    def get_price(self):\n",
    "        return self.drink.get_price() + 2.0"
   ]
  },
  {
   "cell_type": "code",
   "execution_count": 2,
   "metadata": {},
   "outputs": [
    {
     "name": "stdout",
     "output_type": "stream",
     "text": [
      "Pedido: Caipira base, Saquê, Abacaxi, Kiwi, Açúcar\n",
      "Preço: R$ 34.0\n",
      "Pedido: Caipira base, Saquê, Abacaxi, Adoçante\n",
      "Preço: R$ 29.0\n",
      "Pedido: Caipirinha (Cachaça, Limão, Gelo e Açúcar)\n",
      "Preço: R$ 20.0\n"
     ]
    }
   ],
   "source": [
    "#testes\n",
    "def main():\n",
    "    drink1 = CaipiraBase()\n",
    "    drink1 = Saque(drink1)\n",
    "    drink1 = Abacaxi(drink1)\n",
    "    drink1 = Kiwi(drink1)\n",
    "    drink1 = Acucar(drink1)\n",
    "\n",
    "    print(\"Pedido:\", drink1.get_description())\n",
    "    print(\"Preço: R$\", drink1.get_price())\n",
    "\n",
    "    drink2 = CaipiraBase()\n",
    "    drink2 = Saque(drink2)\n",
    "    drink2 = Abacaxi(drink2)\n",
    "    drink2 = Adocante(drink2)\n",
    "\n",
    "    print(\"Pedido:\", drink2.get_description())\n",
    "    print(\"Preço: R$\", drink2.get_price())\n",
    "\n",
    "    drink3 = CaipirinhaPronta()\n",
    "\n",
    "    print(\"Pedido:\", drink3.get_description())\n",
    "    print(\"Preço: R$\", drink3.get_price())\n",
    "\n",
    "if __name__ == \"__main__\":\n",
    "    main()"
   ]
  }
 ],
 "metadata": {
  "kernelspec": {
   "display_name": "Python 3",
   "language": "python",
   "name": "python3"
  },
  "language_info": {
   "codemirror_mode": {
    "name": "ipython",
    "version": 3
   },
   "file_extension": ".py",
   "mimetype": "text/x-python",
   "name": "python",
   "nbconvert_exporter": "python",
   "pygments_lexer": "ipython3",
   "version": "3.10.12"
  }
 },
 "nbformat": 4,
 "nbformat_minor": 2
}
