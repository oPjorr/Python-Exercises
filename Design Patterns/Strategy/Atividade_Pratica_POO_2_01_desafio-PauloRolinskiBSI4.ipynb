{
 "cells": [
  {
   "cell_type": "markdown",
   "metadata": {},
   "source": [
    "### Atividade Prática 02\n",
    "\n",
    "### Design Patterns (Padrões de Projeto) – Strategy\n",
    "\n",
    "### Desafios"
   ]
  },
  {
   "cell_type": "markdown",
   "metadata": {},
   "source": [
    "1. Criar um sistema que utilize o padrão Strategy para simular diferentes estratégias de deslocamento\n",
    "usando meios de transporte variados.\n",
    "\n",
    "    Descrição: Crie uma aplicação Python que simule diferentes formas de transporte (carro, bicicleta, a pé),\n",
    "    permitindo ao usuário alternar entre elas e calcular o tempo necessário para percorrer uma determinada\n",
    "    distância.\n",
    "\n",
    "    Passos:\n",
    "\n",
    "    • Crie uma interface TravelStrategy com um método travel_time que aceite uma distância em quilômetros.\n",
    "\n",
    "    • Implemente três classes de estratégia: CarStrategy, BicycleStrategy e WalkStrategy. Cada classe deve retornar\n",
    "    o tempo estimado para percorrer a distância fornecida com base em uma velocidade fixa (por exemplo:\n",
    "    carro 60 km/h, bicicleta 15 km/h, a pé 5 km/h).\n",
    "\n",
    "    • Crie uma classe TravelContext que contenha o método set_strategy para definir o meio de transporte atual e\n",
    "    um método calculate_time para calcular o tempo de viagem.\n",
    "\n",
    "    • Desenvolva uma interface simples que permita ao usuário escolher o meio de transporte e inserir a\n",
    "    distância."
   ]
  },
  {
   "cell_type": "code",
   "execution_count": 1,
   "metadata": {},
   "outputs": [
    {
     "name": "stdout",
     "output_type": "stream",
     "text": [
      "Escolha o meio de transporte:\n",
      "1 - Carro\n",
      "2 - Bicicleta\n",
      "3 - A pé\n",
      "Tempo estimado de viagem: 0.67 horas\n"
     ]
    }
   ],
   "source": [
    "from abc import ABC, abstractmethod\n",
    "\n",
    "class TravelStrategy(ABC):\n",
    "    @abstractmethod\n",
    "    def travel_time(self, distance: float) -> float:\n",
    "        pass\n",
    "\n",
    "class CarStrategy(TravelStrategy):\n",
    "    def travel_time(self, distance: float) -> float:\n",
    "        speed = 60\n",
    "        return distance / speed\n",
    "\n",
    "class BicycleStrategy(TravelStrategy):\n",
    "    def travel_time(self, distance: float) -> float:\n",
    "        speed = 15 \n",
    "        return distance / speed\n",
    "\n",
    "class WalkStrategy(TravelStrategy):\n",
    "    def travel_time(self, distance: float) -> float:\n",
    "        speed = 5\n",
    "        return distance / speed\n",
    "\n",
    "class TravelContext:\n",
    "    def __init__(self, strategy: TravelStrategy = None):\n",
    "        self.strategy = strategy\n",
    "\n",
    "    def set_strategy(self, strategy: TravelStrategy):\n",
    "        self.strategy = strategy\n",
    "\n",
    "    def calculate_time(self, distance: float) -> float:\n",
    "        if self.strategy is None:\n",
    "            raise ValueError(\"Estratégia de transporte não definida.\")\n",
    "        return self.strategy.travel_time(distance)\n",
    "\n",
    "def main():\n",
    "    context = TravelContext()\n",
    "    \n",
    "    strategies = {\n",
    "        1: CarStrategy(),\n",
    "        2: BicycleStrategy(),\n",
    "        3: WalkStrategy()\n",
    "    }\n",
    "    \n",
    "    print(\"Escolha o meio de transporte:\")\n",
    "    print(\"1 - Carro\")\n",
    "    print(\"2 - Bicicleta\")\n",
    "    print(\"3 - A pé\")\n",
    "    \n",
    "    choice = int(input(\"Digite o número correspondente ao meio de transporte: \"))\n",
    "    \n",
    "    if choice not in strategies:\n",
    "        print(\"Escolha inválida!\")\n",
    "        return\n",
    "    \n",
    "    distance = float(input(\"Digite a distância a ser percorrida (em km): \"))\n",
    "    \n",
    "    context.set_strategy(strategies[choice])\n",
    "    time = context.calculate_time(distance)\n",
    "    \n",
    "    print(f\"Tempo estimado de viagem: {time:.2f} horas\")\n",
    "\n",
    "if __name__ == \"__main__\":\n",
    "    main()"
   ]
  },
  {
   "cell_type": "markdown",
   "metadata": {},
   "source": [
    "2. Usar o padrão Strategy para aplicar diferentes estratégias de desconto em um sistema de compras.\n",
    "Descrição: Desenvolva uma aplicação Python que simule a aplicação de descontos variáveis (desconto por\n",
    "fidelidade, desconto sazonal, desconto por volume de compra) em um valor total de compra. A estratégia de\n",
    "desconto deve poder ser trocada dinamicamente.\n",
    "\n",
    "    Passos:\n",
    "    \n",
    "    • Crie uma interface DiscountStrategy com um método apply_discount que aceite um valor de compra e\n",
    "    retorne o valor com desconto aplicado.\n",
    "    \n",
    "    • Implemente três classes de estratégia: LoyaltyDiscount, SeasonalDiscount e BulkPurchaseDiscount. Cada\n",
    "    uma deve calcular o desconto de uma forma diferente (por exemplo, 5% para fidelidade, 10% para\n",
    "    compras em promoção, 15% para grandes quantidades).\n",
    "    \n",
    "    • Crie uma classe ShoppingCart que use a estratégia de desconto. Essa classe deve ter o método\n",
    "    set_discount_strategy para alterar a estratégia de desconto e o método get_final_price para calcular o\n",
    "    valor total após aplicar o desconto.\n",
    "    \n",
    "    • Permita que o usuário insira o valor total da compra e escolha o tipo de desconto a ser aplicado."
   ]
  },
  {
   "cell_type": "code",
   "execution_count": null,
   "metadata": {},
   "outputs": [],
   "source": []
  },
  {
   "cell_type": "markdown",
   "metadata": {},
   "source": [
    "3. Implemente uma calculadora de impostos que use o padrão Strategy para aplicar diferentes tipos de\n",
    "impostos (por exemplo, imposto sobre renda, imposto sobre vendas, imposto sobre produtos).\n",
    "\n",
    "    Passos:\n",
    "    \n",
    "    • Crie uma interface ImpostoStrategy com o método calcular.\n",
    "    \n",
    "    • Implemente três estratégias: ImpostoRenda, ImpostoVendas e ImpostoProduto, cada uma com sua fórmula\n",
    "    de cálculo.\n",
    "    \n",
    "    • Crie uma classe CalculadoraDeImposto que receba diferentes estratégias e aplique o cálculo.\n",
    "    \n",
    "    • Crie uma função principal para testar o cálculo dos impostos com diferentes valores."
   ]
  },
  {
   "cell_type": "markdown",
   "metadata": {},
   "source": []
  },
  {
   "cell_type": "markdown",
   "metadata": {},
   "source": [
    "4. Implemente um jogo simples onde diferentes personagens podem atacar usando estratégias de\n",
    "ataque variadas (por exemplo, ataque corpo a corpo, ataque à distância, ataque mágico).\n",
    "\n",
    "    Passos:\n",
    "\n",
    "    • Crie uma interface EstrategiaDeAtaque com o método atacar().\n",
    "\n",
    "    • Implemente três estratégias: AtaqueCorpoACorpo, AtaqueDistancia, e AtaqueMagico.\n",
    "\n",
    "    • Crie uma classe Personagem que tenha um nome e uma estratégia de ataque, permitindo alterar a estratégia dinamicamente.\n",
    "\n",
    "    • Crie uma função principal para criar personagens e simular diferentes ataques.\n"
   ]
  },
  {
   "cell_type": "markdown",
   "metadata": {},
   "source": []
  }
 ],
 "metadata": {
  "kernelspec": {
   "display_name": "Python 3",
   "language": "python",
   "name": "python3"
  },
  "language_info": {
   "codemirror_mode": {
    "name": "ipython",
    "version": 3
   },
   "file_extension": ".py",
   "mimetype": "text/x-python",
   "name": "python",
   "nbconvert_exporter": "python",
   "pygments_lexer": "ipython3",
   "version": "3.10.12"
  }
 },
 "nbformat": 4,
 "nbformat_minor": 2
}
