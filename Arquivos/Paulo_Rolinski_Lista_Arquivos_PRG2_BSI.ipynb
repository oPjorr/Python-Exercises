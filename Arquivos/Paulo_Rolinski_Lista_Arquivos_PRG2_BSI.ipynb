{
  "cells": [
    {
      "cell_type": "markdown",
      "metadata": {
        "id": "PWDD4g5rUwKl"
      },
      "source": [
        "1. Crie um programa que crie um arquivo chamado \"texto.txt\" e escreva nele o\n",
        "seguinte texto: \"Olá, mundo!\"."
      ]
    },
    {
      "cell_type": "code",
      "execution_count": 1,
      "metadata": {
        "id": "Om_sPufjUrse"
      },
      "outputs": [],
      "source": [
        "with open(\"texto.txt\", \"w\") as arquivo:\n",
        "  arquivo.write(\"Olá, mundo!\")\n",
        "\n",
        "arquivo.close()"
      ]
    },
    {
      "cell_type": "markdown",
      "metadata": {
        "id": "anOsffKsU53-"
      },
      "source": [
        "2. Crie um programa que leia o conteúdo do arquivo \"texto.txt\" criado no\n",
        "exercício anterior e o exiba no console."
      ]
    },
    {
      "cell_type": "code",
      "execution_count": null,
      "metadata": {
        "colab": {
          "base_uri": "https://localhost:8080/"
        },
        "id": "pbXVXZHWU678",
        "outputId": "d420ca7a-fb73-4430-bb01-4cc7f64f2db5"
      },
      "outputs": [],
      "source": [
        "with open(\"texto.txt\", \"r\") as f:\n",
        "  print(f.read())"
      ]
    },
    {
      "cell_type": "markdown",
      "metadata": {
        "id": "pcSMN71KVcuP"
      },
      "source": [
        "3. Crie um programa que conte e exiba o número de linhas no arquivo\n",
        "\"texto.txt\"."
      ]
    },
    {
      "cell_type": "code",
      "execution_count": null,
      "metadata": {
        "colab": {
          "base_uri": "https://localhost:8080/"
        },
        "id": "KD2toyD7dn9Q",
        "outputId": "836510b3-da5a-4b5c-a731-e13602540f59"
      },
      "outputs": [],
      "source": [
        "arquivo = open('texto.txt', 'r')\n",
        "linhas = arquivo.readlines()\n",
        "print(len(linhas))"
      ]
    },
    {
      "cell_type": "markdown",
      "metadata": {
        "id": "LDlk6WbNVdsG"
      },
      "source": [
        "4. Crie um programa que copie o conteúdo do arquivo \"texto.txt\" para um novo\n",
        "arquivo chamado \"copia.txt\"."
      ]
    },
    {
      "cell_type": "code",
      "execution_count": null,
      "metadata": {
        "id": "thgHmkORVfJ-"
      },
      "outputs": [],
      "source": [
        "with open(\"texto.txt\", \"r\") as f:\n",
        "  conteudo = f.read()\n",
        "\n",
        "with open('copia.txt', 'w') as c:\n",
        "  c.write(conteudo)"
      ]
    },
    {
      "cell_type": "markdown",
      "metadata": {
        "id": "nRKA2lmIVfrF"
      },
      "source": [
        "5. Crie um programa que leia o conteúdo dos arquivos \"texto.txt\" e\n",
        "\"copia.txt\", e escreva o conteúdo combinado em um terceiro arquivo\n",
        "chamado \"combinado.txt\"."
      ]
    },
    {
      "cell_type": "code",
      "execution_count": null,
      "metadata": {
        "id": "ocJhv0_hViuW"
      },
      "outputs": [],
      "source": [
        "with open(\"texto.txt\", \"r\") as f:\n",
        "  conteudo1 = f.read()\n",
        "\n",
        "with open(\"copia.txt\", \"r\") as f:\n",
        "  conteudo2 = f.read()\n",
        "\n",
        "with open('combinado.txt', 'w') as f:\n",
        "  f.write(conteudo1 + \"\\n\")\n",
        "  f.write(conteudo2)"
      ]
    },
    {
      "cell_type": "markdown",
      "metadata": {
        "id": "VokSuipTVhJe"
      },
      "source": [
        "6. Crie um programa que conte e exiba o número de palavras no arquivo\n",
        "\"texto.txt\"."
      ]
    },
    {
      "cell_type": "code",
      "execution_count": null,
      "metadata": {
        "colab": {
          "base_uri": "https://localhost:8080/"
        },
        "id": "QRVS0i1TVkme",
        "outputId": "f7930502-2b15-48bc-d671-aa58858fe46e"
      },
      "outputs": [],
      "source": [
        "conta_palavras = 0\n",
        "\n",
        "with open(\"texto.txt\", \"r\") as texto:\n",
        "  conteudo = texto.read()\n",
        "  linhas = conteudo.split()\n",
        "\n",
        "  for palavra in linhas:\n",
        "    if not palavra.isnumeric():\n",
        "      conta_palavras += 1\n",
        "\n",
        "print(conta_palavras)"
      ]
    },
    {
      "cell_type": "markdown",
      "metadata": {
        "id": "lJM_gK8VVmaX"
      },
      "source": [
        "7. Crie um programa que leia o conteúdo do arquivo \"texto.txt\" e substitua\n",
        "todas as ocorrências da palavra \"mundo\" por \"Python\". O novo conteúdo deve ser\n",
        "escrito em um novo arquivo chamado \"modificado.txt\"."
      ]
    },
    {
      "cell_type": "code",
      "execution_count": null,
      "metadata": {
        "id": "RrO5CkHiVmvu"
      },
      "outputs": [],
      "source": [
        "with open(\"texto.txt\", \"r\") as texto:\n",
        "  a = texto.read()\n",
        "\n",
        "with open(\"modificado.txt\", \"w\") as modificado:\n",
        "  conteudomod = a.replace('mundo', 'Python')\n",
        "\n",
        "  modificado.write(conteudomod)"
      ]
    },
    {
      "cell_type": "markdown",
      "metadata": {
        "id": "AFcYdyvLVpO4"
      },
      "source": [
        "8. Crie um programa que adicione a frase \"Isso é incrível!\" ao final do arquivo\n",
        "\"texto.txt\"."
      ]
    },
    {
      "cell_type": "code",
      "execution_count": null,
      "metadata": {
        "id": "eO4J6lHCsdqu"
      },
      "outputs": [],
      "source": [
        "with open(\"texto.txt\", \"a\") as texto:\n",
        "  texto.write(\"\\nIsso é incrível\")"
      ]
    },
    {
      "cell_type": "markdown",
      "metadata": {
        "id": "s3XOyw3eVsJn"
      },
      "source": [
        "9. Crie um programa que leia o conteúdo do arquivo \"texto.txt\" e conte quantas\n",
        "letras (excluindo espaços) estão presentes no texto."
      ]
    },
    {
      "cell_type": "code",
      "execution_count": null,
      "metadata": {
        "colab": {
          "base_uri": "https://localhost:8080/"
        },
        "id": "67tbFYOnVssu",
        "outputId": "2bf72ff8-0cc0-43a8-fb25-9caeeaf54468"
      },
      "outputs": [],
      "source": [
        "with open(\"texto.txt\", \"r\") as arquivo:\n",
        "    texto = arquivo.read().replace(\" \", \"\")\n",
        "\n",
        "contador_letras = 0\n",
        "\n",
        "for caractere in texto:\n",
        "    if caractere.isalpha():\n",
        "        contador_letras += 1\n",
        "\n",
        "print(f\"O arquivo contém {contador_letras} letras (excluindo espaços).\")"
      ]
    },
    {
      "cell_type": "markdown",
      "metadata": {
        "id": "JlI5qX-KVurn"
      },
      "source": [
        "10. Crie um programa que leia o conteúdo do arquivo \"numeros.txt\" (contendo\n",
        "números inteiros separados por vírgula), some esses números e exiba o\n",
        "resultado."
      ]
    },
    {
      "cell_type": "code",
      "execution_count": null,
      "metadata": {
        "colab": {
          "base_uri": "https://localhost:8080/"
        },
        "id": "nsMkglE-VvJ_",
        "outputId": "08e39708-6212-46f7-8832-0f6fe4e544ea"
      },
      "outputs": [],
      "source": [
        "with open(\"numeros.txt\", \"w\") as arq_numeros:\n",
        "    for i in range(1, 101):\n",
        "        arq_numeros.write(f'{str(i)},')\n",
        "\n",
        "with open(\"numeros.txt\", \"r\") as arq_numeros:\n",
        "    conteudo = arq_numeros.read()\n",
        "    numeros = [int(numero) for numero in conteudo.split(',') if numero.strip().isdigit()]\n",
        "    print(sum(numeros))"
      ]
    },
    {
      "cell_type": "markdown",
      "metadata": {
        "id": "r48hweRLVyT-"
      },
      "source": [
        "11. Faça um programa que leia um arquivo texto contendo uma lista de endereços IP\n",
        "e gere um outro arquivo, contendo um relatório dos endereços IP válidos e\n",
        "inválidos.\n",
        "O arquivo de entrada possui o seguinte formato:\n",
        "\n",
        "```python\n",
        "ips = [\n",
        "200.135.80.9\n",
        "192.168.1.1\n",
        "8.35.67.74\n",
        "257.32.4.5\n",
        "85.345.1.2\n",
        "1.2.3.4\n",
        "9.8.234.5\n",
        "192.168.0.256\n",
        "]\n",
        "```\n",
        "\n",
        "O arquivo de saída possui o seguinte formato:\n",
        "\n",
        "```python\n",
        "[Endereços válidos:]\n",
        "200.135.80.9\n",
        "192.168.1.1\n",
        "8.35.67.74\n",
        "1.2.3.4\n",
        "\n",
        "[Endereços inválidos:]\n",
        "257.32.4.5\n",
        "85.345.1.2\n",
        "9.8.234.5\n",
        "192.168.0.256\n",
        "```"
      ]
    },
    {
      "cell_type": "code",
      "execution_count": null,
      "metadata": {
        "id": "VOfavUKaVyzv"
      },
      "outputs": [],
      "source": [
        "ips = [\n",
        "'200.135.80.9',\n",
        "'192.168.1.1',\n",
        "'8.35.67.74',\n",
        "'257.32.4.5',\n",
        "'85.345.1.2',\n",
        "'1.2.3.4',\n",
        "'9.8.234.5',\n",
        "'192.168.0.256'\n",
        "]\n",
        "\n",
        "validos = open(\"validos.txt\", \"w\")\n",
        "invalidos = open(\"invalidos.txt\", \"w\")\n",
        "\n",
        "for ip in ips:\n",
        "  octetos = ip.split('.')\n",
        "\n",
        "  octetos_validos = all(0 <= int(octeto) <= 255 for octeto in octetos)\n",
        "\n",
        "  if octetos_validos:\n",
        "    validos.write(ip + \"\\n\")\n",
        "  else:\n",
        "    invalidos.write(ip + \"\\n\")"
      ]
    },
    {
      "cell_type": "markdown",
      "metadata": {
        "id": "4oN3Dl4OWXzr"
      },
      "source": [
        "12. A ACME Inc., uma empresa de 500 funcionários, está tendo problemas de espaço\n",
        "em disco no seu servidor de arquivos. Para tentar resolver este problema, o\n",
        "Administrador de Rede precisa saber qual o espaço ocupado pelos usuários, e\n",
        "identificar os usuários com maior espaço ocupado. Através de um programa,\n",
        "baixado da Internet, ele conseguiu gerar o seguinte arquivo, chamado\n",
        "\"usuarios.txt\":\n",
        "\n",
        "\n",
        "```css\n",
        "alexandre 456123789\n",
        "anderson 1245698456\n",
        "antonio 123456456\n",
        "carlos 91257581\n",
        "cesar 987458\n",
        "rosemary 789456125\n",
        "```\n",
        "\n",
        "No arquivo acima, o nome do usuário possui 15 caracteres. A partir dele, você deve\n",
        "criar um programa que gere um relatório, chamado \"relatório.txt\", no seguinte\n",
        "formato:\n",
        "\n",
        "<div align=\"center\">\n",
        "<br>\n",
        "\n",
        "|||ACME Inc. Uso do espaço em disco pelos usuários||\n",
        "|:-:|:-:|:-:| :-:|\n",
        "|||Nº. Usuário Espaço utilizado % do uso||\n",
        "|  1  | alexandre | 434,99 MB  | 16,85% |\n",
        "|  2  | anderson  | 1187,99 MB | 46,02% |\n",
        "|  3  | antonio   | 117,73 MB  | 4,56%  |\n",
        "|  4  | carlos    | 87,03 MB   | 3,37%  |\n",
        "|  5  | cesar     | 0,94 MB    | 0,04%  |\n",
        "|  6  | rosemary  | 752,88 MB  | 29,16% |\n",
        "\n",
        "```css\n",
        "Espaco total ocupado: 2581,57 MB\n",
        "Espaco medio ocupado: 430,26 MB\n",
        "```\n",
        "\n",
        "<br>\n",
        "\n",
        "</div>"
      ]
    },
    {
      "cell_type": "markdown",
      "metadata": {
        "id": "LJLiUih1ZrQ8"
      },
      "source": [
        "Observação: O arquivo de entrada deve ser lido uma única vez, e os dados\n",
        "armazenados em memória, caso sejam necessários, de forma a agilizar a execução do\n",
        "programa. A conversão do espaço ocupado em disco, de bytes para megabytes deverá\n",
        "ser feita através de uma função separada, que será chamada pelo programa principal.\n",
        "O cálculo do percentual de uso também deverá ser feito através de uma função, que\n",
        "será chamada pelo programa principal."
      ]
    },
    {
      "cell_type": "code",
      "execution_count": null,
      "metadata": {
        "id": "Y3nd2JFdWYYB"
      },
      "outputs": [],
      "source": [
        "dados_usuarios = [\n",
        "    \"alexandre: 456123789\\n\",\n",
        "    \"anderson: 1245698456\\n\",\n",
        "    \"antonio: 123456456\\n\",\n",
        "    \"carlos: 91257581\\n\",\n",
        "    \"cesar: 987458\\n\",\n",
        "    \"rosemary: 789456125\\n\"\n",
        "]\n",
        "\n",
        "with open(\"usuarios.txt\", \"w\") as arquivo_usuarios:\n",
        "    arquivo_usuarios.writelines(dados_usuarios)\n",
        "\n",
        "with open(\"usuarios.txt\", \"r\") as arquivo:\n",
        "    dados_usuarios = arquivo.readlines()\n",
        "\n",
        "espaco_total = 0\n",
        "relatorio = []\n",
        "\n",
        "for i, linha in enumerate(dados_usuarios, start=1):\n",
        "    nome, espaco_str = linha.strip().split(\": \")\n",
        "    espaco = int(espaco_str)\n",
        "    espaco_mb = espaco / (1024 ** 2)\n",
        "    espaco_formatado = \"{:.2f} MB\".format(espaco_mb)\n",
        "\n",
        "    relatorio.append([i, nome, espaco_formatado, espaco_mb])\n",
        "\n",
        "    espaco_total += espaco_mb\n",
        "\n",
        "espaco_medio = espaco_total / len(dados_usuarios)\n",
        "\n",
        "with open(\"relatorio.txt\", \"w\") as arquivo_saida:\n",
        "    arquivo_saida.write(\"|||ACME Inc. Uso do espaço em disco pelos usuários||\\n\")\n",
        "    arquivo_saida.write(\"|:-:|:-:|:-:| :-:|\\n\")\n",
        "    arquivo_saida.write(\"|||Nº. Usuário Espaço utilizado % do uso||\\n\")\n",
        "\n",
        "    for linha_relatorio in relatorio:\n",
        "        percentual = (linha_relatorio[3] / espaco_total) * 100\n",
        "        arquivo_saida.write(\"|{:3d}|{:15s}|{:13s}|{:8.2f}%|\\n\".format(linha_relatorio[0], linha_relatorio[1], linha_relatorio[2], percentual))\n",
        "\n",
        "    arquivo_saida.write(\"\\n\")\n",
        "    arquivo_saida.write(\"Espaco total ocupado: {:.2f} MB\\n\".format(espaco_total))\n",
        "    arquivo_saida.write(\"Espaco medio ocupado: {:.2f} MB\\n\".format(espaco_medio))\n",
        "\n"
      ]
    },
    {
      "cell_type": "markdown",
      "metadata": {
        "id": "WJ0rOJDbZuz7"
      },
      "source": [
        "13. Crie um programa que leia um arquivo-texto e gere um arquivo de saída\n",
        "paginado. Cada linha não deve conter mais de 76 caracteres. Cada página terá no\n",
        "máximo 60 linhas. Adicione na última linha de cada página o número da página\n",
        "atual e o nome do arquivo original."
      ]
    },
    {
      "cell_type": "code",
      "execution_count": null,
      "metadata": {
        "colab": {
          "base_uri": "https://localhost:8080/"
        },
        "id": "NAypKMwQNAPi",
        "outputId": "28a6c440-27d4-47db-fe98-eb7c837abb7b"
      },
      "outputs": [],
      "source": [
        "input_filename = \"arquivo_ultrapassando_requisitos.txt\"\n",
        "\n",
        "conteudo = \"X\" * 80\n",
        "\n",
        "with open(input_filename, \"w\") as arquivo_saida:\n",
        "    for i in range(70):\n",
        "        arquivo_saida.write(conteudo + \"\\n\")\n",
        "\n",
        "print(f\"Arquivo '{input_filename}' gerado com sucesso.\")"
      ]
    },
    {
      "cell_type": "code",
      "execution_count": null,
      "metadata": {
        "colab": {
          "base_uri": "https://localhost:8080/"
        },
        "id": "3J7751hMZvLs",
        "outputId": "6e1b77d9-f13d-41cb-da51-45919c5c43a0"
      },
      "outputs": [],
      "source": [
        "LARGURA = 76\n",
        "LINHAS_POR_PAGINA = 60\n",
        "\n",
        "def verifica_pagina(arquivo, linha, pagina):\n",
        "    if linha == LINHAS_POR_PAGINA:\n",
        "        rodapé = f\"= {input_filename} - Página: {pagina} =\"\n",
        "        arquivo.write(rodapé.center(LARGURA - 1) + \"\\n\")\n",
        "        pagina += 1\n",
        "        linha = 1\n",
        "    return linha, pagina\n",
        "\n",
        "def escreve(arquivo, linha, nlinhas, pagina):\n",
        "    if linha.strip():\n",
        "        arquivo.write(linha + \"\\n\")\n",
        "    return verifica_pagina(arquivo, nlinhas + 1, pagina)\n",
        "\n",
        "entrada = open(input_filename, encoding=\"utf-8\")\n",
        "saida = open(\"saida_paginada.txt\", \"w\", encoding=\"utf-8\")\n",
        "\n",
        "pagina = 1\n",
        "linhas = 1\n",
        "\n",
        "for linha in entrada.readlines():\n",
        "    palavras = linha.rstrip().split(\" \")\n",
        "    linha_atual = \"\"\n",
        "    for p in palavras:\n",
        "        p = p.strip()\n",
        "        if len(linha_atual) + len(p) + 1 > LARGURA:\n",
        "            linhas, pagina = escreve(saida, linha_atual, linhas, pagina)\n",
        "            linha_atual = p + \" \"\n",
        "        else:\n",
        "            linha_atual += p + \" \"\n",
        "    if linha_atual.strip():\n",
        "        linhas, pagina = escreve(saida, linha_atual, linhas, pagina)\n",
        "\n",
        "while linhas != 1:\n",
        "    linhas, pagina = escreve(saida, \"\", linhas, pagina)\n",
        "\n",
        "entrada.close()\n",
        "saida.close()\n",
        "\n",
        "\n",
        "with open(\"saida_paginada.txt\", \"r\") as f:\n",
        "  print(f.readlines())"
      ]
    },
    {
      "cell_type": "markdown",
      "metadata": {
        "id": "8J3QQC-IZw-7"
      },
      "source": [
        "14. Crie um programa que leia um arquivo-texto e elimine os espaços repetidos entre\n",
        "as palavras e o fim das linhas. O arquivo de saída também não deve ter mais de\n",
        "uma linha em branco repetida."
      ]
    },
    {
      "cell_type": "code",
      "execution_count": null,
      "metadata": {
        "colab": {
          "base_uri": "https://localhost:8080/"
        },
        "id": "p1PcOKP-YXYE",
        "outputId": "dda24bad-c6da-4ce7-dd4f-af9278985e28"
      },
      "outputs": [],
      "source": [
        "arquivo_entrada = open(\"entrada.txt\", \"w\")\n",
        "arquivo_entrada.write(\"Ola \\n\"\n",
        "\"Eu sou um \\n\"\n",
        "\"texto meramente\\n\"\n",
        "\"Ilustrativo\")"
      ]
    },
    {
      "cell_type": "code",
      "execution_count": null,
      "metadata": {
        "colab": {
          "base_uri": "https://localhost:8080/"
        },
        "id": "m1-S5odTZxU8",
        "outputId": "b4ac56d2-4697-46a2-db12-35f408636a52"
      },
      "outputs": [],
      "source": [
        "def limpar_texto(texto):\n",
        "    linhas = texto.splitlines()\n",
        "    linhas_limpas = []\n",
        "\n",
        "    linha_em_branco = False\n",
        "\n",
        "    for linha in linhas:\n",
        "        linha = linha.strip()\n",
        "        palavras = linha.split()\n",
        "        linha_limpa = \" \".join(palavras)\n",
        "\n",
        "        if linha_limpa:\n",
        "            linhas_limpas.append(linha_limpa)\n",
        "            linha_em_branco = False\n",
        "        elif not linha_em_branco:\n",
        "            linhas_limpas.append(\"\")\n",
        "            linha_em_branco = True\n",
        "\n",
        "    return \"\\n\".join(linhas_limpas)\n",
        "\n",
        "with open(\"entrada.txt\", \"r\") as arquivo_entrada:\n",
        "    texto_entrada = arquivo_entrada.read()\n",
        "\n",
        "texto_limpo = limpar_texto(texto_entrada)\n",
        "\n",
        "with open(\"saida.txt\", \"w\") as arquivo_saida:\n",
        "    arquivo_saida.write(texto_limpo)\n",
        "\n",
        "print(\"Texto limpo e salvo com sucesso no arquivo 'saida.txt'.\")"
      ]
    }
  ],
  "metadata": {
    "colab": {
      "collapsed_sections": [
        "BbwL0PNKlc5M"
      ],
      "provenance": []
    },
    "kernelspec": {
      "display_name": "Python 3",
      "name": "python3"
    },
    "language_info": {
      "codemirror_mode": {
        "name": "ipython",
        "version": 3
      },
      "file_extension": ".py",
      "mimetype": "text/x-python",
      "name": "python",
      "nbconvert_exporter": "python",
      "pygments_lexer": "ipython3",
      "version": "3.10.12"
    }
  },
  "nbformat": 4,
  "nbformat_minor": 0
}
