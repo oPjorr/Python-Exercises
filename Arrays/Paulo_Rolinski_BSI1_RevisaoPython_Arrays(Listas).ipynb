{
  "cells": [
    {
      "cell_type": "markdown",
      "metadata": {},
      "source": [
        "### Arrays em Python"
      ]
    },
    {
      "cell_type": "markdown",
      "metadata": {
        "id": "MDq7JFPHSE0C"
      },
      "source": [
        "1) Inicializar um vetor de inteiros com números de 0 a 99."
      ]
    },
    {
      "cell_type": "code",
      "execution_count": null,
      "metadata": {
        "colab": {
          "base_uri": "https://localhost:8080/"
        },
        "id": "hZMZOsF1R_ce",
        "outputId": "4aa34398-1e1b-4bd3-a9a3-75f598c0ad44"
      },
      "outputs": [
        {
          "name": "stdout",
          "output_type": "stream",
          "text": [
            "[0, 1, 2, 3, 4, 5, 6, 7, 8, 9, 10, 11, 12, 13, 14, 15, 16, 17, 18, 19, 20, 21, 22, 23, 24, 25, 26, 27, 28, 29, 30, 31, 32, 33, 34, 35, 36, 37, 38, 39, 40, 41, 42, 43, 44, 45, 46, 47, 48, 49, 50, 51, 52, 53, 54, 55, 56, 57, 58, 59, 60, 61, 62, 63, 64, 65, 66, 67, 68, 69, 70, 71, 72, 73, 74, 75, 76, 77, 78, 79, 80, 81, 82, 83, 84, 85, 86, 87, 88, 89, 90, 91, 92, 93, 94, 95, 96, 97, 98, 99]\n"
          ]
        }
      ],
      "source": [
        "lista = list(range(100))\n",
        "print(lista)"
      ]
    },
    {
      "cell_type": "markdown",
      "metadata": {
        "id": "fUWDAVC9SM38"
      },
      "source": [
        "2) Escreva um algoritmo que leia um conjunto de 10 notas, armazene-as em uma variável composta chamada NOTA e calcule e imprima a sua média."
      ]
    },
    {
      "cell_type": "code",
      "execution_count": null,
      "metadata": {
        "id": "CTI9MlarSPid"
      },
      "outputs": [],
      "source": [
        "notas = []\n",
        "soma = 0.0\n",
        "posicoes = [\"primeira\", \"segunda\", \"terceira\", \"quarta\", \"quinta\", \"sexta\", \"sétima\", \"oitava\", \"nona\", \"décima\"]\n",
        "for i in range(10):\n",
        "  notas.append(float(input(f\"Entre com a {posicoes[i]} nota \")))\n",
        "  soma += notas[i]\n",
        "print(f\"A média das notas é: {soma / len(posicoes)}\")"
      ]
    },
    {
      "cell_type": "markdown",
      "metadata": {
        "id": "SGHOxe6XSP-m"
      },
      "source": [
        "3) Repita o algoritmo acima, porém imprima quantos valores estão acima da média."
      ]
    },
    {
      "cell_type": "code",
      "execution_count": null,
      "metadata": {
        "id": "03AtdYGVSSL3"
      },
      "outputs": [],
      "source": [
        "notas = []\n",
        "soma = 0.0\n",
        "contador = 0\n",
        "posicoes = [\"primeira\", \"segunda\", \"terceira\", \"quarta\", \"quinta\", \"sexta\", \"sétima\", \"oitava\", \"nona\", \"décima\"]\n",
        "for i in range(10):\n",
        "  notas.append(float(input(f\"Entre com a {posicoes[i]} nota \")))\n",
        "  soma += notas[i]\n",
        "print(f\"A média das notas é: {soma / len(posicoes)}\")\n",
        "print()\n",
        "for nota in notas:\n",
        "  if nota >= 7: contador += 1\n",
        "print(f\"A quantidade de notas acima da média é {contador} aluno(s)\")"
      ]
    },
    {
      "cell_type": "markdown",
      "metadata": {
        "id": "Rzx3cidje8jg"
      },
      "source": [
        "4) Faça um algoritmo que leia um vetor que contém as notas de 30 alunos. Imprima o maior valor, o menor valor, a média da turma e a quantidade de notas abaixo da média."
      ]
    },
    {
      "cell_type": "code",
      "execution_count": null,
      "metadata": {
        "id": "Ydhfv4gje_Kb"
      },
      "outputs": [],
      "source": [
        "notas = []\n",
        "soma = 0.0\n",
        "contador = 0\n",
        "for i in range(3):\n",
        "  notas.append(float(input(f\"Entre com a nota: \")))\n",
        "  soma += notas[i]\n",
        "\n",
        "print(f\"O maior valor é {max(notas)}\", f\"e o menor é {min(notas)}\")\n",
        "print(f\"A média das notas é: {round(soma / len(notas))}\")\n",
        "for nota in notas:\n",
        "  if nota < 7: contador += 1\n",
        "  print(\"nota:\", nota)\n",
        "print(f\"A quantidade de notas abaixo da média é de: \", contador)"
      ]
    },
    {
      "cell_type": "markdown",
      "metadata": {
        "id": "ZBCJJF24fDlc"
      },
      "source": [
        "5) Ler um vetor de 100 elementos numéricos e verificar se existem elementos iguais a 30. Se existirem, escrever as posições em que estão armazenados."
      ]
    },
    {
      "cell_type": "code",
      "execution_count": null,
      "metadata": {
        "id": "H6sTUWvWfKQ-"
      },
      "outputs": [],
      "source": [
        "from random import randint\n",
        "\n",
        "listaNum = []\n",
        "for i in range(100):\n",
        "  listaNum.append(randint(0, 100))\n",
        "\n",
        "for num in listaNum:\n",
        "  if num == 30:\n",
        "    print(f\"A posição em que está armazenado o valor solicitado é {listaNum.index(num)}\")\n",
        "    listaNum.remove(30)"
      ]
    },
    {
      "cell_type": "markdown",
      "metadata": {
        "id": "vOS98EeffK1l"
      },
      "source": [
        "6) Fazer um algoritmo que calcule e escreva o somatório dos valores armazenados numa variável composta unidimensional (vetor) A, de 100 elementos numéricos a serem lidos do dispositivo de entrada."
      ]
    },
    {
      "cell_type": "code",
      "execution_count": null,
      "metadata": {
        "id": "5Vgdr-fi37wa"
      },
      "outputs": [],
      "source": [
        "lista = []\n",
        "\n",
        "for i in range(5):\n",
        "  lista.append(int(input(\"Escolha o valor desejado: \")))\n",
        "  soma = sum(lista)\n",
        "print(\"O somatório dos valores armazenados é de: \", soma)"
      ]
    },
    {
      "cell_type": "markdown",
      "metadata": {
        "id": "TI3-w6ZJ39KR"
      },
      "source": [
        "7) Escreva um algoritmo que leia um vetor de 200 valores numéricos reais e os imprima na ordem contrária em que foi lida."
      ]
    },
    {
      "cell_type": "code",
      "execution_count": null,
      "metadata": {
        "id": "uB6vg1DGfRoI"
      },
      "outputs": [],
      "source": [
        "from random import randint\n",
        "\n",
        "lista = []\n",
        "for i in range(20):\n",
        "  lista.append(randint(1, 20))\n",
        "lista.reverse()\n",
        "\n",
        "print(lista)"
      ]
    },
    {
      "cell_type": "markdown",
      "metadata": {
        "id": "kqQut9kM4Wgf"
      },
      "source": [
        "8) Escreva um algoritmo para fazer a soma de dois vetores de 10 elementos reais lidos do teclado. O primeiro elemento do primeiro vetor deverá ser adicionado ao primeiro elemento do segundo vetor e, o resultado deverá ser acumulado em um terceiro vetor também de 10 elementos. Imprimir os três vetores conforme layout de impressão abaixo:\n",
        "\n",
        "VETOR 1: __ __ __ __ __ __ __ __ __ __\n",
        "\n",
        "VETOR 2: __ __ __ __ __ __ __ __ __ __\n",
        "\n",
        "VETOR 3: __ __ __ __ __ __ __ __ __ __"
      ]
    },
    {
      "cell_type": "code",
      "execution_count": null,
      "metadata": {
        "id": "n4elYzE64rx1"
      },
      "outputs": [],
      "source": [
        "vetor1, vetor2, vetor3 = [], [], []\n",
        "\n",
        "for i in range(5):\n",
        "  vetor1.append(int(input(\"Informe os valores do primeiro vetor: \")))\n",
        "  if i == 0: vetor2.append(vetor1[0])\n",
        "  vetor2.append(int(input(\"Informe os valores do segundo vetor: \")))\n",
        "  vetor3.append(vetor1[i] + vetor2[i])\n",
        "vetor2.pop()\n",
        "\n",
        "print(vetor1)\n",
        "print(vetor2)\n",
        "print(vetor3)"
      ]
    },
    {
      "cell_type": "markdown",
      "metadata": {
        "id": "pRfWBuAb4wDw"
      },
      "source": [
        "9) Fazer um algoritmo que:\n",
        "a) Leia duas variáveis compostas unidimensionais, contendo, cada uma, 25 elementos numéricos;\n",
        "b) intercale os elementos desses dois conjuntos formando uma nova variável composta\n",
        "unidimensional de 50 elementos;\n",
        "c) Escreva o resultado obtido."
      ]
    },
    {
      "cell_type": "code",
      "execution_count": null,
      "metadata": {
        "id": "O_8THeCR40Kl"
      },
      "outputs": [],
      "source": [
        "vetor1 = []\n",
        "vetor2 = []\n",
        "vetor3 = []\n",
        "\n",
        "for i in range(5):\n",
        "  vetor1.append(int(input(\"Conjunto 1 - Digite o valor desejado: \")))\n",
        "for i in range(5):\n",
        "  vetor2.append(int(input(\"Conjunto 2 - Digite o valor desejado: \")))\n",
        "  vetor3.append(vetor1[i])\n",
        "  vetor3.append(vetor2[i])\n",
        "print(\"Valores para o conjunto 1: \", vetor1, \"\\nValores para o conjunto 2: \", vetor2, \"\\nValores para o conjunto intercalado: \", vetor3)"
      ]
    },
    {
      "cell_type": "markdown",
      "metadata": {
        "id": "4sJvRnHy41-T"
      },
      "source": [
        "11) Faça um algoritmo que leia um conjunto de 10 elementos reais e os coloque em um vetor.\n",
        "Construa um segundo vetor formado da seguinte maneira:\n",
        "\n",
        "• Os elementos de ordem par são os correspondentes do primeiro vetor multiplicados por 3.\n",
        "\n",
        "• Os elementos de ordem ímpar são os correspondentes do primeiro vetor divididos por 2.\n",
        "\n",
        "• Imprima os dois vetores."
      ]
    },
    {
      "cell_type": "code",
      "execution_count": null,
      "metadata": {
        "id": "ygksIdJK5EYO"
      },
      "outputs": [],
      "source": [
        "vetor1 = []\n",
        "vetor2 = []\n",
        "\n",
        "for i in range(5):\n",
        "  vetor1.append(int(input(\"Conjunto 1 - Digite o valor desejado: \")))\n",
        "  if vetor1[i] % 2 == 0:\n",
        "    vetor2.append(vetor1[i] * 3)\n",
        "  else:\n",
        "    vetor2.append(vetor1[i] * 2)\n",
        "print(\"Valores para o conjunto 1: \", vetor1, \"\\nValores para o conjunto 2: \", vetor2)"
      ]
    },
    {
      "cell_type": "markdown",
      "metadata": {
        "id": "FikZWHL67EQt"
      },
      "source": [
        "12) Escreva um algoritmo que:\n",
        "\n",
        "a) leia um conjunto A de 20 elementos a partir de uma unidade de entrada;\n",
        "\n",
        "b) calcule e imprima o valor de S, onde:\n",
        "\n",
        "S = (A[0] - A[19])2 + (A[1] - A[18])2 + ... + (A[9] - A[10])2"
      ]
    },
    {
      "cell_type": "code",
      "execution_count": null,
      "metadata": {
        "id": "xl0-eLD67TEA"
      },
      "outputs": [],
      "source": [
        "A = []\n",
        "for i in range(20):\n",
        "    elemento = int(input(f\"Digite o elemento {i+1} de A: \"))\n",
        "    A.append(elemento)\n",
        "\n",
        "S = 0\n",
        "for i in range(10):\n",
        "    diferenca = A[i] - A[19-i]\n",
        "    S += diferenca ** 2\n",
        "\n",
        "print(\"O valor de S é:\", S)"
      ]
    },
    {
      "cell_type": "markdown",
      "metadata": {
        "id": "iOvRzRqp7Ts1"
      },
      "source": [
        "13) Escreva um algoritmo que:\n",
        "\n",
        "a) leia uma frase de 50 caracteres;\n",
        "\n",
        "b) conte quantos brancos existem na frase;\n",
        "\n",
        "c) conte quantas vezes a letra “A” aparece;\n",
        "\n",
        "d) imprima o que foi calculado nos itens b e c."
      ]
    },
    {
      "cell_type": "code",
      "execution_count": null,
      "metadata": {
        "id": "szL8QA_j7dGZ"
      },
      "outputs": [],
      "source": [
        "frase = input(\"Digite uma frase de até 50 caracteres: \").lower()\n",
        "\n",
        "contador_brancos = 0\n",
        "for caractere in frase:\n",
        "    if caractere == ' ':\n",
        "        contador_brancos += 1\n",
        "\n",
        "contador_letra_a = frase.count('a')\n",
        "\n",
        "print(\"Quantidade de espaços em branco:\", contador_brancos)\n",
        "print(\"Quantidade de vezes que a letra 'A' aparece:\", contador_letra_a)"
      ]
    },
    {
      "cell_type": "markdown",
      "metadata": {
        "id": "u63PJpDANeaR"
      },
      "source": [
        "14) Um armazém trabalha com 100 mercadorias diferentes identificadas pelos números inteiros de\n",
        "0 a 99. O dono do armazém anota a quantidade de cada mercadoria vendida durante o mês.\n",
        "Ele tem uma tabela mensal que indica para cada mercadoria o preço de venda. Escreva o\n",
        "algoritmo para calcular o faturamento mensal do armazém, isto é:\n",
        "\n",
        "$$FATURAMENTO\\:=\\:\\sum _{i=0}^{99}\\:\\left(QUANTIDADEi\\:* \\:PREÇOi\\right)$$\n",
        "\n",
        "As tabelas de preço e quantidade são fornecidas em dois vetores."
      ]
    },
    {
      "cell_type": "code",
      "execution_count": null,
      "metadata": {
        "id": "7UJQcvKEOPu_"
      },
      "outputs": [],
      "source": [
        "preco = []\n",
        "quantidade = []\n",
        "faturamento = 0\n",
        "\n",
        "for i in range(3):\n",
        "  preco.append(float(input(f\"Informe o valor do {i+1}º item: \")))\n",
        "  quantidade.append(float(input(f\"Informe a quantidade do {i+1}º item: \")))\n",
        "\n",
        "  faturamento += quantidade[i] * preco[i]\n",
        "\n",
        "print(faturamento)"
      ]
    },
    {
      "cell_type": "markdown",
      "metadata": {
        "id": "ZBiTscI17rfm"
      },
      "source": [
        "15) Classificar um vetor numérico VET de 20 elementos em ordem crescente."
      ]
    },
    {
      "cell_type": "code",
      "execution_count": null,
      "metadata": {
        "colab": {
          "base_uri": "https://localhost:8080/"
        },
        "id": "Ore1fP1G7tQn",
        "outputId": "56cf3456-f502-4bb8-b56e-cd8a96f63c95"
      },
      "outputs": [
        {
          "name": "stdout",
          "output_type": "stream",
          "text": [
            "Digite o elemento 1 do vetor: 6\n",
            "Digite o elemento 2 do vetor: 2\n",
            "Digite o elemento 3 do vetor: 4\n",
            "Vetor classificado em ordem crescente:\n",
            "2 4 6 \n"
          ]
        }
      ],
      "source": [
        "VET = []\n",
        "for i in range(3):\n",
        "    elemento = int(input(f\"Digite o elemento {i+1} do vetor: \"))\n",
        "    VET.append(elemento)\n",
        "\n",
        "VET = sorted(VET)\n",
        "\n",
        "print(\"\\nVetor classificado em ordem crescente:\")\n",
        "for elemento in VET:\n",
        "    print(elemento, end=\" \")\n",
        "print()"
      ]
    },
    {
      "cell_type": "markdown",
      "metadata": {
        "id": "84JAnV2o7uJY"
      },
      "source": [
        "16) Dado um vetor de 128 elementos, verificar se existe um elemento igual a K (chave) no vetor.\n",
        "Se existir, imprimir a posição onde foi encontrada a chave; se não; imprimir a mensagem:\n",
        "“CHAVE K NÃO ENCONTRADA”. O vetor A e a chave K são lidos a partir de uma unidade de\n",
        "entrada."
      ]
    },
    {
      "cell_type": "code",
      "execution_count": null,
      "metadata": {
        "id": "nxUFnmPp7xOW"
      },
      "outputs": [],
      "source": [
        "vetor_A = [int(input(\"Digite um elemento do vetor A: \")) for i in range(3)]\n",
        "\n",
        "chave = int(input(\"Digite a chave K: \"))\n",
        "\n",
        "posicao_encontrada = vetor_A.index(chave) if chave in vetor_A else -1\n",
        "\n",
        "if posicao_encontrada != -1:\n",
        "    print(\"Chave\", chave, \"encontrada na posição\", posicao_encontrada)\n",
        "else:\n",
        "    print(\"Chave\", chave, \"não encontrada\")"
      ]
    },
    {
      "cell_type": "markdown",
      "metadata": {
        "id": "GIsNNcuH74yg"
      },
      "source": [
        "17) Faça um algoritmo qualquer que leia uma matriz A de 15 linhas por 25 colunas e imprima o\n",
        "seu conteúdo."
      ]
    },
    {
      "cell_type": "code",
      "execution_count": null,
      "metadata": {
        "id": "ekjR17aN75fF"
      },
      "outputs": [],
      "source": [
        "A = []\n",
        "for i in range(3):\n",
        "    linha = []\n",
        "    for j in range(5):\n",
        "        elemento = int(input(f\"Digite o elemento da linha {i+1} e coluna {j+1}: \"))\n",
        "        linha.append(elemento)\n",
        "    A.append(linha)\n",
        "\n",
        "print(\"\\nConteúdo da matriz A:\")\n",
        "for linha in A:\n",
        "  for elemento in linha:\n",
        "    print(elemento, end=\" \")\n",
        "print()"
      ]
    },
    {
      "cell_type": "markdown",
      "metadata": {
        "id": "9twj4QGZ76IA"
      },
      "source": [
        "18) Dada uma matriz B, de 10 linhas por 20 colunas, escrever um algoritmo que calcula e imprima\n",
        "o somatório dos elementos da quinta linha."
      ]
    },
    {
      "cell_type": "code",
      "execution_count": null,
      "metadata": {
        "id": "TERn3pZd78fk"
      },
      "outputs": [],
      "source": [
        "matriz = [[], [], []]\n",
        "cont1 = 0\n",
        "for x in range(10):\n",
        "    for y in range(20):\n",
        "        matriz[x].append(int(input(f'Digite um valor para posição [{x},{y}]: ')))\n",
        "        if x == 2:\n",
        "            cont1 += matriz[x][y]\n",
        "print('-' * 35, *matriz, sep='\\n')\n",
        "print(f'\\nO somatório dos elementos da quinta linha é: {cont1}')"
      ]
    },
    {
      "cell_type": "markdown",
      "metadata": {
        "id": "Cp67MLf4NKww"
      },
      "source": [
        "19) Dada uma tabela de 4 x 5 elementos, calcular a soma de cada linha e a soma de todos os elementos."
      ]
    },
    {
      "cell_type": "code",
      "execution_count": null,
      "metadata": {
        "id": "iV2uqJnzMgKe"
      },
      "outputs": [],
      "source": [
        "tabela = [\n",
        "    [1, 2, 3, 4, 5],\n",
        "    [6, 7, 8, 9, 10],\n",
        "    [11, 12, 13, 14, 15],\n",
        "    [16, 17, 18, 19, 20]\n",
        "]\n",
        "\n",
        "soma_linhas = [0] * 4\n",
        "soma_total = 0\n",
        "\n",
        "for i in range(4):\n",
        "    for j in range(5):\n",
        "        soma_linhas[i] += tabela[i][j]\n",
        "        soma_total += tabela[i][j]\n",
        "\n",
        "print(\"Soma de cada linha:\")\n",
        "for i in range(4):\n",
        "    print(\"Linha\", i+1, \":\", soma_linhas[i])\n",
        "\n",
        "print(\"\\nSoma total:\", soma_total)"
      ]
    }
  ],
  "metadata": {
    "colab": {
      "provenance": []
    },
    "kernelspec": {
      "display_name": "Python 3",
      "name": "python3"
    },
    "language_info": {
      "name": "python"
    }
  },
  "nbformat": 4,
  "nbformat_minor": 0
}
