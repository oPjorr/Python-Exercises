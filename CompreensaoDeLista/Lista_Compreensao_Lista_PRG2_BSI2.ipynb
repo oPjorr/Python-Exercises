{
  "cells": [
    {
      "cell_type": "markdown",
      "metadata": {},
      "source": [
        "### Compreensão de lista em Python"
      ]
    },
    {
      "cell_type": "markdown",
      "metadata": {
        "id": "ShbGbA4YZIni"
      },
      "source": [
        "1. Crie uma lista com os números de 1 a 10 usando compreensão de lista."
      ]
    },
    {
      "cell_type": "code",
      "execution_count": null,
      "metadata": {
        "id": "U3xQi6HvY-d0"
      },
      "outputs": [],
      "source": [
        "print([x for x in range(1,11)])"
      ]
    },
    {
      "cell_type": "markdown",
      "metadata": {
        "id": "4mGCRiVtZM5-"
      },
      "source": [
        "2. Crie uma lista com os números ímpares de 1 a 50."
      ]
    },
    {
      "cell_type": "code",
      "execution_count": null,
      "metadata": {
        "id": "iijGXYiDZN-j"
      },
      "outputs": [],
      "source": [
        "print([x for x in range(1, 51) if x%2 != 0])"
      ]
    },
    {
      "cell_type": "markdown",
      "metadata": {
        "id": "daXdmvxDZOgb"
      },
      "source": [
        "3. Crie uma lista com as letras maiúsculas de uma string qualquer."
      ]
    },
    {
      "cell_type": "code",
      "execution_count": null,
      "metadata": {
        "id": "E3S_wMXxZPhj"
      },
      "outputs": [],
      "source": [
        "string = 'tExTo QuaLQueR'\n",
        "print([x for x in string if x.isupper() == True])"
      ]
    },
    {
      "cell_type": "markdown",
      "metadata": {
        "id": "arbDbHIIZQIF"
      },
      "source": [
        "4. Crie uma lista com o comprimento de cada palavra em uma string."
      ]
    },
    {
      "cell_type": "code",
      "execution_count": null,
      "metadata": {
        "id": "5faGWGt3ZRZj"
      },
      "outputs": [],
      "source": [
        "frase = \"Esta é uma frase de exemplo\"\n",
        "comprimentos = [len(palavra) for palavra in frase.split()]\n",
        "print(comprimentos)"
      ]
    },
    {
      "cell_type": "markdown",
      "metadata": {
        "id": "9tz-Ik_0ZR4D"
      },
      "source": [
        "5. Crie uma lista com os números divisíveis por 3 e 5 de 1 a 30."
      ]
    },
    {
      "cell_type": "code",
      "execution_count": null,
      "metadata": {
        "id": "9oSSYrTEZTBT"
      },
      "outputs": [],
      "source": [
        "divisiveis_por_3_e_5 = [num for num in range(1, 31) if num % 3 == 0 and num % 5 == 0]\n",
        "print(divisiveis_por_3_e_5)"
      ]
    },
    {
      "cell_type": "markdown",
      "metadata": {
        "id": "U6cjlAEoZTn3"
      },
      "source": [
        "6. Crie uma lista com as palavras de uma string que tenham mais de 3 letras."
      ]
    },
    {
      "cell_type": "code",
      "execution_count": null,
      "metadata": {
        "id": "7kbqm8AdZUwT"
      },
      "outputs": [],
      "source": [
        "frase = \"Esta é uma frase de exemplo para ilustrar o uso de list comprehension em Python\"\n",
        "\n",
        "palavras_com_mais_de_3_letras = [palavra for palavra in frase.split() if len(palavra) > 3]\n",
        "print(palavras_com_mais_de_3_letras)"
      ]
    },
    {
      "cell_type": "markdown",
      "metadata": {
        "id": "snBa7pHMZWBR"
      },
      "source": [
        "7. Crie uma lista com os números primos de 1 a 20. Dica: use uma função para\n",
        "verificar se o número é primo ou não."
      ]
    },
    {
      "cell_type": "code",
      "execution_count": null,
      "metadata": {
        "id": "lxqUaHX2ZWbD"
      },
      "outputs": [],
      "source": [
        "def eh_primo(numero):\n",
        "    if numero <= 1:\n",
        "        return False\n",
        "    if numero <= 3:\n",
        "        return True\n",
        "    if numero % 2 == 0 or numero % 3 == 0:\n",
        "        return False\n",
        "    i = 5\n",
        "    while i * i <= numero:\n",
        "        if numero % i == 0 or numero % (i + 2) == 0:\n",
        "            return False\n",
        "        i += 6\n",
        "    return True\n",
        "\n",
        "numeros_primos = [num for num in range(1, 21) if eh_primo(num)]\n",
        "\n",
        "print(numeros_primos)"
      ]
    },
    {
      "cell_type": "markdown",
      "metadata": {
        "id": "G9IYMGArZXwq"
      },
      "source": [
        "8. Crie uma lista com as datas de todos os dias de janeiro em um ano bissexto\n",
        "(considerando que um ano bissexto é divisível por 4)."
      ]
    },
    {
      "cell_type": "code",
      "execution_count": null,
      "metadata": {
        "id": "beJBNFjtZYWT"
      },
      "outputs": [],
      "source": [
        "ano_bissexto = 2024\n",
        "\n",
        "datas_de_fevereiro = [f\"{str(dia).zfill(2)}/02/{ano_bissexto}\" for dia in range(1, 30)]\n",
        "\n",
        "print(datas_de_fevereiro)"
      ]
    },
    {
      "cell_type": "markdown",
      "metadata": {
        "id": "IMUOdQjAZZVn"
      },
      "source": [
        "9. Crie uma lista de strings com os primeiros 10 nomes da lista de nomes."
      ]
    },
    {
      "cell_type": "code",
      "execution_count": null,
      "metadata": {
        "id": "fxGXovViZZmD"
      },
      "outputs": [],
      "source": [
        "lista_de_nomes = [\"Maria\", \"Judas\", \"ana\", \"Pedro\", \"Isabela\", \"lucas\", \"Carolina\", \"Guilherme\", \"Beatriz\", \"Rafael\", \"Cleiton\", \"José\"]\n",
        "\n",
        "print(lista_de_nomes[:10])"
      ]
    },
    {
      "cell_type": "markdown",
      "metadata": {
        "id": "-XH7rk_0Zam7"
      },
      "source": [
        "10. Crie uma lista de strings com os nomes dos primeiros 10 nomes da lista de\n",
        "nomes, mas com as primeiras letras maiúsculas."
      ]
    },
    {
      "cell_type": "code",
      "execution_count": null,
      "metadata": {
        "id": "vaPzQslFZa1T"
      },
      "outputs": [],
      "source": [
        "n10_nomes_maiusculos = [nome.capitalize() for nome in lista_de_nomes[:10]]\n",
        "#O script mudará o nome da ana e do lucas\n",
        "print(n10_nomes_maiusculos)"
      ]
    },
    {
      "cell_type": "markdown",
      "metadata": {
        "id": "1qB_9IidZcCL"
      },
      "source": [
        "11. Crie uma lista de strings com os nomes dos primeiros 10 nomes da lista de\n",
        "nomes, mas sem as vogais."
      ]
    },
    {
      "cell_type": "code",
      "execution_count": null,
      "metadata": {
        "id": "wq7O94eTZcli"
      },
      "outputs": [],
      "source": [
        "def remover_vogais(string):\n",
        "    return ''.join([letra for letra in string if letra.lower() not in 'aeiou'])\n",
        "\n",
        "nomes_sem_vogais = [remover_vogais(nome) for nome in lista_de_nomes[:10]]\n",
        "print(nomes_sem_vogais)"
      ]
    },
    {
      "cell_type": "markdown",
      "metadata": {
        "id": "tddI-JRyZdug"
      },
      "source": [
        "12. Concatenar elementos de sub-listas em uma única lista."
      ]
    },
    {
      "cell_type": "code",
      "execution_count": null,
      "metadata": {
        "id": "ec_t2XQzZeQi"
      },
      "outputs": [],
      "source": [
        "sub_listas = [[1, 2, 3], [4, 5, 6], [7, 8, 9]]\n",
        "\n",
        "lista_concatenada = [elemento for sub_lista in sub_listas for elemento in sub_lista]\n",
        "print(lista_concatenada)"
      ]
    },
    {
      "cell_type": "markdown",
      "metadata": {
        "id": "1OTD3LKTZgHJ"
      },
      "source": [
        "13. Criar um dicionário a partir de duas listas."
      ]
    },
    {
      "cell_type": "code",
      "execution_count": null,
      "metadata": {
        "id": "B0-IvU3QZhwi"
      },
      "outputs": [],
      "source": [
        "chaves = [\"a\", \"b\", \"c\"]\n",
        "valores = [1, 2, 3]\n",
        "\n",
        "dicionario = {chave: valor for chave, valor in zip(chaves, valores)}\n",
        "\n",
        "print(dicionario)"
      ]
    }
  ],
  "metadata": {
    "colab": {
      "provenance": []
    },
    "kernelspec": {
      "display_name": "Python 3",
      "name": "python3"
    },
    "language_info": {
      "name": "python"
    }
  },
  "nbformat": 4,
  "nbformat_minor": 0
}
