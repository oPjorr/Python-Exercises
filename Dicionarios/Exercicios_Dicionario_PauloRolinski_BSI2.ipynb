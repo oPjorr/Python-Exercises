{
  "cells": [
    {
      "cell_type": "markdown",
      "metadata": {},
      "source": [
        "Olá ✌\n",
        "\n",
        "Este é um notebook com o conteúdo e exemplos de uso de dicionários. \n",
        "\n",
        "Questões por: Paulo Cesar Oliveira\n",
        "\n",
        "Resolvidas por: Paulo José de Oliveira Rolinski \n",
        "\n",
        "LinkedIn: linkedin.com/in/paulo-rolinski-1652971b1/"
      ]
    },
    {
      "cell_type": "markdown",
      "metadata": {
        "id": "n_nmRIEYd9Lg"
      },
      "source": [
        "### Exercícios"
      ]
    },
    {
      "cell_type": "markdown",
      "metadata": {
        "id": "FzFHi3JcQw6g"
      },
      "source": [
        "1. Crie um dicionário que contenha os nomes de 10 pessoas e suas respectivas\n",
        "idades.\\"
      ]
    },
    {
      "cell_type": "code",
      "execution_count": null,
      "metadata": {
        "colab": {
          "base_uri": "https://localhost:8080/"
        },
        "id": "Nfvw_yDcPfJ0",
        "outputId": "5bd90463-bf81-4a20-d0cc-761c18552810"
      },
      "outputs": [],
      "source": [
        "pessoas = {}\n",
        "\n",
        "for i in range(3):\n",
        "  pessoas[(input(\"Aquela idade era de: \"))] = (int(input(\"Informe uma idade: \")))\n",
        "print(pessoas)"
      ]
    },
    {
      "cell_type": "markdown",
      "metadata": {
        "id": "qLJ0BR5iQzSG"
      },
      "source": [
        "2. Imprima o nome e a idade de todas as pessoas no dicionário."
      ]
    },
    {
      "cell_type": "code",
      "execution_count": null,
      "metadata": {
        "colab": {
          "base_uri": "https://localhost:8080/"
        },
        "id": "gogHLyrNQ1NE",
        "outputId": "830b96c8-ab58-4fa9-c0ec-7ca887405722"
      },
      "outputs": [],
      "source": [
        "print(pessoas)"
      ]
    },
    {
      "cell_type": "markdown",
      "metadata": {
        "id": "YCNQ681fQ2vd"
      },
      "source": [
        "3. Crie uma função que receba um nome como parâmetro e retorne a idade da\n",
        "pessoa correspondente no dicionário."
      ]
    },
    {
      "cell_type": "code",
      "execution_count": null,
      "metadata": {
        "colab": {
          "base_uri": "https://localhost:8080/"
        },
        "id": "uBw4_T3nQ4qG",
        "outputId": "3ebe7911-6580-4d67-cfb4-ef5c9cefcf85"
      },
      "outputs": [],
      "source": [
        "def Verifica_pessoa(nome):\n",
        "  if nome in pessoas.keys():\n",
        "    print(f'A idade dessa pessoa é:', pessoas[nome])\n",
        "  else:\n",
        "    print(f'Esta pessoa não existe no nosso banco de dados.')\n",
        "nome = input(\"Informe o nome da pessoa que você deseja verificar a idade: \")\n",
        "Verifica_pessoa(nome)"
      ]
    },
    {
      "cell_type": "markdown",
      "metadata": {
        "id": "K1gqV10wQ7hS"
      },
      "source": [
        "4. Crie uma função que receba um nome e uma nova idade como parâmetros e\n",
        "atualize a idade da pessoa correspondente no dicionário."
      ]
    },
    {
      "cell_type": "code",
      "execution_count": null,
      "metadata": {
        "id": "L8tbpvMsQ8Dj"
      },
      "outputs": [],
      "source": [
        "def atualiza_dados(nome, nova_idade):\n",
        "  if nome in pessoas.keys():\n",
        "    pessoas[nome] = nova_idade\n",
        "    print(\"a nova idade dessa pessoa é de\", pessoas[nome])\n",
        "    print(pessoas)\n",
        "  else:\n",
        "    print(f'Esta pessoa não existe no nosso banco de dados.')\n",
        "\n",
        "nome = input(\"Informe o nome da pessoa que você deseja modificar a idade: \")\n",
        "nova_idade = int(input(\"Informe a nova idade: \"))\n",
        "atualiza_dados(nome, nova_idade)"
      ]
    },
    {
      "cell_type": "markdown",
      "metadata": {
        "id": "ObFBDAXvQ8yj"
      },
      "source": [
        "5. Crie uma função que remova uma pessoa do dicionário."
      ]
    },
    {
      "cell_type": "code",
      "execution_count": null,
      "metadata": {
        "colab": {
          "base_uri": "https://localhost:8080/"
        },
        "id": "9utRHjZ2Q-m1",
        "outputId": "b5a3f4c6-8d3d-4935-babc-75bfdc6606ce"
      },
      "outputs": [],
      "source": [
        "def remover_pessoa(nome):\n",
        "  if nome in pessoas.keys():\n",
        "    valor_removido = pessoas.pop(nome)\n",
        "    print(\"Pessoa removida com sucesso!\")\n",
        "    print(pessoas)\n",
        "  else:\n",
        "    print(f'Esta pessoa não existe no nosso banco de dados.')\n",
        "\n",
        "nome = input(\"Informe o nome da pessoa que você deseja remover do banco de dados: \")\n",
        "remover_pessoa(nome)"
      ]
    },
    {
      "cell_type": "markdown",
      "metadata": {
        "id": "nPjQN-64Q_Xk"
      },
      "source": [
        "6. Crie uma função que retorne a quantidade de pessoas no dicionário."
      ]
    },
    {
      "cell_type": "code",
      "execution_count": null,
      "metadata": {
        "id": "8xvtOkZ5RBCl"
      },
      "outputs": [],
      "source": [
        "def tamanho_lista():\n",
        "  tamanho = len(pessoas)\n",
        "  print(\"O tamanho da lista é de\", tamanho)\n",
        "\n",
        "tamanho_lista()"
      ]
    },
    {
      "cell_type": "markdown",
      "metadata": {
        "id": "l_29JExeRB9N"
      },
      "source": [
        "7. Crie uma função que retorne a média das idades das pessoas no dicionário."
      ]
    },
    {
      "cell_type": "code",
      "execution_count": null,
      "metadata": {
        "colab": {
          "base_uri": "https://localhost:8080/"
        },
        "id": "KizgVW2uRDlW",
        "outputId": "3e7aca31-06c2-4b7b-cedf-8e61c1b98a10"
      },
      "outputs": [],
      "source": [
        "def retorna_media():\n",
        "  soma = sum(pessoas.values())\n",
        "  media = soma / len(pessoas)\n",
        "  print(\"A média de idade das pessoa é de\", media)\n",
        "\n",
        "retorna_media()"
      ]
    },
    {
      "cell_type": "markdown",
      "metadata": {
        "id": "G-D9vdsnRFZc"
      },
      "source": [
        "8. Crie uma função que retorne a pessoa mais velha do dicionário."
      ]
    },
    {
      "cell_type": "code",
      "execution_count": null,
      "metadata": {
        "colab": {
          "base_uri": "https://localhost:8080/"
        },
        "id": "g5HmYsSJRF1G",
        "outputId": "fe5cd731-39ae-42ee-f646-4ee0e79ea969"
      },
      "outputs": [],
      "source": [
        "def verifica_maior():\n",
        "  lista_idades = list(pessoas.values())\n",
        "  lista_pessoas = list(pessoas.keys())\n",
        "  if lista_idades[0] > lista_idades[1] and lista_idades[0] > lista_idades[2]:\n",
        "    print(\"A pessoa mais velha é\", lista_pessoas[0])\n",
        "  elif lista_idades[1] > lista_idades[0] and lista_idades[1] > lista_idades[2]:\n",
        "    print(\"A pessoa mais velha é\", lista_pessoas[1])\n",
        "  else:\n",
        "    print(\"A pessoa mais velha é\", lista_pessoas[2])\n",
        "\n",
        "print(pessoas)\n",
        "verifica_maior()"
      ]
    },
    {
      "cell_type": "markdown",
      "metadata": {
        "id": "g8sDd654RHpe"
      },
      "source": [
        "9. Crie uma função que retorne a pessoa mais nova do dicionário."
      ]
    },
    {
      "cell_type": "code",
      "execution_count": null,
      "metadata": {
        "colab": {
          "base_uri": "https://localhost:8080/"
        },
        "id": "aacNZbrrRIMV",
        "outputId": "bd6ffee4-039e-43f3-f4f3-4d8baeefb46d"
      },
      "outputs": [],
      "source": [
        "def verifica_menor():\n",
        "  lista_idades = list(pessoas.values())\n",
        "  lista_pessoas = list(pessoas.keys())\n",
        "  if lista_idades[0] < lista_idades[1] and lista_idades[0] < lista_idades[2]:\n",
        "    print(\"A pessoa mais nova é\", lista_pessoas[0])\n",
        "  elif lista_idades[1] < lista_idades[0] and lista_idades[1] < lista_idades[2]:\n",
        "    print(\"A pessoa mais nova é\", lista_pessoas[1])\n",
        "  else:\n",
        "    print(\"A pessoa mais nova é\", lista_pessoas[2])\n",
        "\n",
        "print(pessoas)\n",
        "verifica_menor()"
      ]
    },
    {
      "cell_type": "markdown",
      "metadata": {
        "id": "d4rvvFipRK1V"
      },
      "source": [
        "10. Crie uma função que retorne uma lista com as pessoas cujo nome começa com a\n",
        "letra \"J\"."
      ]
    },
    {
      "cell_type": "code",
      "execution_count": null,
      "metadata": {
        "colab": {
          "base_uri": "https://localhost:8080/"
        },
        "id": "B7v4y2hZRLO0",
        "outputId": "d1683666-06bb-451a-dd44-58427333bb6f"
      },
      "outputs": [],
      "source": [
        "nova_lista = []\n",
        "\n",
        "for nome in pessoas.keys():\n",
        "  if nome.startswith('J') or nome.startswith('j'):\n",
        "    nova_lista.append(nome)\n",
        "\n",
        "print(*nova_lista, sep=\", \")"
      ]
    }
  ],
  "metadata": {
    "colab": {
      "provenance": []
    },
    "kernelspec": {
      "display_name": "Python 3",
      "name": "python3"
    },
    "language_info": {
      "codemirror_mode": {
        "name": "ipython",
        "version": 3
      },
      "file_extension": ".py",
      "mimetype": "text/x-python",
      "name": "python",
      "nbconvert_exporter": "python",
      "pygments_lexer": "ipython3",
      "version": "3.10.12"
    }
  },
  "nbformat": 4,
  "nbformat_minor": 0
}
