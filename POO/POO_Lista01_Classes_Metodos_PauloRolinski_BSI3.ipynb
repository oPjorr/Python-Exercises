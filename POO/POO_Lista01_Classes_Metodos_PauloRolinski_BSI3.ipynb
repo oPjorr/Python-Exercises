{
  "cells": [
    {
      "cell_type": "markdown",
      "metadata": {
        "id": "zNISSzQF8SeS"
      },
      "source": [
        "## Lista 01\n",
        "### Classes e Métodos\n",
        "\n",
        "- Classe Bola: Crie uma classe que modele uma bola:\n",
        "\n",
        "  a. Atributos: Cor, circunferência, material\n",
        "\n",
        "  b. Métodos: trocaCor e mostraCor\n",
        "\n",
        "- Classe Quadrado: Crie uma classe que modele um quadrado:\n",
        "\n",
        "  a. Atributos: Tamanho do lado\n",
        "\n",
        "  b. Métodos: Mudar valor do Lado, Retornar valor do Lado e calcular Área;"
      ]
    },
    {
      "cell_type": "markdown",
      "metadata": {
        "id": "se5EdYby8wgl"
      },
      "source": [
        "- Classe Retangulo: Crie uma classe que modele um retangulo:\n",
        "\n",
        "  a. Atributos: LadoA, LadoB (ou Comprimento e Largura, ou Base e Altura, a escolher)\n",
        "\n",
        "  b. Métodos: Mudar valor dos lados, Retornar valor dos lados, calcular Área e calcular Perímetro;\n",
        "\n",
        "  c. Crie um programa que utilize esta classe. Ele deve pedir ao usuário que informe as medidades\n",
        "de um local. Depois, deve criar um objeto com as medidas e calcular a quantidade de pisos e\n",
        "de rodapés necessárias para o local."
      ]
    },
    {
      "cell_type": "code",
      "execution_count": 8,
      "metadata": {
        "colab": {
          "base_uri": "https://localhost:8080/"
        },
        "id": "juTy0OjJwf-u",
        "outputId": "8626fdd4-df21-468d-c16e-4a636136933f"
      },
      "outputs": [
        {
          "name": "stdout",
          "output_type": "stream",
          "text": [
            "O valor da altura é 3.0 e o valor da base é 2.0\n",
            "O novo valor da altura é 5.0 e o novo valor da base é 6.0\n",
            "O valor da altura é 3.0 e o valor da base é 2.0\n",
            "O valor da perímetro é de 18.810249675906654\n"
          ]
        }
      ],
      "source": [
        "import math\n",
        "\n",
        "class Retangulo():\n",
        "  def __init__(self, base=\"\", alt=\"\"):\n",
        "    self.base = base\n",
        "    self.alt = alt\n",
        "    self.base_anterior = self.base\n",
        "    self.alt_anterior = self.alt\n",
        "\n",
        "  def mudar_lados(self):\n",
        "    self.base = float(input(\"Informe um novo valor para a base:\"))\n",
        "    self.alt = float(input(\"Informe um novo valor para a altura:\"))\n",
        "    return f'O novo valor da altura é {self.base} e o novo valor da base é {self.alt}'\n",
        "\n",
        "  def calcular_area(self):\n",
        "    return f'O valor da Área é de {self.base*self.alt/2}'\n",
        "\n",
        "  def calcular_perimetro(self):\n",
        "    self.outro_lado = math.sqrt(self.base**2 + self.alt**2)\n",
        "    return f'O valor da perímetro é de {self.outro_lado + self.base + self.alt}'\n",
        "\n",
        "  def get_lados(self):\n",
        "    return f'O valor da altura é {self.alt_anterior} e o valor da base é {self.base_anterior}'\n",
        "\n",
        "\n",
        "retangulo1 = Retangulo(float(input(\"Informe um valor para a base:\")), float(input(\"Informe um valor para a altura:\")))\n",
        "print(retangulo1.get_lados())\n",
        "print(retangulo1.mudar_lados())\n",
        "print(retangulo1.calcular_perimetro())"
      ]
    },
    {
      "cell_type": "markdown",
      "metadata": {
        "id": "Hlw6cRtQ85i9"
      },
      "source": [
        "- Classe Pessoa: Crie uma classe que modele uma pessoa:\n",
        "a. Atributos: nome, idade, peso e altura\n",
        "b. Métodos: envelhecer, engordar, emagrecer, crescer.\n",
        "Obs: Por padrão, a cada ano que nossa pessoa envelhece, sendo a idade dela menor que 21 anos,\n",
        "ela deve crescer 0,5 cm."
      ]
    },
    {
      "cell_type": "code",
      "execution_count": 33,
      "metadata": {
        "id": "E7om27Md88vk"
      },
      "outputs": [
        {
          "name": "stdout",
          "output_type": "stream",
          "text": [
            "essa pessoa tinha 180cm e depois de 11 anos, ficou com 185.5 cm\n",
            "Esta pessoa agora tem 12\n"
          ]
        }
      ],
      "source": [
        "class Pessoa():\n",
        "    def __init__(self, nome=\"\", idade=\"\", peso=\"\", altura=\"\"):\n",
        "        self.nome = nome \n",
        "        self.idade = idade\n",
        "        self.peso = peso\n",
        "        self.altura = altura\n",
        "\n",
        "    def envelhecer(self):\n",
        "        anos_passando = int(input(\"Informe quantos anos se passaram: \"))\n",
        "        return f'Esta pessoa agora tem {self.idade+anos_passando} anos'\n",
        "    \n",
        "    # def engordar(self):\n",
        "\n",
        "    # def emagrecer(self):\n",
        "\n",
        "    def crescer(self):\n",
        "        nova_altura = self.altura\n",
        "        anos = 0\n",
        "        for i in range(self.idade, 21):\n",
        "            anos += 1\n",
        "            nova_altura += 0.5\n",
        "        return f'essa pessoa tinha {self.altura}cm e depois de {anos} anos, ficou com {nova_altura} cm'\n",
        "    \n",
        "pessoa1 = Pessoa('Paulo', 10, 70, 180)\n",
        "print(pessoa1.crescer())\n",
        "print(pessoa1.envelhecer())"
      ]
    },
    {
      "cell_type": "markdown",
      "metadata": {
        "id": "116Oo7Up89Ph"
      },
      "source": [
        "- Classe Conta Corrente: Crie uma classe para implementar uma conta corrente. A classe deve\n",
        "possuir os seguintes atributos: número da conta, nome do correntista e saldo. Os métodos são os\n",
        "seguintes: alterarNome, depósito e saque. No construtor, saldo é opcional, com valor default zero e os\n",
        "demais atributos são obrigatórios."
      ]
    },
    {
      "cell_type": "code",
      "execution_count": null,
      "metadata": {
        "id": "EUU4bcIN8_GF"
      },
      "outputs": [],
      "source": []
    },
    {
      "cell_type": "markdown",
      "metadata": {
        "id": "TnaOM3iL8_53"
      },
      "source": [
        "\n",
        "- Classe TV: Faça um programa que simule um televisor criando-o como um objeto. O usuário deve\n",
        "ser capaz de informar o número do canal e aumentar ou diminuir o volume. Certifique-se de que o\n",
        "número do canal e o nível do volume permanecem dentro de faixas válidas."
      ]
    },
    {
      "cell_type": "code",
      "execution_count": null,
      "metadata": {
        "id": "ZK7bSOSg9B96"
      },
      "outputs": [],
      "source": []
    },
    {
      "cell_type": "markdown",
      "metadata": {
        "id": "hlwt_Pse9CYK"
      },
      "source": [
        "- Classe Bichinho Virtual: Crie uma classe que modele um Tamagushi (Bichinho Eletrônico):\n",
        "a. Atributos: Nome, Fome, Saúde e Idade\n",
        "b. Métodos: Alterar Nome, Fome, Saúde e Idade; Retornar Nome, Fome, Saúde e Idade\n",
        "Obs: Existe mais uma informação que devemos levar em consideração, o Humor do nosso tamagushi,\n",
        "este humor é uma combinação entre os atributos Fome e Saúde, ou seja, um campo calculado, então\n",
        "não devemos criar um atributo para armazenar esta informação por que ela pode ser calculada a\n",
        "qualquer momento."
      ]
    },
    {
      "cell_type": "code",
      "execution_count": null,
      "metadata": {
        "id": "-wmCuxGD9EHq"
      },
      "outputs": [],
      "source": []
    },
    {
      "cell_type": "markdown",
      "metadata": {
        "id": "woQ4IgD89E2j"
      },
      "source": [
        "- Classe Macaco: Desenvolva uma classe Macaco, que possua os atributos nome e bucho (estomago)\n",
        "e pelo menos os métodos comer(), verBucho() e digerir(). Faça um programa ou teste interativamente,\n",
        "criando pelo menos dois macacos, alimentando-os com pelo menos 3 alimentos diferentes e verificando o conteúdo do estomago a cada refeição. Experimente fazer com que um macaco coma o\n",
        "outro. É possível criar um macaco canibal?"
      ]
    },
    {
      "cell_type": "code",
      "execution_count": null,
      "metadata": {
        "id": "SuD_uoeU_UC_"
      },
      "outputs": [],
      "source": []
    },
    {
      "cell_type": "markdown",
      "metadata": {
        "id": "xPgOJF-p_VM6"
      },
      "source": [
        "- Classe Ponto e Retangulo: Faça um programa completo utilizando funções e classes que:\n",
        "\n",
        "  a. Possua uma classe chamada Ponto, com os atributos x e y.\n",
        "\n",
        "  b. Possua uma classe chamada Retangulo, com os atributos largura e altura.\n",
        "\n",
        "  c. Possua uma função para imprimir os valores da classe Ponto.\n",
        "\n",
        "  d. Possua uma função para encontrar o centro de um Retângulo.\n",
        "\n",
        "  e. Você deve criar alguns objetos da classe Retangulo.\n",
        "\n",
        "  f. Cada objeto deve ter um vértice de partida, por exemplo, o vértice inferior esquerdo do\n",
        "retângulo, que deve ser um objeto da classe Ponto.\n",
        "\n",
        "  g. A função para encontrar o centro do retângulo deve retornar o valor para um objeto do tipo\n",
        "ponto que indique os valores de x e y para o centro do objeto.\n",
        "\n",
        "  h. O valor do centro do objeto deve ser mostrado na tela.\n",
        "\n",
        "  i. Crie um menu para alterar os valores do retângulo e imprimir o centro deste retângulo."
      ]
    },
    {
      "cell_type": "code",
      "execution_count": 41,
      "metadata": {
        "id": "AgdI4aK6wblJ"
      },
      "outputs": [
        {
          "name": "stdout",
          "output_type": "stream",
          "text": [
            "3\n",
            "O centro do retângulo é em (5, 7)\n"
          ]
        }
      ],
      "source": [
        "class Ponto():\n",
        "    def __init__(self, x=0, y=0):\n",
        "        self.x = x\n",
        "        self.y = y\n",
        "\n",
        "    def get_ponto(self):\n",
        "        return f'Esse ponto está localizado em ({self.x}, {self.y})'\n",
        "\n",
        "class Retangulo():\n",
        "    def __init__(self, largura=0, altura=0, ponto=Ponto()):\n",
        "        self.largura = largura\n",
        "        self.altura = altura\n",
        "        self.ponto = ponto\n",
        "\n",
        "    def encontra_centro(self):\n",
        "        centro_x = int(self.ponto.x + self.largura / 2)\n",
        "        centro_y = int(self.ponto.y + self.altura / 2)\n",
        "        return f'O centro do retângulo é em ({centro_x}, {centro_y})'\n",
        "    \n",
        "def main():\n",
        "    ponto1 = Ponto(3, 4)\n",
        "    ponto1.get_ponto()\n",
        "\n",
        "    retangulo1 = Retangulo(5, 6, ponto1)\n",
        "    print(retangulo1.encontra_centro())\n",
        "\n",
        "if __name__ == \"__main__\":\n",
        "    main()"
      ]
    },
    {
      "cell_type": "markdown",
      "metadata": {
        "id": "93WxlacSwxuc"
      },
      "source": [
        "- Classe Bomba de Combustível: Faça um programa completo utilizando classes e métodos que:\n",
        "\n",
        "  a. Possua uma classe chamada bombaCombustível, com no mínimo esses atributos:\n",
        "\n",
        "  i. tipoCombustivel.\n",
        "  ii. valorLitro\n",
        "  iii. quantidadeCombustivel\n",
        "\n",
        "  b. Possua no mínimo esses métodos:\n",
        "\n",
        "  i. abastecerPorValor( ) – método onde é informado o valor a ser abastecido e mostra a\n",
        "quantidade de litros que foi colocada no veículo.\n",
        "\n",
        "  ii. abastecerPorLitro( ) – método onde é informado a quantidade em litros de\n",
        "combustível e mostra o valor a ser pago pelo cliente.\n",
        "\n",
        "  iii. alterarValor( ) – altera o valor do litro do combustível.\n",
        "\n",
        "  iv. alterarCombustivel( ) – altera o tipo do combustível.\n",
        "  v. alterarQuantidadeCombustivel( ) – altera a quantidade de combustível restante na\n",
        "bomba.\n",
        "\n",
        "  OBS: Sempre que acontecer um abastecimento é necessário atualizar a quantidade de\n",
        "combustível total na bomba."
      ]
    },
    {
      "cell_type": "code",
      "execution_count": null,
      "metadata": {
        "id": "j4Eh_FxSzgtG"
      },
      "outputs": [],
      "source": []
    },
    {
      "cell_type": "markdown",
      "metadata": {
        "id": "zwKKCEjozouo"
      },
      "source": [
        "\n",
        "- Classe Carro: Implemente uma classe chamada Carro com as seguintes propriedades:\n",
        "\n",
        "  a. Um veículo tem um certo consumo de combustível (medidos em km / litro) e uma certa\n",
        "quantidade de combustível no tanque.\n",
        "\n",
        "  b. O consumo é especificado no construtor e o nível de combustível inicial é 0.\n",
        "\n",
        "  c. Forneça um método andar( ) que simule o ato de dirigir o veículo por uma certa distância,\n",
        "reduzindo o nível de combustível no tanque de gasolina.\n",
        "\n",
        "  d. Forneça um método obterGasolina( ), que retorna o nível atual de combustível.\n",
        "\n",
        "  e. Forneça um método adicionarGasolina( ), para abastecer o tanque. Exemplo de uso:\n",
        "\n",
        "  meuFusca = Carro(15) # 15 quilômetros por litro de combustível.\n",
        "\n",
        "  meuFusca.adicionarGasolina(20) # abastece com 20 litros de combustível.\n",
        "\n",
        "  meuFusca.andar(100) # anda 100 quilômetros.\n",
        "\n",
        "  meuFusca.obterGasolina() # Imprime o combustível que resta no tanque."
      ]
    },
    {
      "cell_type": "code",
      "execution_count": null,
      "metadata": {
        "id": "ibJbOf6Uzzwm"
      },
      "outputs": [],
      "source": []
    },
    {
      "cell_type": "markdown",
      "metadata": {
        "id": "v56sJN3w0C0Y"
      },
      "source": [
        "• Classe Conta de Investimento: Faça uma classe chamada contaInvestimento que seja semelhante à\n",
        "classe contaBancaria, com a diferença de que se adicione um atributo taxaJuros. Forneça um\n",
        "construtor que configure tanto o saldo inicial como a taxa de juros. Forneça um método adicioneJuros\n",
        "(sem parâmetro explícito) que adicione juros à conta. Escreva um programa que construa uma\n",
        "poupança com um saldo inicial de R$1000,00 e uma taxa de juros de 10%. Depois aplique o método\n",
        "adicioneJuros() cinco vezes e imprime o saldo resultante."
      ]
    },
    {
      "cell_type": "code",
      "execution_count": null,
      "metadata": {
        "id": "YT9HVJhr0EJw"
      },
      "outputs": [],
      "source": []
    },
    {
      "cell_type": "markdown",
      "metadata": {
        "id": "i3jyNUa70Exe"
      },
      "source": [
        "• Classe Funcionário: Implemente a classe Funcionário. Um empregado tem um nome (um string) e\n",
        "um salário(um double). Escreva um construtor com dois parâmetros (nome e salário) e métodos para\n",
        "devolver nome e salário. Escreva um pequeno programa que teste sua classe.\n",
        "\n",
        "• Aprimore a classe do exercício anterior para adicionar o método aumentarSalario\n",
        "(porcentualDeAumento) que aumente o salário do funcionário em uma certa porcentagem.\n",
        "\n",
        "• Exemplo de uso:\n",
        "\n",
        "harry = funcionário(\"Harry\",25000)\n",
        "\n",
        "harry.aumentarSalario(10)"
      ]
    },
    {
      "cell_type": "code",
      "execution_count": null,
      "metadata": {
        "id": "RX0lZJbS0Kd_"
      },
      "outputs": [],
      "source": []
    },
    {
      "cell_type": "markdown",
      "metadata": {
        "id": "hQ_0Bb2k0ceh"
      },
      "source": [
        "• Classe Bichinho Virtual++: Melhore o programa do bichinho virtual, permitindo que o usuário\n",
        "especifique quanto de comida ele fornece ao bichinho e por quanto tempo ele brinca com o bichinho.\n",
        "Faça com que estes valores afetem quão rapidamente os níveis de fome e tédio caem."
      ]
    },
    {
      "cell_type": "code",
      "execution_count": null,
      "metadata": {
        "id": "7pK2b2jY0eg7"
      },
      "outputs": [],
      "source": []
    },
    {
      "cell_type": "markdown",
      "metadata": {
        "id": "EfOfikV80fTh"
      },
      "source": [
        "• Crie uma \"porta escondida\" no programa do bichinho virtual que mostre os valores exatos dos\n",
        "atributos do objeto. Consiga isto mostrando o objeto quando uma opção secreta, não listada no menu,\n",
        "for informada na escolha do usuário. Dica: acrescente um método especial str() à classe Bichinho."
      ]
    },
    {
      "cell_type": "code",
      "execution_count": null,
      "metadata": {
        "id": "c7PZx_g80hbk"
      },
      "outputs": [],
      "source": []
    },
    {
      "cell_type": "markdown",
      "metadata": {
        "id": "SkeCgsa00kQC"
      },
      "source": [
        "• Crie uma Fazenda de Bichinhos instanciando vários objetos bichinho e mantendo o controle deles\n",
        "através de uma lista. Imite o funcionamento do programa básico, mas ao invés de exigir que o usuário\n",
        "tome conta de um único bichinho, exija que ele tome conta da fazenda inteira. Cada opção do menu\n",
        "deveria permitir que o usuário executasse uma ação para todos os bichinhos (alimentar todos os\n",
        "bichinhos, brincar com todos os bichinhos, ou ouvir a todos os bichinhos). Para tornar o programa\n",
        "mais interessante, dê para cada bichinho um nível inicial aleatório de fome e tédio."
      ]
    },
    {
      "cell_type": "code",
      "execution_count": null,
      "metadata": {
        "id": "ntJow7jh0nNc"
      },
      "outputs": [],
      "source": []
    }
  ],
  "metadata": {
    "colab": {
      "provenance": []
    },
    "kernelspec": {
      "display_name": "Python 3",
      "name": "python3"
    },
    "language_info": {
      "codemirror_mode": {
        "name": "ipython",
        "version": 3
      },
      "file_extension": ".py",
      "mimetype": "text/x-python",
      "name": "python",
      "nbconvert_exporter": "python",
      "pygments_lexer": "ipython3",
      "version": "3.10.12"
    }
  },
  "nbformat": 4,
  "nbformat_minor": 0
}
