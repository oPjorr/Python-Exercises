{
  "cells": [
    {
      "cell_type": "markdown",
      "metadata": {
        "id": "zNISSzQF8SeS"
      },
      "source": [
        "## Lista 01\n",
        "### Classes e Métodos\n",
        "\n",
        "- Classe Bola: Crie uma classe que modele uma bola:\n",
        "\n",
        "  a. Atributos: Cor, circunferência, material\n",
        "\n",
        "  b. Métodos: trocaCor e mostraCor\n",
        "\n",
        "- Classe Quadrado: Crie uma classe que modele um quadrado:\n",
        "\n",
        "  a. Atributos: Tamanho do lado\n",
        "\n",
        "  b. Métodos: Mudar valor do Lado, Retornar valor do Lado e calcular Área;"
      ]
    },
    {
      "cell_type": "markdown",
      "metadata": {
        "id": "se5EdYby8wgl"
      },
      "source": [
        "- Classe Retangulo: Crie uma classe que modele um retangulo:\n",
        "\n",
        "  a. Atributos: LadoA, LadoB (ou Comprimento e Largura, ou Base e Altura, a escolher)\n",
        "\n",
        "  b. Métodos: Mudar valor dos lados, Retornar valor dos lados, calcular Área e calcular Perímetro;\n",
        "\n",
        "  c. Crie um programa que utilize esta classe. Ele deve pedir ao usuário que informe as medidades\n",
        "de um local. Depois, deve criar um objeto com as medidas e calcular a quantidade de pisos e\n",
        "de rodapés necessárias para o local."
      ]
    },
    {
      "cell_type": "code",
      "execution_count": null,
      "metadata": {
        "colab": {
          "base_uri": "https://localhost:8080/"
        },
        "id": "juTy0OjJwf-u",
        "outputId": "8626fdd4-df21-468d-c16e-4a636136933f"
      },
      "outputs": [
        {
          "name": "stdout",
          "output_type": "stream",
          "text": [
            "O valor da altura é 3.0 e o valor da base é 2.0\n",
            "O novo valor da altura é 5.0 e o novo valor da base é 6.0\n",
            "O valor da altura é 3.0 e o valor da base é 2.0\n",
            "O valor da perímetro é de 18.810249675906654\n"
          ]
        }
      ],
      "source": [
        "import math\n",
        "\n",
        "class Retangulo():\n",
        "  def __init__(self, base=\"\", alt=\"\"):\n",
        "    self.base = base\n",
        "    self.alt = alt\n",
        "    self.base_anterior = self.base\n",
        "    self.alt_anterior = self.alt\n",
        "\n",
        "  def mudar_lados(self):\n",
        "    self.base = float(input(\"Informe um novo valor para a base:\"))\n",
        "    self.alt = float(input(\"Informe um novo valor para a altura:\"))\n",
        "    return f'O novo valor da altura é {self.base} e o novo valor da base é {self.alt}'\n",
        "\n",
        "  def calcular_area(self):\n",
        "    return f'O valor da Área é de {self.base*self.alt/2}'\n",
        "\n",
        "  def calcular_perimetro(self):\n",
        "    self.outro_lado = math.sqrt(self.base**2 + self.alt**2)\n",
        "    return f'O valor da perímetro é de {self.outro_lado + self.base + self.alt}'\n",
        "\n",
        "  def get_lados(self):\n",
        "    return f'O valor da altura é {self.alt_anterior} e o valor da base é {self.base_anterior}'\n",
        "\n",
        "\n",
        "retangulo1 = Retangulo(float(input(\"Informe um valor para a base:\")), float(input(\"Informe um valor para a altura:\")))\n",
        "print(retangulo1.get_lados())\n",
        "print(retangulo1.mudar_lados())\n",
        "print(retangulo1.calcular_perimetro())"
      ]
    },
    {
      "cell_type": "markdown",
      "metadata": {
        "id": "Hlw6cRtQ85i9"
      },
      "source": [
        "- Classe Pessoa: Crie uma classe que modele uma pessoa:\n",
        "a. Atributos: nome, idade, peso e altura\n",
        "b. Métodos: envelhecer, engordar, emagrecer, crescer.\n",
        "Obs: Por padrão, a cada ano que nossa pessoa envelhece, sendo a idade dela menor que 21 anos,\n",
        "ela deve crescer 0,5 cm."
      ]
    },
    {
      "cell_type": "code",
      "execution_count": null,
      "metadata": {
        "id": "E7om27Md88vk",
        "outputId": "e52aa539-3b7d-4edf-a9fc-2e03d04ef4cc"
      },
      "outputs": [
        {
          "name": "stdout",
          "output_type": "stream",
          "text": [
            "essa pessoa tinha 180cm e depois de 11 anos, ficou com 185.5 cm\n",
            "Esta pessoa agora tem 12\n"
          ]
        }
      ],
      "source": [
        "class Pessoa:\n",
        "    def __init__(self, nome=\"\", idade=\"\", peso=\"\", altura=\"\"):\n",
        "        self.nome = nome\n",
        "        self.idade = idade\n",
        "        self.peso = peso\n",
        "        self.altura = altura\n",
        "\n",
        "    def envelhecer(self):\n",
        "        anos_passando = int(input(\"Informe quantos anos se passaram: \"))\n",
        "        self.idade += anos_passando\n",
        "        return f'Esta pessoa agora tem {self.idade} anos'\n",
        "\n",
        "    def engordar(self, peso_ganho):\n",
        "        self.peso += peso_ganho\n",
        "        return f'A pessoa ganhou {peso_ganho} kg e agora pesa {self.peso} kg.'\n",
        "\n",
        "    def emagrecer(self, peso_perdido):\n",
        "        self.peso -= peso_perdido\n",
        "        return f'A pessoa perdeu {peso_perdido} kg e agora pesa {self.peso} kg.'\n",
        "\n",
        "    def crescer(self):\n",
        "        nova_altura = self.altura\n",
        "        anos = 0\n",
        "        for i in range(self.idade, 21):\n",
        "            anos += 1\n",
        "            nova_altura += 0.5\n",
        "        return f'Esta pessoa tinha {self.altura} cm e depois de {anos} anos, ficou com {nova_altura} cm.'\n",
        "\n",
        "pessoa1 = Pessoa('Paulo', 10, 70, 180)\n",
        "print(pessoa1.crescer())\n",
        "print(pessoa1.envelhecer())\n",
        "\n",
        "print(pessoa1.engordar(5))\n",
        "print(pessoa1.emagrecer(3))"
      ]
    },
    {
      "cell_type": "markdown",
      "metadata": {
        "id": "116Oo7Up89Ph"
      },
      "source": [
        "- Classe Conta Corrente: Crie uma classe para implementar uma conta corrente. A classe deve\n",
        "possuir os seguintes atributos: número da conta, nome do correntista e saldo. Os métodos são os\n",
        "seguintes: alterarNome, depósito e saque. No construtor, saldo é opcional, com valor default zero e os\n",
        "demais atributos são obrigatórios."
      ]
    },
    {
      "cell_type": "code",
      "execution_count": null,
      "metadata": {
        "id": "EUU4bcIN8_GF"
      },
      "outputs": [],
      "source": [
        "class ContaCorrente:\n",
        "    def __init__(self, numero_conta, nome_correntista, saldo=0):\n",
        "        self.numero_conta = numero_conta\n",
        "        self.nome_correntista = nome_correntista\n",
        "        self.saldo = saldo\n",
        "\n",
        "    def alterar_nome(self, novo_nome):\n",
        "        self.nome_correntista = novo_nome\n",
        "        return f\"Nome do correntista alterado para {novo_nome}.\"\n",
        "\n",
        "    def deposito(self, valor_deposito):\n",
        "        if valor_deposito > 0:\n",
        "            self.saldo += valor_deposito\n",
        "            return f\"Depósito de R$ {valor_deposito:.2f} realizado com sucesso.\"\n",
        "        return \"Valor do depósito deve ser maior que zero.\"\n",
        "\n",
        "    def saque(self, valor_saque):\n",
        "        if 0 < valor_saque <= self.saldo:\n",
        "            self.saldo -= valor_saque\n",
        "            return f\"Saque de R$ {valor_saque:.2f} realizado com sucesso.\"\n",
        "        return \"Saldo insuficiente ou valor de saque inválido.\"\n",
        "\n",
        "conta = ContaCorrente(\"12345\", \"João da Silva\", 1000.00)\n",
        "\n",
        "print(conta.alterar_nome(\"João Oliveira\"))\n",
        "print(conta.deposito(500))\n",
        "print(conta.saque(200))\n",
        "print(conta.saque(2000))"
      ]
    },
    {
      "cell_type": "markdown",
      "metadata": {
        "id": "TnaOM3iL8_53"
      },
      "source": [
        "\n",
        "- Classe TV: Faça um programa que simule um televisor criando-o como um objeto. O usuário deve\n",
        "ser capaz de informar o número do canal e aumentar ou diminuir o volume. Certifique-se de que o\n",
        "número do canal e o nível do volume permanecem dentro de faixas válidas."
      ]
    },
    {
      "cell_type": "code",
      "execution_count": null,
      "metadata": {
        "id": "ZK7bSOSg9B96"
      },
      "outputs": [],
      "source": [
        "class TV:\n",
        "    def __init__(self):\n",
        "        self.canal = 1\n",
        "        self.volume = 5\n",
        "\n",
        "    def alterar_canal(self, novo_canal):\n",
        "        if 1 <= novo_canal <= 100:\n",
        "            self.canal = novo_canal\n",
        "            print(f\"Canal alterado para {novo_canal}.\")\n",
        "        else:\n",
        "            print(\"Canal inválido. Digite um número de canal entre 1 e 100.\")\n",
        "\n",
        "    def aumentar_volume(self):\n",
        "        if self.volume < 10:\n",
        "            self.volume += 1\n",
        "            print(f\"Volume aumentado para {self.volume}.\")\n",
        "        else:\n",
        "            print(\"Volume já está no máximo.\")\n",
        "\n",
        "    def diminuir_volume(self):\n",
        "        if self.volume > 0:\n",
        "            self.volume -= 1\n",
        "            print(f\"Volume diminuído para {self.volume}.\")\n",
        "        else:\n",
        "            print(\"Volume já está no mínimo.\")\n",
        "\n",
        "tv = TV()\n",
        "tv.alterar_canal(5)\n",
        "tv.aumentar_volume()\n",
        "tv.aumentar_volume()\n",
        "tv.diminuir_volume()\n",
        "tv.alterar_canal(105)"
      ]
    },
    {
      "cell_type": "markdown",
      "metadata": {
        "id": "hlwt_Pse9CYK"
      },
      "source": [
        "- Classe Bichinho Virtual: Crie uma classe que modele um Tamagushi (Bichinho Eletrônico):\n",
        "a. Atributos: Nome, Fome, Saúde e Idade\n",
        "b. Métodos: Alterar Nome, Fome, Saúde e Idade; Retornar Nome, Fome, Saúde e Idade\n",
        "Obs: Existe mais uma informação que devemos levar em consideração, o Humor do nosso tamagushi,\n",
        "este humor é uma combinação entre os atributos Fome e Saúde, ou seja, um campo calculado, então\n",
        "não devemos criar um atributo para armazenar esta informação por que ela pode ser calculada a\n",
        "qualquer momento."
      ]
    },
    {
      "cell_type": "code",
      "execution_count": null,
      "metadata": {
        "id": "-wmCuxGD9EHq"
      },
      "outputs": [],
      "source": [
        "class BichinhoVirtual:\n",
        "    def __init__(self, nome, fome=0, saude=100, idade=0):\n",
        "        self.nome = nome\n",
        "        self.fome = fome\n",
        "        self.saude = saude\n",
        "        self.idade = idade\n",
        "\n",
        "    def alterar_nome(self, novo_nome):\n",
        "        self.nome = novo_nome\n",
        "\n",
        "    def alterar_fome(self, nova_fome):\n",
        "        self.fome = nova_fome\n",
        "\n",
        "    def alterar_saude(self, nova_saude):\n",
        "        self.saude = nova_saude\n",
        "\n",
        "    def alterar_idade(self, nova_idade):\n",
        "        self.idade = nova_idade\n",
        "\n",
        "    def retornar_nome(self):\n",
        "        return self.nome\n",
        "\n",
        "    def retornar_fome(self):\n",
        "        return self.fome\n",
        "\n",
        "    def retornar_saude(self):\n",
        "        return self.saude\n",
        "\n",
        "    def retornar_idade(self):\n",
        "        return self.idade\n",
        "\n",
        "    def retornar_humor(self):\n",
        "        humor = (self.fome + self.saude) / 2\n",
        "        return humor\n",
        "\n",
        "bichinho = BichinhoVirtual(\"Tama\")\n",
        "\n",
        "print(\"Nome:\", bichinho.retornar_nome())\n",
        "print(\"Fome:\", bichinho.retornar_fome())\n",
        "print(\"Saúde:\", bichinho.retornar_saude())\n",
        "print(\"Idade:\", bichinho.retornar_idade())\n",
        "print(\"Humor:\", bichinho.retornar_humor())\n",
        "\n",
        "bichinho.alterar_nome(\"Tama Jr.\")\n",
        "bichinho.alterar_fome(50)\n",
        "bichinho.alterar_saude(80)\n",
        "bichinho.alterar_idade(1)\n",
        "\n",
        "print(\"\\nDepois das alterações:\")\n",
        "print(\"Nome:\", bichinho.retornar_nome())\n",
        "print(\"Fome:\", bichinho.retornar_fome())\n",
        "print(\"Saúde:\", bichinho.retornar_saude())\n",
        "print(\"Idade:\", bichinho.retornar_idade())\n",
        "print(\"Humor:\", bichinho.retornar_humor())"
      ]
    },
    {
      "cell_type": "markdown",
      "metadata": {
        "id": "woQ4IgD89E2j"
      },
      "source": [
        "- Classe Macaco: Desenvolva uma classe Macaco, que possua os atributos nome e bucho (estomago)\n",
        "e pelo menos os métodos comer(), verBucho() e digerir(). Faça um programa ou teste interativamente,\n",
        "criando pelo menos dois macacos, alimentando-os com pelo menos 3 alimentos diferentes e verificando o conteúdo do estomago a cada refeição. Experimente fazer com que um macaco coma o\n",
        "outro. É possível criar um macaco canibal?"
      ]
    },
    {
      "cell_type": "code",
      "execution_count": null,
      "metadata": {
        "id": "SuD_uoeU_UC_",
        "outputId": "38bd1d50-542f-42fb-8c3e-cae3795f1fdc"
      },
      "outputs": [
        {
          "name": "stdout",
          "output_type": "stream",
          "text": [
            "Simão comeu Banana.\n",
            "Simão comeu Maçã.\n",
            "Maria comeu Laranja.\n",
            "Simão está com o seguinte conteúdo no estômago: Banana, Maçã\n",
            "Maria está com o seguinte conteúdo no estômago: Laranja\n",
            "Simão está digerindo...\n",
            "Simão digeriu tudo.\n",
            "Maria está digerindo...\n",
            "Maria digeriu tudo.\n",
            "Não é possível comer outro macaco!\n"
          ]
        }
      ],
      "source": [
        "class Macaco:\n",
        "    def __init__(self, nome):\n",
        "        self.nome = nome\n",
        "        self.bucho = []\n",
        "\n",
        "    def comer(self, alimento):\n",
        "        if isinstance(alimento, Macaco):\n",
        "            print(\"Não é possível comer outro macaco!\")\n",
        "            return None\n",
        "        else:\n",
        "            self.bucho.append(alimento)\n",
        "            print(f\"{self.nome} comeu {alimento}.\")\n",
        "\n",
        "    def ver_bucho(self):\n",
        "        if self.bucho:\n",
        "            print(f\"{self.nome} está com o seguinte conteúdo no estômago: {', '.join(self.bucho)}\")\n",
        "        else:\n",
        "            print(f\"{self.nome} está com o estômago vazio.\")\n",
        "\n",
        "    def digerir(self):\n",
        "        if self.bucho:\n",
        "            print(f\"{self.nome} está digerindo...\")\n",
        "            self.bucho.clear()\n",
        "            print(f\"{self.nome} digeriu tudo.\")\n",
        "        else:\n",
        "            print(f\"{self.nome} não precisa digerir nada, o estômago está vazio.\")\n",
        "\n",
        "macaco1 = Macaco(\"Simão\")\n",
        "macaco2 = Macaco(\"Maria\")\n",
        "\n",
        "macaco1.comer(\"Banana\")\n",
        "macaco1.comer(\"Maçã\")\n",
        "macaco2.comer(\"Laranja\")\n",
        "\n",
        "macaco1.ver_bucho()\n",
        "macaco2.ver_bucho()\n",
        "\n",
        "macaco1.digerir()\n",
        "macaco2.digerir()\n",
        "\n",
        "macaco1.comer(macaco2)"
      ]
    },
    {
      "cell_type": "markdown",
      "metadata": {
        "id": "xPgOJF-p_VM6"
      },
      "source": [
        "- Classe Ponto e Retangulo: Faça um programa completo utilizando funções e classes que:\n",
        "\n",
        "  a. Possua uma classe chamada Ponto, com os atributos x e y.\n",
        "\n",
        "  b. Possua uma classe chamada Retangulo, com os atributos largura e altura.\n",
        "\n",
        "  c. Possua uma função para imprimir os valores da classe Ponto.\n",
        "\n",
        "  d. Possua uma função para encontrar o centro de um Retângulo.\n",
        "\n",
        "  e. Você deve criar alguns objetos da classe Retangulo.\n",
        "\n",
        "  f. Cada objeto deve ter um vértice de partida, por exemplo, o vértice inferior esquerdo do\n",
        "retângulo, que deve ser um objeto da classe Ponto.\n",
        "\n",
        "  g. A função para encontrar o centro do retângulo deve retornar o valor para um objeto do tipo\n",
        "ponto que indique os valores de x e y para o centro do objeto.\n",
        "\n",
        "  h. O valor do centro do objeto deve ser mostrado na tela.\n",
        "\n",
        "  i. Crie um menu para alterar os valores do retângulo e imprimir o centro deste retângulo."
      ]
    },
    {
      "cell_type": "code",
      "execution_count": null,
      "metadata": {
        "id": "AgdI4aK6wblJ",
        "outputId": "a42c6974-d48c-464e-eeb5-3985ac3f2123"
      },
      "outputs": [
        {
          "name": "stdout",
          "output_type": "stream",
          "text": [
            "Saindo...\n"
          ]
        }
      ],
      "source": [
        "class Ponto():\n",
        "    def __init__(self, x=0, y=0):\n",
        "        self.x = x\n",
        "        self.y = y\n",
        "\n",
        "class Retangulo():\n",
        "    def __init__(self, largura=0, altura=0, ponto=Ponto()):\n",
        "        self.largura = largura\n",
        "        self.altura = altura\n",
        "        self.ponto = ponto\n",
        "\n",
        "    def encontra_centro(self):\n",
        "        centro_x = int(self.ponto.x + self.largura / 2)\n",
        "        centro_y = int(self.ponto.y + self.altura / 2)\n",
        "        return Ponto(centro_x, centro_y)\n",
        "\n",
        "    def alterar_dimensoes(self, largura, altura):\n",
        "        self.largura = largura\n",
        "        self.altura = altura\n",
        "        self.imprimir_dimensoes()\n",
        "\n",
        "    def imprimir_dimensoes(self):\n",
        "        print(f'As novas dimensões do retângulo são {self.largura} e {self.altura}')\n",
        "\n",
        "    def get_centro(self):\n",
        "        return f'Retângulo: Largura = {self.largura}, Altura = {self.altura}, Ponto = ({self.ponto.x}, {self.ponto.y})'\n",
        "\n",
        "def main():\n",
        "    ponto1 = Ponto(3, 4)\n",
        "    ponto2 = Ponto(1, 2)\n",
        "    ponto3 = Ponto(5, 6)\n",
        "\n",
        "    retangulo1 = Retangulo(5, 6, ponto1)\n",
        "    retangulo2 = Retangulo(2, 3, ponto2)\n",
        "    retangulo3 = Retangulo(6, 7, ponto3)\n",
        "    retangulos = [retangulo1, retangulo2, retangulo3]\n",
        "\n",
        "    while True:\n",
        "        opcao = input(\"\"\"Informe o que você deseja fazer:\\n\n",
        "            1. Alterar dimensões do retângulo\\n\n",
        "            2. Imprimir centro do retângulo\\n\n",
        "            3. Sair \"\"\")\n",
        "\n",
        "        if opcao == '1':\n",
        "            indice_retangulo = int(input(\"Informe o índice do retângulo que deseja alterar (começando de 1): \"))\n",
        "            if 1 <= indice_retangulo <= len(retangulos):\n",
        "                largura = float(input(\"Informe uma nova largura: \"))\n",
        "                altura = float(input(\"Informe uma nova altura: \"))\n",
        "                retangulos[indice_retangulo - 1].alterar_dimensoes(largura, altura)\n",
        "                print(\"Dimensões do retângulo alteradas com sucesso!\")\n",
        "            else:\n",
        "                print(\"Índice de retângulo inválido!\")\n",
        "\n",
        "        elif opcao == '2':\n",
        "            for i, retangulo in enumerate(retangulos, 1):\n",
        "                print(f\"Centro do retângulo {i}:\")\n",
        "                centro_retangulo = retangulo.encontra_centro()\n",
        "                print(f'Ponto: ({centro_retangulo.x}, {centro_retangulo.y})')\n",
        "\n",
        "        elif opcao == '3':\n",
        "            print(\"Saindo...\")\n",
        "            break\n",
        "\n",
        "        else:\n",
        "            print(\"Opção inválida. Por favor, escolha novamente.\")\n",
        "\n",
        "if __name__ == '__main__':\n",
        "    main()"
      ]
    },
    {
      "cell_type": "markdown",
      "metadata": {
        "id": "93WxlacSwxuc"
      },
      "source": [
        "- Classe Bomba de Combustível: Faça um programa completo utilizando classes e métodos que:\n",
        "\n",
        "  a. Possua uma classe chamada bombaCombustível, com no mínimo esses atributos:\n",
        "\n",
        "  i. tipoCombustivel.\n",
        "  ii. valorLitro\n",
        "  iii. quantidadeCombustivel\n",
        "\n",
        "  b. Possua no mínimo esses métodos:\n",
        "\n",
        "  i. abastecerPorValor( ) – método onde é informado o valor a ser abastecido e mostra a\n",
        "quantidade de litros que foi colocada no veículo.\n",
        "\n",
        "  ii. abastecerPorLitro( ) – método onde é informado a quantidade em litros de\n",
        "combustível e mostra o valor a ser pago pelo cliente.\n",
        "\n",
        "  iii. alterarValor( ) – altera o valor do litro do combustível.\n",
        "\n",
        "  iv. alterarCombustivel( ) – altera o tipo do combustível.\n",
        "  v. alterarQuantidadeCombustivel( ) – altera a quantidade de combustível restante na\n",
        "bomba.\n",
        "\n",
        "  OBS: Sempre que acontecer um abastecimento é necessário atualizar a quantidade de\n",
        "combustível total na bomba."
      ]
    },
    {
      "cell_type": "code",
      "execution_count": null,
      "metadata": {
        "id": "j4Eh_FxSzgtG"
      },
      "outputs": [],
      "source": [
        "class BombaCombustivel():\n",
        "    def __init__(self, tipo_combustivel, valor_litro, quantidade_combustivel):\n",
        "        self.tipo_combustivel = tipo_combustivel\n",
        "        self.valor_litro = valor_litro\n",
        "        self.quantidade_combustivel = quantidade_combustivel\n",
        "\n",
        "    def abastecer_por_valor(self, valor_abastecido):\n",
        "        litros_abastecidos = valor_abastecido / self.valor_litro\n",
        "        if litros_abastecidos <= self.quantidade_combustivel:\n",
        "            self.quantidade_combustivel -= litros_abastecidos\n",
        "            return f\"Foram abastecidos {litros_abastecidos:.2f} litros de {self.tipo_combustivel}.\"\n",
        "        else:\n",
        "            return \"Não há combustível suficiente na bomba.\"\n",
        "\n",
        "    def abastecer_por_litro(self, litros_abastecidos):\n",
        "        valor_a_pagar = litros_abastecidos * self.valor_litro\n",
        "        if litros_abastecidos <= self.quantidade_combustivel:\n",
        "            self.quantidade_combustivel -= litros_abastecidos\n",
        "            return f\"Valor a pagar: R$ {valor_a_pagar:.2f}.\"\n",
        "        else:\n",
        "            return \"Não há combustível suficiente na bomba.\"\n",
        "\n",
        "    def alterar_valor(self, novo_valor_litro):\n",
        "        self.valor_litro = novo_valor_litro\n",
        "        return f\"Valor do litro alterado para R$ {self.valor_litro:.2f}.\"\n",
        "\n",
        "    def alterar_combustivel(self, novo_tipo_combustivel):\n",
        "        self.tipo_combustivel = novo_tipo_combustivel\n",
        "        return f\"Tipo de combustível alterado para {self.tipo_combustivel}.\"\n",
        "\n",
        "    def alterar_quantidade_combustivel(self, nova_quantidade_combustivel):\n",
        "        self.quantidade_combustivel = nova_quantidade_combustivel\n",
        "        return f\"Quantidade de combustível alterada para {self.quantidade_combustivel:.2f} litros.\"\n",
        "\n",
        "bomba = BombaCombustivel(\"Gasolina\", 4.50, 1000)\n",
        "\n",
        "print(bomba.abastecer_por_valor(100))\n",
        "print(bomba.abastecer_por_litro(20))\n",
        "print(bomba.alterar_valor(5.00))\n",
        "print(bomba.alterar_combustivel(\"Álcool\"))\n",
        "print(bomba.alterar_quantidade_combustivel(1500))"
      ]
    },
    {
      "cell_type": "markdown",
      "metadata": {
        "id": "zwKKCEjozouo"
      },
      "source": [
        "\n",
        "- Classe Carro: Implemente uma classe chamada Carro com as seguintes propriedades:\n",
        "\n",
        "  a. Um veículo tem um certo consumo de combustível (medidos em km / litro) e uma certa\n",
        "quantidade de combustível no tanque.\n",
        "\n",
        "  b. O consumo é especificado no construtor e o nível de combustível inicial é 0.\n",
        "\n",
        "  c. Forneça um método andar( ) que simule o ato de dirigir o veículo por uma certa distância,\n",
        "reduzindo o nível de combustível no tanque de gasolina.\n",
        "\n",
        "  d. Forneça um método obterGasolina( ), que retorna o nível atual de combustível.\n",
        "\n",
        "  e. Forneça um método adicionarGasolina( ), para abastecer o tanque. Exemplo de uso:\n",
        "\n",
        "  meuFusca = Carro(15) # 15 quilômetros por litro de combustível.\n",
        "\n",
        "  meuFusca.adicionarGasolina(20) # abastece com 20 litros de combustível.\n",
        "\n",
        "  meuFusca.andar(100) # anda 100 quilômetros.\n",
        "\n",
        "  meuFusca.obterGasolina() # Imprime o combustível que resta no tanque."
      ]
    },
    {
      "cell_type": "code",
      "execution_count": null,
      "metadata": {
        "id": "ibJbOf6Uzzwm"
      },
      "outputs": [],
      "source": [
        "class Carro():\n",
        "    def __init__(self, consumo):\n",
        "        self.consumo = consumo\n",
        "        self.combustivel = 0\n",
        "\n",
        "    def andar(self, distancia):\n",
        "        combustivel_necessario = distancia / self.consumo\n",
        "        if combustivel_necessario <= self.combustivel:\n",
        "            self.combustivel -= combustivel_necessario\n",
        "            print(f\"Carro andou {distancia} km. Combustível restante: {self.combustivel:.2f} litros.\")\n",
        "        else:\n",
        "            print(\"Combustível insuficiente para percorrer essa distância.\")\n",
        "\n",
        "    def obter_gasolina(self):\n",
        "        return f\"Nível de combustível: {self.combustivel:.2f} litros.\"\n",
        "\n",
        "    def adicionar_gasolina(self, quantidade):\n",
        "        if quantidade > 0:\n",
        "            self.combustivel += quantidade\n",
        "            print(f\"Combustível adicionado. Novo nível: {self.combustivel:.2f} litros.\")\n",
        "        else:\n",
        "            print(\"Quantidade de combustível inválida.\")\n",
        "\n",
        "meu_fusca = Carro(15)\n",
        "meu_fusca.adicionar_gasolina(20)\n",
        "meu_fusca.andar(100)\n",
        "print(meu_fusca.obter_gasolina())"
      ]
    },
    {
      "cell_type": "markdown",
      "metadata": {
        "id": "v56sJN3w0C0Y"
      },
      "source": [
        "• Classe Conta de Investimento: Faça uma classe chamada contaInvestimento que seja semelhante à\n",
        "classe contaBancaria, com a diferença de que se adicione um atributo taxaJuros. Forneça um\n",
        "construtor que configure tanto o saldo inicial como a taxa de juros. Forneça um método adicioneJuros\n",
        "(sem parâmetro explícito) que adicione juros à conta. Escreva um programa que construa uma\n",
        "poupança com um saldo inicial de R$1000,00 e uma taxa de juros de 10%. Depois aplique o método\n",
        "adicioneJuros() cinco vezes e imprime o saldo resultante."
      ]
    },
    {
      "cell_type": "code",
      "execution_count": null,
      "metadata": {
        "id": "YT9HVJhr0EJw"
      },
      "outputs": [],
      "source": [
        "class ContaInvestimento():\n",
        "    def __init__(self, saldo_inicial, taxa_juros):\n",
        "        self.saldo = saldo_inicial\n",
        "        self.taxa_juros = taxa_juros / 100\n",
        "\n",
        "    def adicione_juros(self):\n",
        "        juros = self.saldo * self.taxa_juros\n",
        "        self.saldo += juros\n",
        "\n",
        "    def get_saldo(self):\n",
        "        return self.saldo\n",
        "\n",
        "poupanca = ContaInvestimento(1000.00, 10)\n",
        "\n",
        "for _ in range(5):\n",
        "    poupanca.adicione_juros()\n",
        "\n",
        "print(f\"Saldo após cinco vezes de aplicação de juros: R$ {poupanca.get_saldo():.2f}\")"
      ]
    },
    {
      "cell_type": "markdown",
      "metadata": {
        "id": "i3jyNUa70Exe"
      },
      "source": [
        "• Classe Funcionário: Implemente a classe Funcionário. Um empregado tem um nome (um string) e\n",
        "um salário(um double). Escreva um construtor com dois parâmetros (nome e salário) e métodos para\n",
        "devolver nome e salário. Escreva um pequeno programa que teste sua classe.\n",
        "\n",
        "• Aprimore a classe do exercício anterior para adicionar o método aumentarSalario\n",
        "(porcentualDeAumento) que aumente o salário do funcionário em uma certa porcentagem.\n",
        "\n",
        "• Exemplo de uso:\n",
        "\n",
        "harry = funcionário(\"Harry\",25000)\n",
        "\n",
        "harry.aumentarSalario(10)"
      ]
    },
    {
      "cell_type": "code",
      "execution_count": null,
      "metadata": {
        "id": "RX0lZJbS0Kd_"
      },
      "outputs": [],
      "source": [
        "class Funcionario:\n",
        "    def __init__(self, nome, salario):\n",
        "        self.nome = nome\n",
        "        self.salario = salario\n",
        "\n",
        "    def get_nome(self):\n",
        "        return self.nome\n",
        "\n",
        "    def get_salario(self):\n",
        "        return self.salario\n",
        "\n",
        "    def aumentar_salario(self, porcentual_de_aumento):\n",
        "        if porcentual_de_aumento > 0:\n",
        "            aumento = self.salario * (porcentual_de_aumento / 100)\n",
        "            self.salario += aumento\n",
        "            print(f\"Salário aumentado em {porcentual_de_aumento}%: Novo salário é R$ {self.salario:.2f}.\")\n",
        "        else:\n",
        "            print(\"Porcentagem de aumento inválida.\")\n",
        "\n",
        "harry = Funcionario(\"Harry\", 25000)\n",
        "print(f\"Nome: {harry.get_nome()}, Salário: R$ {harry.get_salario():.2f}\")\n",
        "harry.aumentar_salario(10)"
      ]
    },
    {
      "cell_type": "markdown",
      "metadata": {
        "id": "hQ_0Bb2k0ceh"
      },
      "source": [
        "• Classe Bichinho Virtual++: Melhore o programa do bichinho virtual, permitindo que o usuário\n",
        "especifique quanto de comida ele fornece ao bichinho e por quanto tempo ele brinca com o bichinho.\n",
        "Faça com que estes valores afetem quão rapidamente os níveis de fome e tédio caem."
      ]
    },
    {
      "cell_type": "code",
      "execution_count": null,
      "metadata": {
        "id": "7pK2b2jY0eg7"
      },
      "outputs": [],
      "source": [
        "class BichinhoVirtual:\n",
        "    def __init__(self, nome, fome=0, saude=100, idade=0):\n",
        "        self.nome = nome\n",
        "        self.fome = fome\n",
        "        self.saude = saude\n",
        "        self.idade = idade\n",
        "\n",
        "    def alterar_nome(self, novo_nome):\n",
        "        self.nome = novo_nome\n",
        "\n",
        "    def alimentar(self, quantidade_comida):\n",
        "        self.fome -= quantidade_comida\n",
        "\n",
        "    def brincar(self, tempo_brincadeira):\n",
        "        self.fome += tempo_brincadeira\n",
        "        self.saude += tempo_brincadeira\n",
        "\n",
        "    def envelhecer(self):\n",
        "        self.idade += 1\n",
        "\n",
        "    def retornar_nome(self):\n",
        "        return self.nome\n",
        "\n",
        "    def retornar_fome(self):\n",
        "        return self.fome\n",
        "\n",
        "    def retornar_saude(self):\n",
        "        return self.saude\n",
        "\n",
        "    def retornar_idade(self):\n",
        "        return self.idade\n",
        "\n",
        "    def retornar_humor(self):\n",
        "        humor = (self.fome + self.saude) / 2\n",
        "        return humor\n",
        "\n",
        "bichinho = BichinhoVirtual(\"Tama\")\n",
        "\n",
        "print(\"Nome:\", bichinho.retornar_nome())\n",
        "print(\"Fome:\", bichinho.retornar_fome())\n",
        "print(\"Saúde:\", bichinho.retornar_saude())\n",
        "print(\"Idade:\", bichinho.retornar_idade())\n",
        "print(\"Humor:\", bichinho.retornar_humor())\n",
        "\n",
        "quantidade_comida = int(input(\"Quanta comida você quer dar a ele? \"))\n",
        "tempo_brincadeira = int(input(\"Por quanto tempo você quer brincar com o bichinho? \"))\n",
        "\n",
        "bichinho.alimentar(quantidade_comida)\n",
        "bichinho.brincar(tempo_brincadeira)\n",
        "bichinho.envelhecer()\n",
        "\n",
        "print(\"\\nDepois de alimentar e brincar:\")\n",
        "print(\"Nome:\", bichinho.retornar_nome())\n",
        "print(\"Fome:\", bichinho.retornar_fome())\n",
        "print(\"Saúde:\", bichinho.retornar_saude())\n",
        "print(\"Idade:\", bichinho.retornar_idade())\n",
        "print(\"Humor:\", bichinho.retornar_humor())"
      ]
    },
    {
      "cell_type": "markdown",
      "metadata": {
        "id": "EfOfikV80fTh"
      },
      "source": [
        "• Crie uma \"porta escondida\" no programa do bichinho virtual que mostre os valores exatos dos\n",
        "atributos do objeto. Consiga isto mostrando o objeto quando uma opção secreta, não listada no menu,\n",
        "for informada na escolha do usuário. Dica: acrescente um método especial str() à classe Bichinho."
      ]
    },
    {
      "cell_type": "code",
      "execution_count": null,
      "metadata": {
        "id": "c7PZx_g80hbk"
      },
      "outputs": [],
      "source": [
        "class BichinhoVirtual:\n",
        "    def __init__(self, nome, fome=0, saude=100, idade=0):\n",
        "        self.nome = nome\n",
        "        self.fome = fome\n",
        "        self.saude = saude\n",
        "        self.idade = idade\n",
        "\n",
        "    def __str__(self):\n",
        "        return f\"Nome: {self.nome}\\nFome: {self.fome}\\nSaúde: {self.saude}\\nIdade: {self.idade}\"\n",
        "\n",
        "    def alterar_nome(self, novo_nome):\n",
        "        self.nome = novo_nome\n",
        "\n",
        "    def alimentar(self, quantidade_comida):\n",
        "        self.fome -= quantidade_comida\n",
        "\n",
        "    def brincar(self, tempo_brincadeira):\n",
        "        self.fome += tempo_brincadeira\n",
        "        self.saude += tempo_brincadeira\n",
        "\n",
        "    def envelhecer(self):\n",
        "        self.idade += 1\n",
        "\n",
        "    def retornar_nome(self):\n",
        "        return self.nome\n",
        "\n",
        "    def retornar_fome(self):\n",
        "        return self.fome\n",
        "\n",
        "    def retornar_saude(self):\n",
        "        return self.saude\n",
        "\n",
        "    def retornar_idade(self):\n",
        "        return self.idade\n",
        "\n",
        "    def retornar_humor(self):\n",
        "        humor = (self.fome + self.saude) / 2\n",
        "        return humor\n",
        "\n",
        "bichinho = BichinhoVirtual(\"Tama\")\n",
        "\n",
        "print(\"BichinhoVirtual criado com sucesso!\")\n",
        "\n",
        "while True:\n",
        "    print(\"\\nOpções:\")\n",
        "    print(\"1. Alimentar o bichinho\")\n",
        "    print(\"2. Brincar com o bichinho\")\n",
        "    print(\"3. Envelhecer o bichinho\")\n",
        "    print(\"4. Mostrar valores exatos do bichinho (opção secreta)\")\n",
        "    print(\"5. Sair\")\n",
        "\n",
        "    opcao = input(\"Escolha uma opção: \")\n",
        "\n",
        "    if opcao == '1':\n",
        "        quantidade_comida = int(input(\"Quanta comida você quer fornecer? \"))\n",
        "        bichinho.alimentar(quantidade_comida)\n",
        "        print(\"Bichinho alimentado!\")\n",
        "\n",
        "    elif opcao == '2':\n",
        "        tempo_brincadeira = int(input(\"Por quanto tempo você quer brincar com o bichinho? \"))\n",
        "        bichinho.brincar(tempo_brincadeira)\n",
        "        print(\"Bichinho brincou!\")\n",
        "\n",
        "    elif opcao == '3':\n",
        "        bichinho.envelhecer()\n",
        "        print(\"Bichinho envelhecido!\")\n",
        "\n",
        "    elif opcao == '4':\n",
        "        print(\"Valores exatos do bichinho:\")\n",
        "        print(bichinho)\n",
        "\n",
        "    elif opcao == '5':\n",
        "        print(\"Saindo...\")\n",
        "        break\n",
        "\n",
        "    else:\n",
        "        print(\"Opção inválida. Por favor, escolha novamente.\")"
      ]
    },
    {
      "cell_type": "markdown",
      "metadata": {
        "id": "SkeCgsa00kQC"
      },
      "source": [
        "• Crie uma Fazenda de Bichinhos instanciando vários objetos bichinho e mantendo o controle deles\n",
        "através de uma lista. Imite o funcionamento do programa básico, mas ao invés de exigir que o usuário\n",
        "tome conta de um único bichinho, exija que ele tome conta da fazenda inteira. Cada opção do menu\n",
        "deveria permitir que o usuário executasse uma ação para todos os bichinhos (alimentar todos os\n",
        "bichinhos, brincar com todos os bichinhos, ou ouvir a todos os bichinhos). Para tornar o programa\n",
        "mais interessante, dê para cada bichinho um nível inicial aleatório de fome e tédio."
      ]
    },
    {
      "cell_type": "code",
      "execution_count": null,
      "metadata": {
        "id": "ntJow7jh0nNc",
        "outputId": "3ed5cc9c-89e5-4085-bc39-e78d34cbdaa6"
      },
      "outputs": [
        {
          "name": "stdout",
          "output_type": "stream",
          "text": [
            "Antes das interações:\n",
            "Cachorro: Fome = 2, Tédio = 0\n",
            "Gato: Fome = 10, Tédio = 0\n",
            "Coelho: Fome = 1, Tédio = 0\n",
            "Cachorro foi alimentado.\n",
            "Gato foi alimentado.\n",
            "Coelho foi alimentado.\n",
            "Cachorro brincou e se divertiu.\n",
            "Gato brincou e se divertiu.\n",
            "Coelho brincou e se divertiu.\n",
            "Cachorro está feliz em compartilhar suas histórias.\n",
            "Gato está feliz em compartilhar suas histórias.\n",
            "Coelho está feliz em compartilhar suas histórias.\n",
            "\n",
            "Depois das interações:\n",
            "Cachorro: Fome = 1, Tédio = -1\n",
            "Gato: Fome = 9, Tédio = -1\n",
            "Coelho: Fome = 0, Tédio = -1\n"
          ]
        }
      ],
      "source": [
        "import random\n",
        "\n",
        "class Bichinho:\n",
        "    def __init__(self, nome):\n",
        "        self.nome = nome\n",
        "        self.fome = random.randint(0, 10)\n",
        "        self.tedio = random.randint(0, 10)\n",
        "\n",
        "    def alimentar(self):\n",
        "        self.fome -= 1\n",
        "        print(f\"{self.nome} foi alimentado.\")\n",
        "\n",
        "    def brincar(self):\n",
        "        self.tedio -= 1\n",
        "        print(f\"{self.nome} brincou e se divertiu.\")\n",
        "\n",
        "    def ouvir(self):\n",
        "        print(f\"{self.nome} está feliz em compartilhar suas histórias.\")\n",
        "\n",
        "    def __str__(self):\n",
        "        return f\"{self.nome}: Fome = {self.fome}, Tédio = {self.tedio}\"\n",
        "\n",
        "\n",
        "class Fazenda:\n",
        "    def __init__(self):\n",
        "        self.bichinhos = []\n",
        "\n",
        "    def adicionar_bichinho(self, bichinho):\n",
        "        self.bichinhos.append(bichinho)\n",
        "\n",
        "    def alimentar_todos(self):\n",
        "        for bichinho in self.bichinhos:\n",
        "            bichinho.alimentar()\n",
        "\n",
        "    def brincar_todos(self):\n",
        "        for bichinho in self.bichinhos:\n",
        "            bichinho.brincar()\n",
        "\n",
        "    def ouvir_todos(self):\n",
        "        for bichinho in self.bichinhos:\n",
        "            bichinho.ouvir()\n",
        "\n",
        "    def listar_bichinhos(self):\n",
        "        for bichinho in self.bichinhos:\n",
        "            print(bichinho)\n",
        "\n",
        "fazenda = Fazenda()\n",
        "fazenda.adicionar_bichinho(Bichinho(\"Cachorro\"))\n",
        "fazenda.adicionar_bichinho(Bichinho(\"Gato\"))\n",
        "fazenda.adicionar_bichinho(Bichinho(\"Coelho\"))\n",
        "\n",
        "print(\"\\nAntes das interações:\")\n",
        "fazenda.listar_bichinhos()\n",
        "\n",
        "fazenda.alimentar_todos()\n",
        "fazenda.brincar_todos()\n",
        "fazenda.ouvir_todos()\n",
        "\n",
        "print(\"\\nDepois das interações:\")\n",
        "fazenda.listar_bichinhos()"
      ]
    }
  ],
  "metadata": {
    "colab": {
      "provenance": []
    },
    "kernelspec": {
      "display_name": "Python 3",
      "name": "python3"
    },
    "language_info": {
      "codemirror_mode": {
        "name": "ipython",
        "version": 3
      },
      "file_extension": ".py",
      "mimetype": "text/x-python",
      "name": "python",
      "nbconvert_exporter": "python",
      "pygments_lexer": "ipython3",
      "version": "3.10.12"
    }
  },
  "nbformat": 4,
  "nbformat_minor": 0
}
