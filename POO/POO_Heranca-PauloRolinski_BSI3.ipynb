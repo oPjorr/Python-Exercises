{
 "cells": [
  {
   "cell_type": "markdown",
   "metadata": {},
   "source": [
    "## Herança"
   ]
  },
  {
   "cell_type": "markdown",
   "metadata": {},
   "source": [
    "Aprendemos sobre três modificadores de controle de acesso (public, private e protected) que\n",
    "usamos para permitir e/ou restringir o acesso ao código. Na tabela abaixo, usaremos \"✅\" para marcar que\n",
    "o código pode ser acessado a partir de um certo nível, e \"❌\" se não puder ser acessado. Preencha a\n",
    "tabela com os valores corretos. Por exemplo, o código público (public) pode ser acessado de dentro da\n",
    "classe, do código dentro das classes filhas (i.e. descendentes) e do escopo global, enquanto o código\n",
    "privado (private) não pode ser acessado a partir do escopo global (*).\n",
    "\n",
    "|Modificador| Classe Mãe | Classe Filha | Escopo Global * |\n",
    "|-----------|------------|--------------|-----------------|\n",
    "|Public     |    ✅      |     ✅      |      ✅         |\n",
    "|Protected  |            |              |                 |\n",
    "|Privated   |            |              |       ❌        |\n",
    "\n",
    "(*) O escopo global significa fora das classes."
   ]
  },
  {
   "cell_type": "markdown",
   "metadata": {},
   "source": [
    "### Exercício de codificação"
   ]
  },
  {
   "cell_type": "markdown",
   "metadata": {},
   "source": [
    "No exemplo a seguir, criaremos uma classe chamada Admin, que é uma classe filha da classe Usuario.\n",
    "\n",
    "1. Crie uma classe chamada Usuario.\n",
    "\n",
    "   ```python\n",
    "    class Usuario():\n",
    "   ``` "
   ]
  },
  {
   "cell_type": "markdown",
   "metadata": {},
   "source": [
    "2. Adicione à classe acima uma propriedade privada com o nome nomeUsuario."
   ]
  },
  {
   "cell_type": "code",
   "execution_count": null,
   "metadata": {},
   "outputs": [],
   "source": [
    "class Usuario():\n",
    "    __nomeUsuario = ''"
   ]
  },
  {
   "cell_type": "markdown",
   "metadata": {},
   "source": [
    "3. Crie um método setter que possa definir o valor do nomeUsuario."
   ]
  },
  {
   "cell_type": "code",
   "execution_count": 27,
   "metadata": {},
   "outputs": [],
   "source": [
    "class Usuario():\n",
    "    def set_nome_usuario(self, nome):\n",
    "        self.__nomeUsuario = nome"
   ]
  },
  {
   "cell_type": "markdown",
   "metadata": {},
   "source": [
    "4. Crie uma classe Admin que herde a classe Usuario."
   ]
  },
  {
   "cell_type": "code",
   "execution_count": 28,
   "metadata": {},
   "outputs": [],
   "source": [
    "#Lembre-se de executar as celulas anteriores para criar a classe Usuario!\n",
    "\n",
    "class Admin(Usuario):\n",
    "    # propriedade para classe nao ficar vazia\n",
    "    propriedade2 = 2"
   ]
  },
  {
   "cell_type": "markdown",
   "metadata": {},
   "source": [
    "5. Agora, vamos acrescentar à classe Admin algum código. Primeiro, adicione um método público\n",
    "chamado de escrevaNome() e faça com que ele retorne a string: \"Admin\"."
   ]
  },
  {
   "cell_type": "code",
   "execution_count": 29,
   "metadata": {},
   "outputs": [],
   "source": [
    "class Admin(Usuario):\n",
    "    def escrevaNome(self):\n",
    "        return f'Admin'"
   ]
  },
  {
   "cell_type": "markdown",
   "metadata": {},
   "source": [
    "6. Adicione à classe Admin outro método público, digaOla(), que retorne a string \"Olá Admin,\n",
    "XXX\" onde XXX é o nome do usuário (nomeUsuario)."
   ]
  },
  {
   "cell_type": "code",
   "execution_count": 30,
   "metadata": {},
   "outputs": [],
   "source": [
    "class Admin(Usuario):\n",
    "    def escrevaNome(self):\n",
    "        return f'Admin'\n",
    "    \n",
    "    def digaOla(self):\n",
    "        return f'Olá Admin, {self.__nomeUsuario}'"
   ]
  },
  {
   "cell_type": "markdown",
   "metadata": {},
   "source": [
    "7. Crie um objeto chamado admin1 fora da classe Admin. Defina seu nome para \"Baltazar\" e diga\n",
    "olá ao usuário. Você vê algum problema?"
   ]
  },
  {
   "cell_type": "code",
   "execution_count": null,
   "metadata": {},
   "outputs": [],
   "source": [
    "admin1 = Admin()\n",
    "print(admin1.escrevaNome())"
   ]
  },
  {
   "cell_type": "code",
   "execution_count": null,
   "metadata": {},
   "outputs": [],
   "source": [
    "print(admin1.digaOla())"
   ]
  },
  {
   "cell_type": "markdown",
   "metadata": {},
   "source": [
    "8. Qual é a causa do problema?\n",
    "\n",
    "<span style=\"color:red\">Resposta: </span>A causa do problema é que a classe filha está tentando acessar uma propriedade privada da classe mãe. Isso não é possível. Ela pode acessar apenas propriedade públicas e protegidas."
   ]
  },
  {
   "cell_type": "markdown",
   "metadata": {},
   "source": [
    "9. Altere o código para corrigir o problema."
   ]
  },
  {
   "cell_type": "code",
   "execution_count": null,
   "metadata": {},
   "outputs": [],
   "source": [
    "class Usuario():\n",
    "    def __init__(self, nome):\n",
    "        self._nomeUsuario = nome\n",
    "        \n",
    "    def setNomeUsuario(self, nome):\n",
    "        self._nomeUsuario = nome\n",
    "        \n",
    "class Admin(Usuario):\n",
    "    def escrevaNome(self):\n",
    "        return f'Admin'\n",
    "    \n",
    "    def digaOla(self):\n",
    "        return f'Olá Admin, {self._nomeUsuario}'\n",
    "    \n",
    "admin2 = Admin(\"Pedro\")\n",
    "print(admin2.escrevaNome())\n",
    "print(admin2.digaOla())"
   ]
  },
  {
   "cell_type": "markdown",
   "metadata": {},
   "source": [
    "10. Tente escrever a solução com um método getter dentro da classe mãe que pode ser usado a partir da\n",
    "classe filha."
   ]
  },
  {
   "cell_type": "code",
   "execution_count": null,
   "metadata": {},
   "outputs": [],
   "source": [
    "class Usuario():\n",
    "    def __init__(self, nome=\"\"):\n",
    "        self._nomeUsuario = nome\n",
    "        \n",
    "    def setNomeUsuario(self, nome):\n",
    "        self._nomeUsuario = nome\n",
    "    \n",
    "    def getNomeUsuario(self):\n",
    "        return f'O nome de usuário é {self._nomeUsuario}'\n",
    "        \n",
    "class Admin(Usuario):\n",
    "    def escrevaNome(self):\n",
    "        return f'Admin'\n",
    "    \n",
    "admin2 = Admin(\"Pedro\")\n",
    "print(admin2.escrevaNome())\n",
    "print(admin2.getNomeUsuario())"
   ]
  },
  {
   "cell_type": "markdown",
   "metadata": {},
   "source": [
    "## Créditos"
   ]
  },
  {
   "cell_type": "markdown",
   "metadata": {},
   "source": [
    "* Elaborado pelo discente Paulo Cesar Fernandes de Oliveira\n",
    "\n",
    "* Resolvido pelo aluno Paulo José de Oliveira Rolinski\n",
    "\n",
    "* Github: https://github.com/oPjorr\n",
    "\n",
    "* LinkedIn: https://www.linkedin.com/in/paulo-rolinski-1652971b1/"
   ]
  }
 ],
 "metadata": {
  "kernelspec": {
   "display_name": "Python 3",
   "language": "python",
   "name": "python3"
  },
  "language_info": {
   "codemirror_mode": {
    "name": "ipython",
    "version": 3
   },
   "file_extension": ".py",
   "mimetype": "text/x-python",
   "name": "python",
   "nbconvert_exporter": "python",
   "pygments_lexer": "ipython3",
   "version": "3.10.12"
  }
 },
 "nbformat": 4,
 "nbformat_minor": 2
}
