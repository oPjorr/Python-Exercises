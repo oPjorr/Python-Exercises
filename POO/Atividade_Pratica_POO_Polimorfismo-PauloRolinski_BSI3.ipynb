{
 "cells": [
  {
   "cell_type": "markdown",
   "metadata": {},
   "source": [
    "# Atividade Prática 07\n",
    "## Polimorfismo em Python"
   ]
  },
  {
   "cell_type": "markdown",
   "metadata": {},
   "source": [
    "Nesta atividade prática, vamos retornar à classe Usuario que usamos nas atividades anteriores. Para\n",
    "implementar o princípio do polimorfismo, criaremos uma classe chamada Usuario. A partir dela\n",
    "criaremos algumas classes como: para calcular o número de pontuações que um usuário tem, e o número\n",
    "de artigos que ele criou ou editou. Baseado nesta classe (Usuario), vamos criar as classes Autor e\n",
    "Editor, e ambas calcularão o número de pontuações com o método calcPontuacao(), embora o\n",
    "valor calculado seja diferente entre estas duas classes.\n",
    "\n",
    "Este é o esqueleto da classe Usuario:\n",
    "``` python\n",
    "class Usuario:\n",
    "    pontos = 0\n",
    "    numeroDeArtigos = 0\n",
    "\n",
    "    # Métodos vão aqui\n",
    "``` "
   ]
  },
  {
   "cell_type": "markdown",
   "metadata": {},
   "source": [
    "1. Acrescente na classe Usuario métodos para definir e obter o número de artigos:\n",
    "    \n",
    "    a) setNumeroDeArtigos(self, nart)\n",
    "    \n",
    "    b) getNumeroDeArtigos(self)\n",
    "    \n",
    "    Obs: variável nart deve ser um inteiro"
   ]
  },
  {
   "cell_type": "code",
   "execution_count": 11,
   "metadata": {},
   "outputs": [
    {
     "name": "stdout",
     "output_type": "stream",
     "text": [
      "O número de artigos é de 3\n"
     ]
    }
   ],
   "source": [
    "class Usuario():\n",
    "    def __init__(self):\n",
    "        self.pontos = 0\n",
    "        self.numeroDeArtigos = 0\n",
    "    \n",
    "    def setNumeroDeArtigos(self, nart):\n",
    "        self.numeroDeArtigos = nart\n",
    "        \n",
    "    def getNumeroDeArtigos(self):\n",
    "        return f'O número de artigos é de {self.numeroDeArtigos}'\n",
    "\n",
    "usuario1 = Usuario()\n",
    "usuario1.setNumeroDeArtigos(3)\n",
    "print(usuario1.getNumeroDeArtigos())"
   ]
  },
  {
   "cell_type": "markdown",
   "metadata": {},
   "source": [
    "2. Acrescente à classe o método chamado calcPontuacao(), que realiza os cálculos das pontuações\n",
    "separadamente para cada classe."
   ]
  },
  {
   "cell_type": "code",
   "execution_count": 12,
   "metadata": {},
   "outputs": [
    {
     "name": "stdout",
     "output_type": "stream",
     "text": [
      "30\n"
     ]
    }
   ],
   "source": [
    "class Usuario():\n",
    "    def __init__(self):\n",
    "        self.pontos = 0\n",
    "        self.numeroDeArtigos = 0\n",
    "    \n",
    "    def setNumeroDeArtigos(self, nart):\n",
    "        self.numeroDeArtigos = nart\n",
    "        \n",
    "    def getNumeroDeArtigos(self):\n",
    "        return f'O número de artigos é de {self.numeroDeArtigos}'\n",
    "    \n",
    "    def calcPontuacao(self):\n",
    "        return self.numeroDeArtigos * 10\n",
    "    \n",
    "usuario1 = Usuario()\n",
    "usuario1.setNumeroDeArtigos(3)\n",
    "print(usuario1.calcPontuacao())"
   ]
  },
  {
   "cell_type": "markdown",
   "metadata": {},
   "source": [
    "3. Crie uma classe chamada Autor que herda da classe de Usuario. Nesta classe (Autor) crie um\n",
    "método chamado calcPontuacao() que retorna o número de pontuações usando o seguinte\n",
    "cálculo:\n",
    "\n",
    "    numeroDeArtigos * 10 + 20"
   ]
  },
  {
   "cell_type": "code",
   "execution_count": 6,
   "metadata": {},
   "outputs": [
    {
     "data": {
      "text/plain": [
       "50"
      ]
     },
     "execution_count": 6,
     "metadata": {},
     "output_type": "execute_result"
    }
   ],
   "source": [
    "class Autor(Usuario):\n",
    "    def calcPontuacao(self):\n",
    "        return self.numeroDeArtigos * 10 + 20"
   ]
  },
  {
   "cell_type": "markdown",
   "metadata": {},
   "source": [
    "4. Agora crie também uma classe chamada Editor que herda da classe Usuario. Nesta classe\n",
    "(Editor), crie um método chamado calcPontuacao() que retorne o número de pontuações\n",
    "usando o seguinte cálculo:\n",
    "\n",
    "    numeroDeArtigos * 6 + 15"
   ]
  },
  {
   "cell_type": "code",
   "execution_count": 13,
   "metadata": {},
   "outputs": [],
   "source": [
    "class Editor(Usuario):\n",
    "    def calcPontuacao(self):\n",
    "        return self.numeroDeArtigos * 6 + 15"
   ]
  },
  {
   "cell_type": "markdown",
   "metadata": {},
   "source": [
    "5. Crie um objeto chamado autor1, a partir da classe Autor. Agora defina o número de artigos como\n",
    "8 e imprima as pontuações obtidas pelo autor."
   ]
  },
  {
   "cell_type": "code",
   "execution_count": 9,
   "metadata": {},
   "outputs": [
    {
     "data": {
      "text/plain": [
       "100"
      ]
     },
     "execution_count": 9,
     "metadata": {},
     "output_type": "execute_result"
    }
   ],
   "source": [
    "autor1 = Autor()\n",
    "autor1.setNumeroDeArtigos(8)\n",
    "autor1.calcPontuacao()"
   ]
  },
  {
   "cell_type": "markdown",
   "metadata": {},
   "source": [
    "6. Crie outro objeto chamado editor1, a partir da classe Editor. Agora defina o número de artigos\n",
    "para 15 e imprima as pontuações que o editor ganhou."
   ]
  },
  {
   "cell_type": "code",
   "execution_count": 10,
   "metadata": {},
   "outputs": [
    {
     "data": {
      "text/plain": [
       "105"
      ]
     },
     "execution_count": 10,
     "metadata": {},
     "output_type": "execute_result"
    }
   ],
   "source": [
    "editor1 = Editor()\n",
    "editor1.setNumeroDeArtigos(15)\n",
    "editor1.calcPontuacao()"
   ]
  }
 ],
 "metadata": {
  "kernelspec": {
   "display_name": "Python 3",
   "language": "python",
   "name": "python3"
  },
  "language_info": {
   "codemirror_mode": {
    "name": "ipython",
    "version": 3
   },
   "file_extension": ".py",
   "mimetype": "text/x-python",
   "name": "python",
   "nbconvert_exporter": "python",
   "pygments_lexer": "ipython3",
   "version": "3.10.12"
  }
 },
 "nbformat": 4,
 "nbformat_minor": 2
}
