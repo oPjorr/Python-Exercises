{
 "cells": [
  {
   "cell_type": "markdown",
   "metadata": {},
   "source": [
    "# Lista 03\n",
    "## Polimorfismo"
   ]
  },
  {
   "cell_type": "markdown",
   "metadata": {},
   "source": [
    "1. Crie uma hierarquia de classes para animais, com uma classe mãe Animal e subclasses Cachorro,\n",
    "Gato e Peixe. Cada subclasse deve ter um método falar() que retorne uma string\n",
    "representando o som que o animal faz. Demonstre o polimorfismo chamando falar() nas\n",
    "instâncias de cada subclasse."
   ]
  },
  {
   "cell_type": "code",
   "execution_count": 1,
   "metadata": {},
   "outputs": [
    {
     "name": "stdout",
     "output_type": "stream",
     "text": [
      "Au Au\n",
      "Miau Miau\n",
      "Glup Glup\n"
     ]
    }
   ],
   "source": [
    "class Animal():\n",
    "    def falar(self):\n",
    "        pass\n",
    "    \n",
    "class Cachorro(Animal):\n",
    "    def falar(self):\n",
    "        return 'Au Au'\n",
    "    \n",
    "class Gato(Animal):\n",
    "    def falar(self):\n",
    "        return 'Miau Miau'\n",
    "    \n",
    "class Peixe(Animal):\n",
    "    def falar(self):\n",
    "        return 'Glup Glup'\n",
    "    \n",
    "cachorro = Cachorro()\n",
    "gato = Gato()\n",
    "peixe = Peixe()\n",
    "\n",
    "print(cachorro.falar())\n",
    "print(gato.falar())\n",
    "print(peixe.falar())"
   ]
  },
  {
   "cell_type": "markdown",
   "metadata": {},
   "source": [
    "2. Crie uma classe Animal com um método falar(). Em seguida, crie duas classes filhas,\n",
    "Cachorro e Gato, que herdam da classe Animal. Cada uma destas classes filhas deve ter seu\n",
    "próprio método falar() que retorne um som diferente (e.g. latidos para o cachorro e miados para\n",
    "o gato). Em seguida, crie uma lista de animais que inclua um cachorro e um gato. Por fim, itere\n",
    "sobre a lista e chame o método falar() de cada animal."
   ]
  },
  {
   "cell_type": "code",
   "execution_count": 11,
   "metadata": {},
   "outputs": [
    {
     "name": "stdout",
     "output_type": "stream",
     "text": [
      "Au Au\n",
      "Miau Miau\n"
     ]
    }
   ],
   "source": [
    "class Animal():\n",
    "    def falar(self):\n",
    "        pass\n",
    "    \n",
    "class Cachorro(Animal):\n",
    "    def falar(self):\n",
    "        return 'Au Au'\n",
    "    \n",
    "class Gato(Animal):\n",
    "    def falar(self):\n",
    "        return 'Miau Miau'\n",
    "    \n",
    "cachorro1 = Cachorro()\n",
    "gato1 = Gato()\n",
    "\n",
    "animais = [cachorro1, gato1]\n",
    "\n",
    "print(\"\\n\".join([animal.falar() for animal in animais]))\n"
   ]
  },
  {
   "cell_type": "markdown",
   "metadata": {},
   "source": [
    "3. Crie uma classe chamada Carro com um método dirigir(). Em seguida, crie duas subclasses,\n",
    "CarroGasolina e CarroEletrico, cada uma com sua própria implementação de dirigir().\n",
    "Demonstre o polimorfismo passando instâncias de ambas as subclasses para uma função que recebe\n",
    "um objeto Carro."
   ]
  },
  {
   "cell_type": "code",
   "execution_count": 12,
   "metadata": {},
   "outputs": [
    {
     "name": "stdout",
     "output_type": "stream",
     "text": [
      "Dirigindo um carro a gasolina\n",
      "Dirigindo um carro elétrico\n"
     ]
    }
   ],
   "source": [
    "class Carro():\n",
    "    def dirigir(self):\n",
    "        pass\n",
    "    \n",
    "class CarroGasolina(Carro):\n",
    "    def dirigir(self):\n",
    "        return 'Dirigindo um carro a gasolina'\n",
    "\n",
    "class CarroEletrico(Carro):\n",
    "    def dirigir(self):\n",
    "        return 'Dirigindo um carro elétrico'\n",
    "    \n",
    "def testar_dirigir(carro):\n",
    "    print(carro.dirigir())\n",
    "\n",
    "carro_gasolina = CarroGasolina()\n",
    "carro_eletrico = CarroEletrico()\n",
    "testar_dirigir(carro_gasolina)\n",
    "testar_dirigir(carro_eletrico)\n"
   ]
  },
  {
   "cell_type": "markdown",
   "metadata": {},
   "source": [
    "4. Crie uma classe Forma com um método area(). Em seguida, crie duas classes filhas, Circulo e\n",
    "Quadrado, que herdam da classe Forma. Cada uma destas classes filhas deve ter seu próprio\n",
    "método area() que calcula a área do círculo ou do quadrado, respectivamente. Em seguida, crie\n",
    "uma lista de formas que inclua um círculo e um quadrado. Por fim, itere sobre a lista e chame o\n",
    "método area() de cada forma."
   ]
  },
  {
   "cell_type": "code",
   "execution_count": 25,
   "metadata": {},
   "outputs": [
    {
     "name": "stdout",
     "output_type": "stream",
     "text": [
      "A área do círculo é 12.57\n",
      "A área do quadrado é 4\n"
     ]
    }
   ],
   "source": [
    "from math import pi \n",
    "\n",
    "class Forma():\n",
    "    def area(self):\n",
    "        pass\n",
    "    \n",
    "class Circulo(Forma):\n",
    "    def __init__(self, raio=0):\n",
    "        self._raio = raio\n",
    "        \n",
    "    def area(self):\n",
    "        area = pi * self._raio ** 2\n",
    "        return f'A área do círculo é {round(area, 2)}'\n",
    "    \n",
    "class Quadrado(Forma):\n",
    "    def __init__(self, lado=0):\n",
    "        self._lado = lado\n",
    "        \n",
    "    def area(self):\n",
    "        return f'A área do quadrado é {self._lado ** 2}'\n",
    "    \n",
    "circulo = Circulo(2)\n",
    "quadrado = Quadrado(2)\n",
    "\n",
    "formas = [circulo, quadrado]\n",
    "areas = [forma.area() for forma in formas]\n",
    "print(\"\\n\".join(str(area) for area in areas))"
   ]
  },
  {
   "cell_type": "markdown",
   "metadata": {},
   "source": [
    "5. Crie uma classe Empregado com um método pagar_salario(). Em seguida, crie duas classes\n",
    "filhas, EmpregadoHora e EmpregadoMes, que herdam da classe Empregado. Cada uma das\n",
    "classes filhas deve ter seu próprio método pagar_salario() que calcula o salário com base no\n",
    "número de horas trabalhadas ou no salário mensal, respectivamente. Em seguida, crie uma lista de\n",
    "funcionários que inclua um funcionário horista e um funcionário mensalista. Por fim, itere sobre a\n",
    "lista e chame o método pagar_salario() de cada funcionário."
   ]
  },
  {
   "cell_type": "code",
   "execution_count": 34,
   "metadata": {},
   "outputs": [
    {
     "name": "stdout",
     "output_type": "stream",
     "text": [
      "Salário a pagar: 400 reais\n",
      "Salário a pagar: 2000 reais\n"
     ]
    }
   ],
   "source": [
    "class Empregado():\n",
    "    def pagar_salario(self):\n",
    "        pass\n",
    "    \n",
    "class EmpregadoHora(Empregado):\n",
    "    def __init__(self, horas_trabalhadas=0, valor_hora=0):\n",
    "        self._horastrabalhadas = horas_trabalhadas\n",
    "        self._valorhora = valor_hora\n",
    "\n",
    "    def pagar_salario(self):\n",
    "        salario = self._horastrabalhadas * self._valorhora\n",
    "        return f'{salario} reais'\n",
    "    \n",
    "class EmpregadoMes(Empregado):\n",
    "    def __init__(self, salario_mensal=0):\n",
    "        self._salariomensal = salario_mensal\n",
    "        \n",
    "    def pagar_salario(self):\n",
    "        return f'{self._salariomensal} reais'\n",
    "    \n",
    "empregado_hora = EmpregadoHora(40, 10)\n",
    "empregado_mensal = EmpregadoMes(2000)\n",
    "\n",
    "empregados = [empregado_hora, empregado_mensal]\n",
    "for empregado in empregados:\n",
    "    print(\"Salário a pagar:\", empregado.pagar_salario())"
   ]
  },
  {
   "cell_type": "markdown",
   "metadata": {},
   "source": [
    "6. Crie uma classe chamada ContaBancaria com os métodos deposito() e retirada(). Crie\n",
    "duas subclasses: ContaPoupanca e ContaCorrente. Cada uma dessas subclasses deve ter sua\n",
    "própria taxa de juros (a taxa de juros da Conta Poupança é maior que a da Conta Corrente)."
   ]
  },
  {
   "cell_type": "code",
   "execution_count": 38,
   "metadata": {},
   "outputs": [
    {
     "name": "stdout",
     "output_type": "stream",
     "text": [
      "Antes dos juros: saldo da Conta Poupança: 2000 reais\n",
      "Depois dos juros: saldo da Conta Poupança: 2100.0 reais\n",
      "Antes dos juros: saldo da Conta Corrente: 2000 reais\n",
      "Depois dos juros: saldo da Conta Corrente: 2040.0 reais\n"
     ]
    }
   ],
   "source": [
    "class ContaBancaria():\n",
    "    def __init__(self, saldo=0):\n",
    "        self._saldo = saldo\n",
    "        \n",
    "    def deposito(self, valor):\n",
    "        self._saldo += valor\n",
    "    \n",
    "    def retirada(self, valor):\n",
    "        if valor >= self._saldo:\n",
    "            self._saldo -= valor\n",
    "        else:\n",
    "            print(\"Saque não realizado. Saldo Insuficiente\")\n",
    "        \n",
    "class ContaPoupanca(ContaBancaria):\n",
    "    taxa_juros = 0.05\n",
    "    \n",
    "    def calcular_juros(self):\n",
    "        self._saldo += self._saldo * self.taxa_juros\n",
    "        \n",
    "class ContaCorrente(ContaBancaria):\n",
    "    taxa_juros = 0.02\n",
    "    \n",
    "    def calcular_juros(self):\n",
    "        self._saldo += self._saldo * self.taxa_juros\n",
    "        \n",
    "conta_poupanca = ContaPoupanca(2000)\n",
    "conta_corrente = ContaCorrente(2000)\n",
    "\n",
    "print(\"Antes dos juros: saldo da Conta Poupança:\", conta_poupanca._saldo, \"reais\")\n",
    "conta_poupanca.calcular_juros()\n",
    "print(\"Depois dos juros: saldo da Conta Poupança:\", conta_poupanca._saldo, \"reais\")\n",
    "\n",
    "print(\"Antes dos juros: saldo da Conta Corrente:\", conta_corrente._saldo, \"reais\")\n",
    "conta_corrente.calcular_juros()\n",
    "print(\"Depois dos juros: saldo da Conta Corrente:\", conta_corrente._saldo, \"reais\")"
   ]
  }
 ],
 "metadata": {
  "kernelspec": {
   "display_name": "Python 3",
   "language": "python",
   "name": "python3"
  },
  "language_info": {
   "codemirror_mode": {
    "name": "ipython",
    "version": 3
   },
   "file_extension": ".py",
   "mimetype": "text/x-python",
   "name": "python",
   "nbconvert_exporter": "python",
   "pygments_lexer": "ipython3",
   "version": "3.10.12"
  }
 },
 "nbformat": 4,
 "nbformat_minor": 2
}
