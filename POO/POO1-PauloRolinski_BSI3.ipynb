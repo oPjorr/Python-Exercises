{
  "nbformat": 4,
  "nbformat_minor": 0,
  "metadata": {
    "colab": {
      "provenance": []
    },
    "kernelspec": {
      "name": "python3",
      "display_name": "Python 3"
    },
    "language_info": {
      "name": "python"
    }
  },
  "cells": [
    {
      "cell_type": "markdown",
      "source": [
        "# Introdução a Programação orientada a objetos\n",
        "\n",
        "## Classes e Objetos"
      ],
      "metadata": {
        "id": "MdAzCL3Rv_GW"
      }
    },
    {
      "cell_type": "markdown",
      "source": [
        "1. Qual das alternativas abaixo melhor define o termo “classe”?\n",
        "\n",
        "  a) Uma coleção de variáveis e funções trabalhando com essas variáveis.\n",
        "\n",
        "  `b) Define e obtém as propriedades e métodos dela.`\n",
        "\n",
        "  c) É a personificação de um objeto da vida real."
      ],
      "metadata": {
        "id": "zPlSoMRc9KJN"
      }
    },
    {
      "cell_type": "markdown",
      "source": [
        "2. Qual das alternativas abaixo melhor define o termo “objeto”?\n",
        "\n",
        "  `a) Um objeto nos dá a capacidade de trabalhar com a classe e ter várias instâncias desta mesma classe.`\n",
        "\n",
        "  b) Uma variável dentro de uma classe.\n",
        "\n",
        "  c) Uma função dentro de uma classe."
      ],
      "metadata": {
        "id": "WHWDaY8D8Jc4"
      }
    },
    {
      "cell_type": "markdown",
      "source": [
        "3. Qual das alternativas abaixo melhor explica o termo \"propriedade\"?\n",
        "\n",
        "  a) Agrupa o código relacionado a um tópico.\n",
        "\n",
        "  `b) Uma variável dentro de uma classe.`\n",
        "\n",
        "  c) Uma função dentro de uma classe."
      ],
      "metadata": {
        "id": "nD93r5yO9QIL"
      }
    },
    {
      "cell_type": "markdown",
      "source": [
        "4. Qual das alternativas abaixo melhor explica o termo \"método\"?\n",
        "\n",
        "  `a) Uma função dentro de uma classe.`\n",
        "\n",
        "  b) Uma variável dentro de uma classe.\n",
        "\n",
        "  c) A incorporação de uma ação real."
      ],
      "metadata": {
        "id": "8yokXx6h9V7Q"
      }
    },
    {
      "cell_type": "markdown",
      "source": [
        "# Exercício de codificação\n"
      ],
      "metadata": {
        "id": "bn16220AwWlA"
      }
    },
    {
      "cell_type": "markdown",
      "source": [
        "  Quase todos os aplicativos ou blogs lidam com os usuários. Seja o processo de registro (cadastro), o login e logout, o envio de lembretes aos usuários que perderam suas senhas ou a alteração delas sob demanda, todo o código que lida com os usuários pode ser agrupado em uma única classe. Em nosso exemplo, chamamos a classe que lida com usuários, Usuario, de acordo com a convenção de nomenclatura vigente. Vamos escrever uma classe Usuario com as ferramentas que acabamos de adquirir. Esta classe conterá o nome e sobrenome de cada usuário e será capaz de dizer “Olá” a qualquer pessoa que use nosso aplicativo.\n"
      ],
      "metadata": {
        "id": "OSEXvKkh9f_z"
      }
    },
    {
      "cell_type": "markdown",
      "source": [
        "5. Escreva o que você acha que deveria ser o nome da classe, os nomes das propriedades para o\n",
        "primeiro e último nome (sobrenome) e o nome do método que retorna “Olá”.\n",
        "\n",
        "```python\n",
        "Nome_da_classe = 'Usuario'\n",
        "\n",
        "Propriedades = 'nome', 'sobrenome'\n",
        "\n",
        "Método = hello()\n",
        "```"
      ],
      "metadata": {
        "id": "RxaK6Dx_wavQ"
      }
    },
    {
      "cell_type": "markdown",
      "source": [
        "6. Escreva a classe Usuario e adicione as propriedades e o método (em Python):"
      ],
      "metadata": {
        "id": "OK3M7qMD96bb"
      }
    },
    {
      "cell_type": "code",
      "source": [
        "class Usuario():\n",
        "  nome = ''\n",
        "  sobrenome = ''\n",
        "\n",
        "  def hello(self):\n",
        "    return 'Olá! Meu nome é' + ' ' + self.nome + ' ' + self.sobrenome"
      ],
      "metadata": {
        "id": "_16Ee6x297I9"
      },
      "execution_count": 9,
      "outputs": []
    },
    {
      "cell_type": "markdown",
      "source": [
        "7. Crie a primeira instância e chame-a de usuario1."
      ],
      "metadata": {
        "id": "U10ieXve98CX"
      }
    },
    {
      "cell_type": "code",
      "source": [
        "usuario1 = Usuario()"
      ],
      "metadata": {
        "id": "3uXFsM1I9_BN"
      },
      "execution_count": 3,
      "outputs": []
    },
    {
      "cell_type": "markdown",
      "source": [
        "8. Defina os valores do primeiro e último nome para usuario1."
      ],
      "metadata": {
        "id": "SJhRB38j-By7"
      }
    },
    {
      "cell_type": "code",
      "source": [
        "usuario1.nome = 'João'\n",
        "usuario1.sobrenome = 'Santos'"
      ],
      "metadata": {
        "id": "MluBw7xk-CJ8"
      },
      "execution_count": 12,
      "outputs": []
    },
    {
      "cell_type": "markdown",
      "source": [
        "9. Obter o nome e sobrenome do usuário e imprima-os na tela com o comando print."
      ],
      "metadata": {
        "id": "4uMlOnTa-GOI"
      }
    },
    {
      "cell_type": "code",
      "source": [
        "print(usuario1.nome, usuario1.sobrenome)"
      ],
      "metadata": {
        "id": "mrvXBBN6-Hk9"
      },
      "execution_count": null,
      "outputs": []
    },
    {
      "cell_type": "markdown",
      "source": [
        "10. Use o método que retorna “Olá” com as variáveis primeiro nome e último nome para dizer Olá ao\n",
        "usuário."
      ],
      "metadata": {
        "id": "MlkIdp_s-KP2"
      }
    },
    {
      "cell_type": "code",
      "source": [
        "print(usuario1.hello())"
      ],
      "metadata": {
        "id": "ez1nG46K-LDM"
      },
      "execution_count": null,
      "outputs": []
    },
    {
      "cell_type": "markdown",
      "source": [
        "11. Crie (instancie) outro objeto. Chame-o de usuario2, dê a ele o primeiro nome de “Jane” e o\n",
        "sobrenome de “Silva”, e depois diga “Olá” ao usuário."
      ],
      "metadata": {
        "id": "tJuIxL4g-Lop"
      }
    },
    {
      "cell_type": "code",
      "source": [
        "usuario2 = Usuario()\n",
        "usuario2.nome = \"Jane\"\n",
        "usuario2.sobrenome = \"Silva\"\n",
        "\n",
        "print(usuario2.hello())"
      ],
      "metadata": {
        "id": "emzDrsOm-NP8"
      },
      "execution_count": null,
      "outputs": []
    },
    {
      "cell_type": "markdown",
      "source": [
        "# Créditos"
      ],
      "metadata": {
        "id": "pXAJroGXTcYr"
      }
    },
    {
      "cell_type": "markdown",
      "source": [
        "* Elaborado pelo discente Paulo Cesar Fernandes de Oliveira\n",
        "\n",
        "* Resolvido pelo aluno Paulo José de Oliveira Rolinski\n",
        "\n",
        "* Github: https://github.com/oPjorr\n",
        "\n",
        "* LinkedIn: https://www.linkedin.com/in/paulo-rolinski-1652971b1/\n"
      ],
      "metadata": {
        "id": "jXRSW_fETfiW"
      }
    }
  ]
}