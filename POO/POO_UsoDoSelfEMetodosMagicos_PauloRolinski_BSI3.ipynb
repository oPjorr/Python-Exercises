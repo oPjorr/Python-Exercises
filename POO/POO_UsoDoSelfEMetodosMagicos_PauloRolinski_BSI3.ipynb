{
  "cells": [
    {
      "cell_type": "markdown",
      "metadata": {
        "id": "qHRGdM-HxP6z"
      },
      "source": [
        "# Atividade Prática 02\n",
        "# Uso do Self"
      ]
    },
    {
      "cell_type": "markdown",
      "metadata": {
        "id": "j_9r1-nLxx1E"
      },
      "source": [
        "1. Qual palavra-chave (keyword) você usaria para ter acesso às propriedades e métodos de uma classe\n",
        "estando dentro dela?\n",
        "\n",
        "  a) A palavra-chave new\n",
        "\n",
        "  b) A palavra-chave this\n",
        "\n",
        "  `c) A palavra-chave self`"
      ]
    },
    {
      "cell_type": "markdown",
      "metadata": {
        "id": "kOi6oA57yaDo"
      },
      "source": [
        "### Exercício de Codificação\n",
        "\n",
        "Na atividade prática anterior, escrevemos o método hello() dentro da classe Usuario. No exercício a\n",
        "seguir, adicionaremos a este método a capacidade de acessar as propriedades da classe com a palavra-chave\n",
        "self.\n",
        "A classe Usuario poderia ser codificada assim:\n",
        "\n",
        "```python\n",
        "class Usuario():\n",
        "\n",
        "  # as propriedades\n",
        "  primeiroNome = \"\"\n",
        "  ultimoNome = \"\"\n",
        "\n",
        "  #metodo que diz Olá ao usuario\n",
        "  def hello(self):\n",
        "    return \"Olá\"\n",
        "```"
      ]
    },
    {
      "cell_type": "markdown",
      "metadata": {
        "id": "HStqaRU-zws0"
      },
      "source": [
        "2. Acrescente ao método hello() a capacidade de acessar a propriedade primeiroNome, para que\n",
        "o método possa retornar a string \"Olá, primeiroNome\"."
      ]
    },
    {
      "cell_type": "code",
      "execution_count": 2,
      "metadata": {
        "id": "f5GrG_rRzx-N"
      },
      "outputs": [],
      "source": [
        "class Usuario():\n",
        "  primeiroNome = \"\"\n",
        "  ultimoNome = \"\"\n",
        "\n",
        "  def hello(self):\n",
        "    return f'Olá! {self.primeiroNome}'"
      ]
    },
    {
      "cell_type": "markdown",
      "metadata": {
        "id": "5Q0X9YwBzyRm"
      },
      "source": [
        "3. Crie um novo objeto com o primeiro nome de \"Jonnie\" e sobrenome de \"Bravo\"."
      ]
    },
    {
      "cell_type": "code",
      "execution_count": 3,
      "metadata": {
        "id": "N4NBBwqwz05w"
      },
      "outputs": [],
      "source": [
        "usuario1 = Usuario()\n",
        "usuario1.primeiroNome = \"Jonnie\"\n",
        "usuario1.ultimoNome = \"Bravo\""
      ]
    },
    {
      "cell_type": "markdown",
      "metadata": {
        "id": "OHl81sK3z1Ke"
      },
      "source": [
        "4. Use o comando print no método hello() para o objeto usuario1 e observe o resultado."
      ]
    },
    {
      "cell_type": "code",
      "execution_count": 4,
      "metadata": {
        "id": "3pgAkHU1z4rb"
      },
      "outputs": [
        {
          "name": "stdout",
          "output_type": "stream",
          "text": [
            "Olá! Jonnie\n"
          ]
        }
      ],
      "source": [
        "print(usuario1.hello())"
      ]
    },
    {
      "cell_type": "markdown",
      "metadata": {
        "id": "AiPrZ4gq1NOL"
      },
      "source": [
        "# Métodos e constantes mágicos"
      ]
    },
    {
      "cell_type": "markdown",
      "metadata": {
        "id": "9mZXkKkQ1Y9e"
      },
      "source": [
        "Vamos voltar para a classe Usuario que desenvolvemos nas atividades anteriores. E agora vamos definir os\n",
        "valores para o primeiro e último nome através de um método construtor.\n",
        "\n",
        "```python\n",
        "# Esta é a classe Usuario:\n",
        "class Usuario():\n",
        "  primeiroNome = \"\"\n",
        "  ultimoNome = \"\"\n",
        "```"
      ]
    },
    {
      "cell_type": "markdown",
      "metadata": {
        "id": "BjjwK-xt2DTm"
      },
      "source": [
        "1. Acrescente à classe Usuario um método construtor para definir um valor para a propriedade\n",
        "primeiroNome assim que o objeto for criado."
      ]
    },
    {
      "cell_type": "code",
      "execution_count": null,
      "metadata": {
        "id": "3BTK1n4g2Egs"
      },
      "outputs": [],
      "source": [
        "class Usuario():\n",
        "\n",
        "  def __init__(self, primeiroNome):\n",
        "    self.primeiroNome = primeiroNome"
      ]
    },
    {
      "cell_type": "markdown",
      "metadata": {
        "id": "M_5ZCAKY2Ew3"
      },
      "source": [
        "2. Acrescente ao construtor a capacidade de definir o valor da propriedade ultimoNome, bem como a\n",
        "propriedade primeiroNome."
      ]
    },
    {
      "cell_type": "code",
      "execution_count": null,
      "metadata": {
        "id": "swhF9XlP2FaO"
      },
      "outputs": [],
      "source": [
        "class Usuario():\n",
        "\n",
        "  def __init__(self, primeiroNome, ultimoNome):\n",
        "    self.primeiroNome = primeiroNome\n",
        "    self.ultimoNome = ultimoNome"
      ]
    },
    {
      "cell_type": "markdown",
      "metadata": {
        "id": "bcfIOuM02Hlw"
      },
      "source": [
        "3. Adicione à classe Usuario um método chamado getNomeCompleto() que retorna o nome\n",
        "completo do usuário."
      ]
    },
    {
      "cell_type": "code",
      "execution_count": null,
      "metadata": {
        "id": "y-q70vUD2F7g"
      },
      "outputs": [],
      "source": [
        "class Usuario():\n",
        "\n",
        "  def __init__(self, primeiroNome, ultimoNome):\n",
        "    self.primeiroNome = primeiroNome\n",
        "    self.ultimoNome = ultimoNome\n",
        "\n",
        "  def getNomeCompleto(self):\n",
        "    return f'O nome completo do usuário é {self.primeiroNome} {self.ultimoNome}'"
      ]
    },
    {
      "cell_type": "markdown",
      "metadata": {
        "id": "nXhKoXte2Foo"
      },
      "source": [
        "4. Crie um novo objeto, usuario1, e passe para o construtor os valores do primeiro e último nome. O\n",
        "primeiro nome é \"Johnny\" e o sobrenome é \"Bravo\" (você pode escolher sua combinação preferida\n",
        "de primeiro e último nome)."
      ]
    },
    {
      "cell_type": "code",
      "execution_count": null,
      "metadata": {
        "id": "JLBUXQyv2JYm"
      },
      "outputs": [],
      "source": [
        "usuario1 = Usuario(\"Johnny\", \"Bravo\")"
      ]
    },
    {
      "cell_type": "markdown",
      "metadata": {
        "id": "QbalSfPs2d5m"
      },
      "source": [
        "5. Obtenha o nome completo e imprima-o na tela."
      ]
    },
    {
      "cell_type": "code",
      "execution_count": null,
      "metadata": {
        "colab": {
          "base_uri": "https://localhost:8080/"
        },
        "id": "vrZ0aglM2goS",
        "outputId": "255b25b2-191e-4799-c6ce-5a152ca18689"
      },
      "outputs": [
        {
          "name": "stdout",
          "output_type": "stream",
          "text": [
            "O nome completo do usuário é Johnny Bravo\n"
          ]
        }
      ],
      "source": [
        "print(usuario1.getNomeCompleto())"
      ]
    },
    {
      "cell_type": "markdown",
      "metadata": {
        "id": "71Q167BDxbU-"
      },
      "source": [
        "# Créditos"
      ]
    },
    {
      "cell_type": "markdown",
      "metadata": {
        "id": "DjT-4JmWxZqC"
      },
      "source": [
        "* Elaborado pelo discente Paulo Cesar Fernandes de Oliveira\n",
        "\n",
        "* Resolvido pelo aluno Paulo José de Oliveira Rolinski\n",
        "\n",
        "* Github: https://github.com/oPjorr\n",
        "\n",
        "* LinkedIn: https://www.linkedin.com/in/paulo-rolinski-1652971b1/"
      ]
    }
  ],
  "metadata": {
    "colab": {
      "collapsed_sections": [
        "71Q167BDxbU-"
      ],
      "provenance": []
    },
    "kernelspec": {
      "display_name": "Python 3",
      "name": "python3"
    },
    "language_info": {
      "codemirror_mode": {
        "name": "ipython",
        "version": 3
      },
      "file_extension": ".py",
      "mimetype": "text/x-python",
      "name": "python",
      "nbconvert_exporter": "python",
      "pygments_lexer": "ipython3",
      "version": "3.10.12"
    }
  },
  "nbformat": 4,
  "nbformat_minor": 0
}
