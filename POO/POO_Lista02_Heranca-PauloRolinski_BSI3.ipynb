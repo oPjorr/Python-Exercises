{
 "cells": [
  {
   "cell_type": "markdown",
   "metadata": {},
   "source": [
    "1. Crie uma classe Pessoa com os atributos nome e idade. Crie uma classe Aluno que herda de\n",
    "Pessoa e adicione o atributo nota. Crie um método para imprimir as informações da Pessoa e um\n",
    "método para imprimir as informações do Aluno."
   ]
  },
  {
   "cell_type": "code",
   "execution_count": 6,
   "metadata": {},
   "outputs": [
    {
     "name": "stdout",
     "output_type": "stream",
     "text": [
      "O nome dessa pessoa é Paulo e sua idade é 18\n",
      "A nota desse aluno é 10\n"
     ]
    }
   ],
   "source": [
    "class Pessoa():\n",
    "    def __init__(self, nome=\"\", idade=0):\n",
    "        self._idade = idade\n",
    "        self._nome = nome\n",
    "        \n",
    "    def setNomeEIdade(self, nome, idade):\n",
    "        self._idade = idade\n",
    "        self._nome = nome\n",
    "        \n",
    "    def get_info(self):\n",
    "        print(f'O nome dessa pessoa é {self._nome} e sua idade é {self._idade}')\n",
    "    \n",
    "class Aluno(Pessoa):\n",
    "    def __init__(self, nome=\"\", idade=0, nota=0):\n",
    "        super().__init__(nome, idade)\n",
    "        self._nota = nota\n",
    "        \n",
    "    def get_info(self):\n",
    "        super().get_info()\n",
    "        print(f'A nota desse aluno é {self._nota}')\n",
    "        \n",
    "aluno1 = Aluno(\"Paulo\", 18, 10)\n",
    "aluno1.get_info()"
   ]
  },
  {
   "cell_type": "markdown",
   "metadata": {},
   "source": [
    "2. Crie uma classe Veiculo com os atributos marca, modelo e ano. Crie classes filhas Carro e\n",
    "Moto que adicionam o atributo quantidade_de_portas e cilindradas, respectivamente. Crie\n",
    "um método para imprimir as informações do Veiculo e um método para imprimir as informações\n",
    "do Carro e da Moto."
   ]
  },
  {
   "cell_type": "code",
   "execution_count": 10,
   "metadata": {},
   "outputs": [
    {
     "name": "stdout",
     "output_type": "stream",
     "text": [
      "Marca: Yamaha\n",
      "Modelo: factor 150\n",
      "Ano de lançamento: 2018\n",
      "A moto possui: 150 cilindradas\n",
      "\n",
      "\n",
      "Marca: Renault\n",
      "Modelo: Sandero\n",
      "Ano de lançamento: 2016\n",
      "O carro tem: 4 portas\n"
     ]
    }
   ],
   "source": [
    "class Veiculo():\n",
    "    def __init__(self, marca='', modelo='', ano=0):\n",
    "        self._marca = marca\n",
    "        self._modelo = modelo\n",
    "        self._ano = ano\n",
    "        \n",
    "    def get_info(self):\n",
    "        print(f'Marca: {self._marca}')\n",
    "        print(f'Modelo: {self._modelo}')\n",
    "        print(f'Ano de lançamento: {self._ano}')\n",
    "\n",
    "class Carro(Veiculo):\n",
    "    def __init__(self, marca=\"\", modelo=\"\", ano=0, quantidade_de_portas=0):\n",
    "        super().__init__(marca, modelo, ano)\n",
    "        self._quantidade_de_portas = quantidade_de_portas\n",
    "        \n",
    "    def get_info(self):\n",
    "        super().get_info()\n",
    "        print(f'O carro tem: {self._quantidade_de_portas} portas')\n",
    "        \n",
    "class Moto(Veiculo):\n",
    "    def __init__(self, marca=\"\", modelo=\"\", ano=0, cilindradas=0):\n",
    "        super().__init__(marca, modelo, ano)\n",
    "        self._cilindradas = cilindradas\n",
    "        \n",
    "    def get_info(self):\n",
    "        super().get_info()\n",
    "        print(f'A moto possui: {self._cilindradas} cilindradas')\n",
    "        \n",
    "moto1 = Moto('Yamaha', 'factor 150', 2018, 150)\n",
    "carro1 = Carro('Renault', 'Sandero', 2016, 4)\n",
    "\n",
    "moto1.get_info()\n",
    "print('\\n')\n",
    "carro1.get_info()"
   ]
  },
  {
   "cell_type": "markdown",
   "metadata": {},
   "source": [
    "3. Crie uma classe Animal com os atributos nome e peso, e um método comer(). Em seguida, crie\n",
    "duas subclasses, Cachorro e Gato, que herdam da classe Animal. Adicione um método\n",
    "latir() na classe Cachorro e um método miar() na classe Gato."
   ]
  },
  {
   "cell_type": "code",
   "execution_count": 14,
   "metadata": {},
   "outputs": [
    {
     "name": "stdout",
     "output_type": "stream",
     "text": [
      "Woof Woof!!\n",
      "Thor quer comer\n",
      "\n",
      "\n",
      "MIAUUUUUUUUUUU!!\n",
      "Garfield quer comer\n"
     ]
    }
   ],
   "source": [
    "class Animal():\n",
    "    def __init__(self, nome='', peso=0):\n",
    "        self._nome = nome\n",
    "        self._peso = peso\n",
    "        \n",
    "    def comer(self):\n",
    "        print(f'{self._nome} quer comer')\n",
    "        \n",
    "class Cachorro(Animal):\n",
    "    def latir(self):\n",
    "        print(f'Woof Woof!!')\n",
    "        \n",
    "class Gato(Animal):\n",
    "    def miar(self):\n",
    "        print(f'MIAUUUUUUUUUUU!!')\n",
    "        \n",
    "cachorro1 = Cachorro(\"Thor\", 3)\n",
    "gato1 = Gato(\"Garfield\", 2)\n",
    "\n",
    "cachorro1.latir()\n",
    "cachorro1.comer()\n",
    "print('\\n')\n",
    "gato1.miar()\n",
    "gato1.comer()"
   ]
  },
  {
   "cell_type": "markdown",
   "metadata": {},
   "source": [
    "4. Crie uma classe Pessoa com os atributos nome e idade. Em seguida, crie uma classe\n",
    "Funcionario que herda da classe Pessoa e adicione o atributo salario. Crie um método\n",
    "aumento() na classe Funcionario que aumenta o salário em uma porcentagem específica."
   ]
  },
  {
   "cell_type": "code",
   "execution_count": 29,
   "metadata": {},
   "outputs": [
    {
     "name": "stdout",
     "output_type": "stream",
     "text": [
      "O salario de João teve um aumento de 10%. O valor dele agora é 1650.0 reais\n"
     ]
    }
   ],
   "source": [
    "class Pessoa():\n",
    "    def __init__(self, nome='', idade=0):\n",
    "        self._nome = nome\n",
    "        self.idade = idade\n",
    "        \n",
    "class Funcionario(Pessoa):\n",
    "    def __init__(self, nome='', idade=0, salario=0):\n",
    "        super().__init__(nome, idade)\n",
    "        self._salario = salario\n",
    "        \n",
    "    def aumento(self, percentual):\n",
    "        self._salario *= (percentual / 100 + 1)\n",
    "        print(f'O salario de {self._nome} teve um aumento de 10%. O valor dele agora é {round(self._salario, 2)} reais')\n",
    "        \n",
    "funcionario1 = Funcionario(\"João\", 25, 1500)\n",
    "funcionario1.aumento(10)"
   ]
  },
  {
   "cell_type": "markdown",
   "metadata": {},
   "source": [
    "5. Crie uma classe Forma com o método area(). Em seguida, crie duas subclasses: Retangulo e\n",
    "Circulo, que herdam da classe Forma. Adicione os atributos comprimento e largura na\n",
    "classe Retangulo e o atributo raio na classe Circulo. Agora calcula a área de cada polígono."
   ]
  },
  {
   "cell_type": "code",
   "execution_count": 32,
   "metadata": {},
   "outputs": [
    {
     "name": "stdout",
     "output_type": "stream",
     "text": [
      "A área do retângulo é 6\n",
      "A área do retângulo é 12.57\n"
     ]
    }
   ],
   "source": [
    "import math\n",
    "\n",
    "class Forma():\n",
    "    def area(self):\n",
    "        pass\n",
    "    \n",
    "class Retangulo(Forma):\n",
    "    def __init__(self, comprimento=0, largura=0):\n",
    "        self._comprimento = comprimento\n",
    "        self._largura = largura\n",
    "\n",
    "    def area(self):\n",
    "        return self._comprimento * self._largura\n",
    "    \n",
    "class Circulo(Forma):\n",
    "    def __init__(self, raio):\n",
    "        self._raio = raio\n",
    "        \n",
    "    def area(self):\n",
    "        area = math.pi * self._raio ** 2\n",
    "        return round(area, 2)\n",
    "    \n",
    "retangulo1 = Retangulo(3, 2)\n",
    "print('A área do retângulo é', retangulo1.area())\n",
    "\n",
    "circulo1 = Circulo(2)\n",
    "print('A área do círculo é', circulo1.area())\n"
   ]
  },
  {
   "cell_type": "markdown",
   "metadata": {},
   "source": [
    "6. Implemente o Diagrama de Classes de Contas Bancárias ilustrado abaixo.\n",
    "\n",
    "<img src=\"images/conta_prog.PNG\" alt=\"Conta-Imagem\"/>"
   ]
  },
  {
   "cell_type": "code",
   "execution_count": 35,
   "metadata": {},
   "outputs": [],
   "source": [
    "class CCorrente():\n",
    "    def __init__(self, numero=0, saldo=0, cliente=''):\n",
    "        self._numero = numero\n",
    "        self._saldo = saldo\n",
    "        self._cliente = cliente\n",
    "        \n",
    "    def creditar(self, valor):\n",
    "        self._saldo += valor\n",
    "        return self._saldo\n",
    "    \n",
    "    def debitar(self, valor):\n",
    "        self._saldo -= valor\n",
    "        return self._saldo\n",
    "    \n",
    "    def getSaldo(self):\n",
    "        return self._saldo\n",
    "        \n",
    "class CEspecial(CCorrente):\n",
    "    def __init__(self,numero, saldo, cliente, limite):\n",
    "        super().__init__(numero, saldo, cliente)\n",
    "        self._limite = limite\n",
    "\n",
    "class CPoupanca(CCorrente):\n",
    "    def __init__(self,numero, saldo, cliente, saldoMinimo):\n",
    "        super().__init__(numero, saldo, cliente)\n",
    "        self._saldoMinimo = saldoMinimo\n",
    "\n",
    "    def atualizarSaldo(self, taxa_juros):\n",
    "        if self._saldo >- self._saldoMinimo:\n",
    "            juros = self._saldo * taxa_juros\n",
    "            self._saldo += juros\n",
    "            return self._saldo\n",
    "        else:\n",
    "            return self._saldo\n",
    "    \n",
    "    def getSaldoMinimo(self):\n",
    "        return self._saldoMinimo\n",
    "    \n",
    "class CInvestimento(CCorrente):\n",
    "    def __init__(self,numero, saldo, cliente, dataInvestimento, periodo):\n",
    "        super().__init__(numero, saldo, cliente)\n",
    "        self._dataInvestimento = dataInvestimento\n",
    "        self._periodo = periodo\n",
    "        \n",
    "    def atualizarSaldo(self, taxa_rendimento):\n",
    "        rendimento = self._saldo * (taxa_rendimento * self._periodo)\n",
    "        self._saldo += rendimento\n",
    "        return self._saldo"
   ]
  },
  {
   "cell_type": "markdown",
   "metadata": {},
   "source": [
    "7. Implemente o Diagrama de Classes de Empregados ilustrado abaixo.\n",
    "\n",
    "<img src=\"images/emprego-prog.PNG\"></img>\n",
    "\n",
    "Observações:\n",
    "* O aumento do empregado é o salário multiplicado pelo percentual\n",
    "* O aumento do chefe é o salário multiplicado pelo percentual + benefícios\n",
    "* O aumento do estagiário é o salário multiplicado pelo percentual - descontos"
   ]
  },
  {
   "cell_type": "code",
   "execution_count": 49,
   "metadata": {},
   "outputs": [
    {
     "name": "stdout",
     "output_type": "stream",
     "text": [
      "Salário do chefe: 2200.0 reais. Benefício: 35 reais.\n",
      "2200.0\n"
     ]
    }
   ],
   "source": [
    "class Empregado():\n",
    "    def __init__(self, codigo=0, nome='', email='', salario=0):\n",
    "        self._codigo = codigo\n",
    "        self._nome = nome\n",
    "        self._email = email\n",
    "        self._salario = salario\n",
    "        \n",
    "    def getSalario(self):\n",
    "        return self._salario\n",
    "    \n",
    "    def aumentoSalario(self, percentual):\n",
    "        self._salario *= (percentual / 100 + 1)\n",
    "        return round(self._salario, 2)\n",
    "    \n",
    "class Chefe(Empregado):\n",
    "    def __init__(self, nome='', email='', salario=0, beneficio=0):\n",
    "        super().__init__(nome=nome, email=email, salario=salario)\n",
    "        self._beneficio = beneficio\n",
    "        \n",
    "    def aumentoSalario(self, percentual):\n",
    "        novo_salario = super().aumentoSalario(percentual)\n",
    "        return f'Salário do chefe: {novo_salario} reais. Benefício: {self._beneficio} reais.'\n",
    "        \n",
    "class Estagiario(Empregado):\n",
    "    def __init__(self, codigo=0, nome='', email='', salario=0, desconto=0):\n",
    "        super().__init__(codigo=codigo, nome=nome, email=email, salario=salario)\n",
    "        self._desconto = desconto\n",
    "        \n",
    "    def aumentoSalario(self, percentual):\n",
    "        self._salario = super().aumentoSalario(percentual)\n",
    "        return f'Salário do Estagiário: {self._salario} reais. Descontoi: {self._desconto} reais.'\n",
    "        \n",
    "chefe1 = Chefe(\"joão\", 'slas@gmail.com', 2000, 35)\n",
    "print(chefe1.aumentoSalario(10))\n",
    "\n",
    "estagiario1 = Estagiario(123123,\"joão\", 'slas@gmail.com', 2000, 35)\n",
    "print(estagiario1.aumentoSalario(10))"
   ]
  },
  {
   "cell_type": "markdown",
   "metadata": {},
   "source": [
    "8. Implemente o código para as classes abaixo:\n",
    "   \n",
    "    a) crie uma classe chamada Ingresso que possui um valor em reais e um método\n",
    "imprimeValor()\n",
    "\n",
    "    b) crie uma classe VIP que herda de Ingresso e possui um valor adicional. Crie também um método\n",
    "que retorne o valor do ingresso VIP (como o adicional incluído).\n",
    "\n",
    "    c) crie uma classe Normal, que herda Ingresso e possui um método que imprime: \"Ingresso Normal\".\n",
    "\n",
    "    d) crie uma classe CamaroteInferior (que possui a localização do ingresso e métodos para acessar e\n",
    "imprimir esta localização) e uma classe CamaroteSuperior, que é mais cara (possui valor\n",
    "adicional). Esta última possui um método para retornar o valor do ingresso. Ambas as classes herdam\n",
    "a classe VIP."
   ]
  },
  {
   "cell_type": "code",
   "execution_count": null,
   "metadata": {},
   "outputs": [],
   "source": []
  },
  {
   "cell_type": "code",
   "execution_count": null,
   "metadata": {},
   "outputs": [],
   "source": [
    "class Ingresso:\n",
    "    def __init__(self, valor):\n",
    "        self.valor = valor\n",
    "    \n",
    "    def imprimeValor(self):\n",
    "        print(f\"Valor do Ingresso: R$ {self.valor:.2f}\")\n",
    "\n",
    "\n",
    "class VIP(Ingresso):\n",
    "    def __init__(self, valor, adicional):\n",
    "        super().__init__(valor)\n",
    "        self.adicional = adicional\n",
    "    \n",
    "    def valorVIP(self):\n",
    "        return self.valor + self.adicional\n",
    "\n",
    "\n",
    "class Normal(Ingresso):\n",
    "    def imprimeTipo(self):\n",
    "        print(\"Ingresso Normal\")\n",
    "\n",
    "\n",
    "class CamaroteInferior(VIP):\n",
    "    def __init__(self, valor, adicional, localizacao):\n",
    "        super().__init__(valor, adicional)\n",
    "        self.localizacao = localizacao\n",
    "    \n",
    "    def imprimeLocalizacao(self):\n",
    "        print(f\"Localização do Ingresso: {self.localizacao}\")\n",
    "\n",
    "\n",
    "class CamaroteSuperior(VIP):\n",
    "    def __init__(self, valor, adicional):\n",
    "        super().__init__(valor, adicional)\n",
    "    \n",
    "    def valorCamaroteSuperior(self):\n",
    "        return self.valor + self.adicional"
   ]
  },
  {
   "cell_type": "markdown",
   "metadata": {},
   "source": [
    "9. Implemente o código para as classes abaixo:\n",
    "    \n",
    "    a) uma classe Funcionario com os atributos (nome, endereço, telefone, email) e com os\n",
    "métodos (construtor, exibeDados())\n",
    "\n",
    "    b) crie a classe Assistente, que também é Funcionário, e que possui um número de\n",
    "matrícula (use o método get).\n",
    "\n",
    "    c) sabendo que os Assistentes Técnicos possuem um bônus salarial e que os Assistentes Administrativos\n",
    "possuem um turno (dia ou noite) e um adicional noturno, crie as classes Tecnico e\n",
    "Administrativo. Para cada um destas classes, imprima o número de matrícula e o nome de cada\n",
    "um deles."
   ]
  },
  {
   "cell_type": "code",
   "execution_count": null,
   "metadata": {},
   "outputs": [],
   "source": [
    "class Funcionario:\n",
    "    def __init__(self, nome, endereco, telefone, email):\n",
    "        self.nome = nome\n",
    "        self.endereco = endereco\n",
    "        self.telefone = telefone\n",
    "        self.email = email\n",
    "    \n",
    "    def exibeDados(self):\n",
    "        print(\"Nome:\", self.nome)\n",
    "        print(\"Endereço:\", self.endereco)\n",
    "        print(\"Telefone:\", self.telefone)\n",
    "        print(\"Email:\", self.email)\n",
    "\n",
    "\n",
    "class Assistente(Funcionario):\n",
    "    def __init__(self, nome, endereco, telefone, email, matricula):\n",
    "        super().__init__(nome, endereco, telefone, email)\n",
    "        self.__matricula = matricula\n",
    "    \n",
    "    def getMatricula(self):\n",
    "        return self.__matricula\n",
    "\n",
    "\n",
    "class Tecnico(Assistente):\n",
    "    def __init__(self, nome, endereco, telefone, email, matricula, bonus_salarial):\n",
    "        super().__init__(nome, endereco, telefone, email, matricula)\n",
    "        self.bonus_salarial = bonus_salarial\n",
    "    \n",
    "    def imprimeDados(self):\n",
    "        print(\"Matrícula:\", self.getMatricula())\n",
    "        print(\"Nome:\", self.nome)\n",
    "        print(\"Bônus Salarial:\", self.bonus_salarial)\n",
    "\n",
    "\n",
    "class Administrativo(Assistente):\n",
    "    def __init__(self, nome, endereco, telefone, email, matricula, turno, adicional_noturno):\n",
    "        super().__init__(nome, endereco, telefone, email, matricula)\n",
    "        self.turno = turno\n",
    "        self.adicional_noturno = adicional_noturno\n",
    "    \n",
    "    def imprimeDados(self):\n",
    "        print(\"Matrícula:\", self.getMatricula())\n",
    "        print(\"Nome:\", self.nome)\n",
    "        print(\"Turno:\", self.turno)\n",
    "        print(\"Adicional Noturno:\", self.adicional_noturno)"
   ]
  },
  {
   "cell_type": "markdown",
   "metadata": {},
   "source": [
    "10. Observe o Diagrama de Classes na figura abaixo:\n",
    "\n",
    "<img src=\"images/pessoa-prog.PNG\"></img>\n",
    "\n",
    "Faça o seguinte:\n",
    "    a) Crie as classes e métodos conforme o diagrama\n",
    "\n",
    "    b) Instancie uma pessoa pobre e faça trabalhar\n",
    "    \n",
    "    c) Instancie uma pessoa rica e que faça compras"
   ]
  },
  {
   "cell_type": "code",
   "execution_count": 54,
   "metadata": {},
   "outputs": [
    {
     "name": "stdout",
     "output_type": "stream",
     "text": [
      "Trabalhando...\n",
      "Fazendo compras... Gastei 1500 reais\n"
     ]
    }
   ],
   "source": [
    "class Pessoa():\n",
    "    def __init__(self, nome='', idade=0):\n",
    "        self._nome = nome\n",
    "        self._idade = idade\n",
    "    \n",
    "class Rica(Pessoa):\n",
    "    def __init__(self, nome='', idade=0, dinheiro=0):\n",
    "        super().__init__(nome, idade)\n",
    "        self._dinheiro = dinheiro\n",
    "        \n",
    "    def fazCompras(self):\n",
    "        return f'Fazendo compras... Gastei {self._dinheiro} reais'\n",
    "    \n",
    "class Pobre(Pessoa):\n",
    "    def __init__(self, nome='', idade=0,):\n",
    "        super().__init__(nome, idade)\n",
    "        \n",
    "    def trabalha(self):\n",
    "        return 'Trabalhando...'\n",
    "    \n",
    "class Miseravel(Pessoa):\n",
    "    def __init__(self, nome='', idade=0,):\n",
    "        super().__init__(nome, idade)\n",
    "        \n",
    "    def mendiga(self):\n",
    "        return 'Me da dinheiro'\n",
    "    \n",
    "pobre1 = Pobre('alice', 20)\n",
    "print(pobre1.trabalha())\n",
    "\n",
    "rico1 = Rica('Pedro', 15, 1500)\n",
    "print(rico1.fazCompras())"
   ]
  },
  {
   "cell_type": "markdown",
   "metadata": {},
   "source": [
    "# Créditos"
   ]
  },
  {
   "cell_type": "markdown",
   "metadata": {},
   "source": [
    "* Elaborado pelo discente Paulo Cesar Fernandes de Oliveira\n",
    "\n",
    "* Resolvido pelo aluno Paulo José de Oliveira Rolinski\n",
    "\n",
    "* Github: https://github.com/oPjorr\n",
    "\n",
    "* LinkedIn: https://www.linkedin.com/in/paulo-rolinski-1652971b1/"
   ]
  }
 ],
 "metadata": {
  "kernelspec": {
   "display_name": "Python 3",
   "language": "python",
   "name": "python3"
  },
  "language_info": {
   "codemirror_mode": {
    "name": "ipython",
    "version": 3
   },
   "file_extension": ".py",
   "mimetype": "text/x-python",
   "name": "python",
   "nbconvert_exporter": "python",
   "pygments_lexer": "ipython3",
   "version": "3.10.12"
  }
 },
 "nbformat": 4,
 "nbformat_minor": 2
}
